{
 "cells": [
  {
   "cell_type": "markdown",
   "id": "eb92291a-f9fc-40c2-83ac-2fe9f8782075",
   "metadata": {},
   "source": [
    "# Q1. Which keyword is used to create a function? Create a function to return a list of odd numbers in the range of 1 to 25."
   ]
  },
  {
   "cell_type": "markdown",
   "id": "51d625ad-ae73-47c1-ad2d-a950a5fd9bf1",
   "metadata": {},
   "source": [
    "# ANS: def keyword is used to create a function in python"
   ]
  },
  {
   "cell_type": "code",
   "execution_count": 27,
   "id": "206bca3b-dd09-462e-9ed6-c102eba80bf5",
   "metadata": {},
   "outputs": [],
   "source": [
    "def odd_numbers():\n",
    "    num = []\n",
    "    for i in range(1,25):\n",
    "        if i % 2 == 1:\n",
    "            num.append(i)\n",
    "    return num\n",
    "            "
   ]
  },
  {
   "cell_type": "code",
   "execution_count": 30,
   "id": "0ae197d1-8012-43fd-b6a4-305280703ba6",
   "metadata": {},
   "outputs": [
    {
     "name": "stdout",
     "output_type": "stream",
     "text": [
      "[1, 3, 5, 7, 9, 11, 13, 15, 17, 19, 21, 23]\n"
     ]
    }
   ],
   "source": [
    "print(odd_numbers())"
   ]
  },
  {
   "cell_type": "markdown",
   "id": "2ca2bf78-9562-46c2-b951-345d0a37cae8",
   "metadata": {},
   "source": [
    "# Q2. Why *args and **kwargs is used in some functions? Create a function each for *args and **kwargs to demonstrate their use."
   ]
  },
  {
   "cell_type": "code",
   "execution_count": 32,
   "id": "7b21aeed-ef03-4824-92b5-a15be061b81f",
   "metadata": {},
   "outputs": [],
   "source": [
    "# When we are not sure aboout the number of arguments pass inside the function. \n",
    "# Python has *args and **kwargs which allow us to pass the variable number of non keyword arguments to function.\n",
    "# args (non key word argument) like list and tuple\n",
    "# kwargs (key word argument) like dictionary"
   ]
  },
  {
   "cell_type": "code",
   "execution_count": 35,
   "id": "2d2d2dca-9541-434d-b571-d595bf8b93f4",
   "metadata": {},
   "outputs": [],
   "source": [
    "# EXAMPLE *args\n",
    "def adder(*num):\n",
    "    sum = 0\n",
    "    for n in num:\n",
    "        sum = sum + n\n",
    "    print(\"The sum is\", sum)\n",
    "        "
   ]
  },
  {
   "cell_type": "code",
   "execution_count": 36,
   "id": "1fc9a6d9-157e-4de0-bb56-431c18b3907f",
   "metadata": {},
   "outputs": [
    {
     "name": "stdout",
     "output_type": "stream",
     "text": [
      "The sum is 24\n"
     ]
    }
   ],
   "source": [
    "adder(5,4,7,8)"
   ]
  },
  {
   "cell_type": "code",
   "execution_count": 37,
   "id": "72bba15f-aadb-4121-b4bf-5737046e58db",
   "metadata": {},
   "outputs": [],
   "source": [
    "# EXAMPLE **kwargs\n",
    "# In the function, we use the double asterisk ** before the parameter name to denote this type of argument. \n",
    "# The arguments are passed as a dictionary"
   ]
  },
  {
   "cell_type": "code",
   "execution_count": 38,
   "id": "d6eb4c74-d838-46da-a6a4-47ff07a33a37",
   "metadata": {},
   "outputs": [],
   "source": [
    "def test(**kwargs):\n",
    "    return kwargs"
   ]
  },
  {
   "cell_type": "code",
   "execution_count": 39,
   "id": "ee05dae7-3617-4312-a09d-5c61b7952599",
   "metadata": {},
   "outputs": [
    {
     "data": {
      "text/plain": [
       "{}"
      ]
     },
     "execution_count": 39,
     "metadata": {},
     "output_type": "execute_result"
    }
   ],
   "source": [
    "test()"
   ]
  },
  {
   "cell_type": "code",
   "execution_count": 47,
   "id": "56a669d5-aceb-45dc-878f-43699f1fb33e",
   "metadata": {},
   "outputs": [
    {
     "data": {
      "text/plain": [
       "{'key1': 'value1', 'key2': 'value2'}"
      ]
     },
     "execution_count": 47,
     "metadata": {},
     "output_type": "execute_result"
    }
   ],
   "source": [
    "# adding the key value pair\n",
    "test(key1 = \"value1\", key2 = \"value2\")"
   ]
  },
  {
   "cell_type": "markdown",
   "id": "ac435bef-1d52-4648-9101-07a66d8fcdf6",
   "metadata": {},
   "source": [
    "# Q3. What is an iterator in python? Name the method used to initialise the iterator object and the method used for iteration. Use these methods to print the first five elements of the given list [2, 4, 6, 8, 10, 12, 14, 16, 18, 20]."
   ]
  },
  {
   "cell_type": "code",
   "execution_count": 48,
   "id": "58bb63c8-15f1-4539-ac24-c9ada3a85a18",
   "metadata": {},
   "outputs": [],
   "source": [
    "# Iterators are the objects that use the next() method to get the next value of the sequence.\n",
    "# It is used to iterate over iterable objects like lists, tuples, dicts, and sets. \n",
    "# The iterator object is initialized using the iter() method. It uses the next() method for iteration."
   ]
  },
  {
   "cell_type": "code",
   "execution_count": 52,
   "id": "436ee410-c0d0-43f3-913d-ac26fd13d30c",
   "metadata": {},
   "outputs": [
    {
     "name": "stdout",
     "output_type": "stream",
     "text": [
      "I\n"
     ]
    }
   ],
   "source": [
    "# EXAMPLE\n",
    "string = \"IIT\"\n",
    "iterator = iter(string)\n",
    "\n",
    "print(next(iterator))"
   ]
  },
  {
   "cell_type": "code",
   "execution_count": 53,
   "id": "ae34410e-5dbf-484c-b8d4-cb25574976f2",
   "metadata": {},
   "outputs": [
    {
     "name": "stdout",
     "output_type": "stream",
     "text": [
      "I\n"
     ]
    }
   ],
   "source": [
    "print(next(iterator))"
   ]
  },
  {
   "cell_type": "code",
   "execution_count": 54,
   "id": "a33d3e5d-3592-4d09-a66b-f87563cdc709",
   "metadata": {},
   "outputs": [
    {
     "name": "stdout",
     "output_type": "stream",
     "text": [
      "T\n"
     ]
    }
   ],
   "source": [
    "print(next(iterator))"
   ]
  },
  {
   "cell_type": "code",
   "execution_count": 55,
   "id": "f3f5ca3e-8453-4534-9853-33cf7bcf4219",
   "metadata": {},
   "outputs": [],
   "source": [
    "# Iter() method is used to initialize the iterator object \n",
    "# Next() method is used for iteration"
   ]
  },
  {
   "cell_type": "code",
   "execution_count": 57,
   "id": "99f9b0f0-2e81-4dd7-9f1d-e091ceb345e9",
   "metadata": {},
   "outputs": [],
   "source": [
    "list = [2, 4, 6, 8, 10, 12, 14,16, 18, 20]"
   ]
  },
  {
   "cell_type": "code",
   "execution_count": 58,
   "id": "dcb76ef3-b131-41a7-82d6-16fbf87202fd",
   "metadata": {},
   "outputs": [
    {
     "name": "stdout",
     "output_type": "stream",
     "text": [
      "2\n"
     ]
    }
   ],
   "source": [
    "iterator = iter(list)\n",
    "print(next(iterator))"
   ]
  },
  {
   "cell_type": "code",
   "execution_count": 59,
   "id": "ed18e4c5-15cd-44a0-a105-db990cda5c42",
   "metadata": {},
   "outputs": [
    {
     "name": "stdout",
     "output_type": "stream",
     "text": [
      "4\n"
     ]
    }
   ],
   "source": [
    "print(next(iterator))"
   ]
  },
  {
   "cell_type": "code",
   "execution_count": 60,
   "id": "a0a53d55-12be-4092-b20d-2a85999c2d92",
   "metadata": {},
   "outputs": [
    {
     "name": "stdout",
     "output_type": "stream",
     "text": [
      "6\n"
     ]
    }
   ],
   "source": [
    "print(next(iterator))"
   ]
  },
  {
   "cell_type": "code",
   "execution_count": 61,
   "id": "0d9057a4-4a7a-430e-82b9-e16873809a27",
   "metadata": {},
   "outputs": [
    {
     "name": "stdout",
     "output_type": "stream",
     "text": [
      "8\n"
     ]
    }
   ],
   "source": [
    "print(next(iterator))"
   ]
  },
  {
   "cell_type": "code",
   "execution_count": 62,
   "id": "a587d863-5770-4de0-9e16-a1ff1137c801",
   "metadata": {},
   "outputs": [
    {
     "name": "stdout",
     "output_type": "stream",
     "text": [
      "10\n"
     ]
    }
   ],
   "source": [
    "print(next(iterator))"
   ]
  },
  {
   "cell_type": "markdown",
   "id": "04898b34-aebc-4a6e-8cf1-ab58b83b9156",
   "metadata": {},
   "source": [
    "# Q4. What is a generator function in python? Why yield keyword is used? Give an example of a generator function."
   ]
  },
  {
   "cell_type": "code",
   "execution_count": 3,
   "id": "53fd31d3-8c78-48ec-ab2c-97fbb5373cd1",
   "metadata": {},
   "outputs": [],
   "source": [
    "# In Python, a generator is a function that returns an iterator that produces a sequence of values when iterated over. \n",
    "# Generators are useful when we want to produce a large sequence of values, \n",
    "# but we don't want to store all of them in memory at once"
   ]
  },
  {
   "cell_type": "code",
   "execution_count": 4,
   "id": "7244af3f-7749-4437-ba70-bad49c586fad",
   "metadata": {},
   "outputs": [],
   "source": [
    "# The yield keyword in Python controls the flow of a generator function. \n",
    "# This is similar to a return statement used for returning values in Python. However, there is a difference.\n",
    "\n",
    "# When you call a function that has a yield statement,\n",
    "# as soon as a yield is encountered, the execution of the function halts \n",
    "# and returns a generator iterator object instead of simply returning a value"
   ]
  },
  {
   "cell_type": "code",
   "execution_count": 21,
   "id": "2630968b-033d-472f-bdde-05dac53023f0",
   "metadata": {},
   "outputs": [],
   "source": [
    "# EXAMPLE OF GENERATOR\n",
    "def fiboonacci_series(n):\n",
    "    a = 0\n",
    "    b = 1\n",
    "    for i in range(n):\n",
    "        yield a\n",
    "        a,b = b, a + b\n",
    "    "
   ]
  },
  {
   "cell_type": "code",
   "execution_count": 22,
   "id": "9c2e0e33-69d0-45b8-8a01-6538b5bb5aec",
   "metadata": {},
   "outputs": [
    {
     "data": {
      "text/plain": [
       "<generator object fiboonacci_series at 0x7f637423b530>"
      ]
     },
     "execution_count": 22,
     "metadata": {},
     "output_type": "execute_result"
    }
   ],
   "source": [
    "fiboonacci_series(5)"
   ]
  },
  {
   "cell_type": "code",
   "execution_count": 23,
   "id": "f2bb4fc1-4642-4eb3-8205-9dfb8cdc6ccf",
   "metadata": {},
   "outputs": [
    {
     "name": "stdout",
     "output_type": "stream",
     "text": [
      "0\n",
      "1\n",
      "1\n",
      "2\n",
      "3\n"
     ]
    }
   ],
   "source": [
    "for i in fiboonacci_series(5):\n",
    "    print(i)"
   ]
  },
  {
   "cell_type": "markdown",
   "id": "a48542d6-84be-49b5-bed9-10c3023434d6",
   "metadata": {},
   "source": [
    "# Q5. Create a generator function for prime numbers less than 1000. Use the next() method to print the first 20 prime numbers."
   ]
  },
  {
   "cell_type": "code",
   "execution_count": null,
   "id": "658b47de-7a40-415d-9056-d03d6bcca4d2",
   "metadata": {},
   "outputs": [],
   "source": [
    "\n",
    "        \n",
    "    "
   ]
  },
  {
   "cell_type": "code",
   "execution_count": 5,
   "id": "15e1e1de-6150-42bc-bc97-567c6ad2d2ec",
   "metadata": {},
   "outputs": [],
   "source": [
    "def primes():\n",
    "    \"\"\"Generator function that yields prime numbers less than 1000.\"\"\"\n",
    "    # Start with the first prime number\n",
    "    num = 2\n",
    "    while num < 1000:\n",
    "        # Check if num is prime\n",
    "        for i in range(2, num):\n",
    "            if num % i == 0:\n",
    "                break\n",
    "        else:\n",
    "            yield num\n",
    "        # Move to the next number\n",
    "        num += 1"
   ]
  },
  {
   "cell_type": "code",
   "execution_count": 11,
   "id": "92ca0159-fce8-4d8b-a0ec-e057e44bf01f",
   "metadata": {},
   "outputs": [],
   "source": [
    "prime_gen1 = primes()"
   ]
  },
  {
   "cell_type": "code",
   "execution_count": 12,
   "id": "47cf6e1f-9564-43fd-88ef-e43578578fc5",
   "metadata": {},
   "outputs": [
    {
     "name": "stdout",
     "output_type": "stream",
     "text": [
      "2\n",
      "3\n",
      "5\n",
      "7\n",
      "11\n",
      "13\n",
      "17\n",
      "19\n",
      "23\n",
      "29\n",
      "31\n",
      "37\n",
      "41\n",
      "43\n",
      "47\n",
      "53\n",
      "59\n",
      "61\n",
      "67\n",
      "71\n"
     ]
    }
   ],
   "source": [
    "for i in range(20):\n",
    "    print(next(prime_gen1))"
   ]
  },
  {
   "cell_type": "markdown",
   "id": "78ec4599-5349-429d-bb5b-cc19b6adfddb",
   "metadata": {},
   "source": [
    "# Q6. Write a python program to print the first 10 Fibonacci numbers using a while loop."
   ]
  },
  {
   "cell_type": "code",
   "execution_count": 16,
   "id": "77ed96b6-6450-471e-bb14-eb807f12a439",
   "metadata": {},
   "outputs": [
    {
     "name": "stdin",
     "output_type": "stream",
     "text": [
      "Enter the limit 5\n"
     ]
    },
    {
     "name": "stdout",
     "output_type": "stream",
     "text": [
      "0\n",
      "1\n",
      "1\n",
      "2\n",
      "3\n"
     ]
    }
   ],
   "source": [
    "num = int(input(\"Enter the limit\"))\n",
    "a = 0\n",
    "b = 1\n",
    "counter = 0\n",
    "while counter < num:\n",
    "    print(a)\n",
    "    c = a +b\n",
    "    a = b\n",
    "    b = c\n",
    "    counter = counter + 1"
   ]
  },
  {
   "cell_type": "markdown",
   "id": "4e4d86c5-6c07-42ee-91ff-42952bd4e51c",
   "metadata": {},
   "source": [
    "# Q7. Write a List Comprehension to iterate through the given string: ‘pwskills’.\n",
    "# Expected output: ['p', 'w', 's', 'k', 'i', 'l', 'l', 's']"
   ]
  },
  {
   "cell_type": "code",
   "execution_count": 18,
   "id": "ad50bc07-d572-4d35-b29d-22414ca49e2c",
   "metadata": {},
   "outputs": [
    {
     "name": "stdout",
     "output_type": "stream",
     "text": [
      "['p', 'w', 's', 'k', 'i', 'l', 'l', 's']\n"
     ]
    }
   ],
   "source": [
    "string = \"pwskills\"\n",
    "output = [string for string in \"pwskills\"]\n",
    "print(output)"
   ]
  },
  {
   "cell_type": "markdown",
   "id": "22303e63-f2d1-4b6e-8cfa-e20b2c02a9bb",
   "metadata": {},
   "source": [
    "# Q8. Write a python program to check whether a given number is Palindrome or not using a while loop."
   ]
  },
  {
   "cell_type": "code",
   "execution_count": 19,
   "id": "3ea6b7d3-eba5-4c1c-98c8-e6fc16fef9d6",
   "metadata": {},
   "outputs": [],
   "source": [
    "# reverse of the number is euqal to number itsely 525 = 525"
   ]
  },
  {
   "cell_type": "code",
   "execution_count": 20,
   "id": "855f17ad-fbfd-4b0f-a54a-38f7d6b99e1f",
   "metadata": {},
   "outputs": [
    {
     "name": "stdin",
     "output_type": "stream",
     "text": [
      "Enter the number:  525\n"
     ]
    },
    {
     "name": "stdout",
     "output_type": "stream",
     "text": [
      "Palindrome nnumber\n"
     ]
    }
   ],
   "source": [
    "i = int(input(\"Enter the number: \"))\n",
    "rev = 0\n",
    "x = i\n",
    "while (i>0):\n",
    "    rev = (rev*10) + i%10\n",
    "    i = i//10\n",
    "if (x == rev):\n",
    "    print(\"Palindrome nnumber\")\n",
    "else:\n",
    "    print(\"Not a palindrome number\")"
   ]
  },
  {
   "cell_type": "markdown",
   "id": "005e2946-a57a-4251-b028-6190a0284fcb",
   "metadata": {},
   "source": [
    "# Q9. Write a code to print odd numbers from 1 to 100 using list comprehension.\n",
    "# Note: Use a list comprehension to create a list from 1 to 100 and use another List comprehension to filter out odd numbers."
   ]
  },
  {
   "cell_type": "code",
   "execution_count": 31,
   "id": "a287680f-70fa-4737-8621-9d556f884f1b",
   "metadata": {},
   "outputs": [],
   "source": [
    "list = [x for x in range(1,100) if x % 2 == 1]\n",
    "\n"
   ]
  },
  {
   "cell_type": "code",
   "execution_count": 25,
   "id": "7a3babad-e7a8-4307-9f76-3783151a36ff",
   "metadata": {},
   "outputs": [
    {
     "data": {
      "text/plain": [
       "[1,\n",
       " 3,\n",
       " 5,\n",
       " 7,\n",
       " 9,\n",
       " 11,\n",
       " 13,\n",
       " 15,\n",
       " 17,\n",
       " 19,\n",
       " 21,\n",
       " 23,\n",
       " 25,\n",
       " 27,\n",
       " 29,\n",
       " 31,\n",
       " 33,\n",
       " 35,\n",
       " 37,\n",
       " 39,\n",
       " 41,\n",
       " 43,\n",
       " 45,\n",
       " 47,\n",
       " 49,\n",
       " 51,\n",
       " 53,\n",
       " 55,\n",
       " 57,\n",
       " 59,\n",
       " 61,\n",
       " 63,\n",
       " 65,\n",
       " 67,\n",
       " 69,\n",
       " 71,\n",
       " 73,\n",
       " 75,\n",
       " 77,\n",
       " 79,\n",
       " 81,\n",
       " 83,\n",
       " 85,\n",
       " 87,\n",
       " 89,\n",
       " 91,\n",
       " 93,\n",
       " 95,\n",
       " 97,\n",
       " 99]"
      ]
     },
     "execution_count": 25,
     "metadata": {},
     "output_type": "execute_result"
    }
   ],
   "source": [
    "\n",
    "list"
   ]
  },
  {
   "cell_type": "code",
   "execution_count": null,
   "id": "4a191609-15f7-4474-92b1-6e58f937ef45",
   "metadata": {},
   "outputs": [],
   "source": []
  }
 ],
 "metadata": {
  "kernelspec": {
   "display_name": "Python 3 (ipykernel)",
   "language": "python",
   "name": "python3"
  },
  "language_info": {
   "codemirror_mode": {
    "name": "ipython",
    "version": 3
   },
   "file_extension": ".py",
   "mimetype": "text/x-python",
   "name": "python",
   "nbconvert_exporter": "python",
   "pygments_lexer": "ipython3",
   "version": "3.10.8"
  }
 },
 "nbformat": 4,
 "nbformat_minor": 5
}
