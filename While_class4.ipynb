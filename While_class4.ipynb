{
  "nbformat": 4,
  "nbformat_minor": 0,
  "metadata": {
    "colab": {
      "provenance": [],
      "authorship_tag": "ABX9TyNsiyTBRhDLr3BwSKo9O4xA",
      "include_colab_link": true
    },
    "kernelspec": {
      "name": "python3",
      "display_name": "Python 3"
    },
    "language_info": {
      "name": "python"
    }
  },
  "cells": [
    {
      "cell_type": "markdown",
      "metadata": {
        "id": "view-in-github",
        "colab_type": "text"
      },
      "source": [
        "<a href=\"https://colab.research.google.com/github/Sourabh535/PW-Skills-Python/blob/main/While_class4.ipynb\" target=\"_parent\"><img src=\"https://colab.research.google.com/assets/colab-badge.svg\" alt=\"Open In Colab\"/></a>"
      ]
    },
    {
      "cell_type": "code",
      "execution_count": null,
      "metadata": {
        "colab": {
          "base_uri": "https://localhost:8080/"
        },
        "id": "ggEhNv8MjTtK",
        "outputId": "de31c961-1bfd-4790-ed7b-4f57589e9962"
      },
      "outputs": [
        {
          "output_type": "stream",
          "name": "stdout",
          "text": [
            "1\n",
            "2\n",
            "3\n",
            "4\n",
            "5\n",
            "6\n",
            "7\n",
            "8\n",
            "9\n",
            "10\n"
          ]
        }
      ],
      "source": [
        "a = 1\n",
        "\n",
        "while a<=10:\n",
        "    print(a)\n",
        "    a = a+1"
      ]
    },
    {
      "cell_type": "code",
      "source": [
        "#Sum up all the number till some point"
      ],
      "metadata": {
        "id": "EJIngHV-jeGw"
      },
      "execution_count": null,
      "outputs": []
    },
    {
      "cell_type": "code",
      "source": [
        "n = int(input(\"Enter your limit number\"))\n",
        "starting_point = 0\n",
        "counter = 1\n",
        "while counter <= n:\n",
        "    starting_point = starting_point + counter\n",
        "    counter = counter + 1\n",
        "print(starting_point)\n"
      ],
      "metadata": {
        "colab": {
          "base_uri": "https://localhost:8080/"
        },
        "id": "LqajhAZfjhRh",
        "outputId": "08ac5f7a-8fb7-45c0-b867-bb8eb29a357c"
      },
      "execution_count": null,
      "outputs": [
        {
          "output_type": "stream",
          "name": "stdout",
          "text": [
            "Enter your limit number5\n",
            "15\n"
          ]
        }
      ]
    },
    {
      "cell_type": "code",
      "source": [
        "# Finding the factorial of the number"
      ],
      "metadata": {
        "id": "AwGCNqWPjjts"
      },
      "execution_count": null,
      "outputs": []
    },
    {
      "cell_type": "code",
      "source": [
        "num = int(input(\"Enter your number\"))\n",
        "factorial = 1\n",
        "while num >0:\n",
        "    factorial = factorial *num\n",
        "    num = num -1\n",
        "factorial"
      ],
      "metadata": {
        "colab": {
          "base_uri": "https://localhost:8080/"
        },
        "id": "iHz_5Z9tjo1r",
        "outputId": "c48f96ca-690d-4ad5-b336-5584be993b67"
      },
      "execution_count": null,
      "outputs": [
        {
          "name": "stdout",
          "output_type": "stream",
          "text": [
            "Enter your number3\n"
          ]
        },
        {
          "output_type": "execute_result",
          "data": {
            "text/plain": [
              "6"
            ]
          },
          "metadata": {},
          "execution_count": 5
        }
      ]
    },
    {
      "cell_type": "code",
      "source": [
        "# Fibonacci series \n",
        "# using while loop\n",
        "# till 5, 0, 1, 1,2,3,5,8,13"
      ],
      "metadata": {
        "id": "X3_05avSjqzn"
      },
      "execution_count": null,
      "outputs": []
    },
    {
      "cell_type": "code",
      "source": [
        "from IPython.core.display import b2a_base64\n",
        "user = int(input(\"Enter the number of element you are loooking for : \"))\n",
        "a = 0\n",
        "b = 1\n",
        "counter = 0\n",
        "while counter < user:\n",
        "  print(a)\n",
        "  c = a+b\n",
        "  a = b\n",
        "  b = c\n",
        "  counter = counter + 1"
      ],
      "metadata": {
        "colab": {
          "base_uri": "https://localhost:8080/"
        },
        "id": "CEmZJWPGkgEe",
        "outputId": "2f9a4f63-b774-4d3a-b4b3-4df82eaa7a7d"
      },
      "execution_count": null,
      "outputs": [
        {
          "output_type": "stream",
          "name": "stdout",
          "text": [
            "Enter the number of element you are loooking for : 6\n",
            "0\n",
            "1\n",
            "1\n",
            "2\n",
            "3\n",
            "5\n"
          ]
        }
      ]
    },
    {
      "cell_type": "code",
      "source": [
        "a = 0\n",
        "b = 1\n",
        "for i in range(10):\n",
        "  print(a)\n",
        "  c = a + b\n",
        "  a = b\n",
        "  b = c\n"
      ],
      "metadata": {
        "colab": {
          "base_uri": "https://localhost:8080/"
        },
        "id": "iZAcu92TlT_7",
        "outputId": "bfe3c0db-30ca-4e82-a292-fc17d51b1554"
      },
      "execution_count": null,
      "outputs": [
        {
          "output_type": "stream",
          "name": "stdout",
          "text": [
            "0\n",
            "1\n",
            "1\n",
            "2\n",
            "3\n",
            "5\n",
            "8\n",
            "13\n",
            "21\n",
            "34\n"
          ]
        }
      ]
    },
    {
      "cell_type": "code",
      "source": [
        "# reverse the string\n",
        "s = \"sourabh\""
      ],
      "metadata": {
        "id": "H7aWLb41m7BJ"
      },
      "execution_count": null,
      "outputs": []
    },
    {
      "cell_type": "code",
      "source": [
        "s [::-1]"
      ],
      "metadata": {
        "colab": {
          "base_uri": "https://localhost:8080/",
          "height": 35
        },
        "id": "8_ZhwvOAnbe0",
        "outputId": "2bc362a9-ff8b-4f5e-b1e9-7a4158a05b8d"
      },
      "execution_count": null,
      "outputs": [
        {
          "output_type": "execute_result",
          "data": {
            "text/plain": [
              "'hbaruos'"
            ],
            "application/vnd.google.colaboratory.intrinsic+json": {
              "type": "string"
            }
          },
          "metadata": {},
          "execution_count": 15
        }
      ]
    },
    {
      "cell_type": "code",
      "source": [
        "# USING WHILE LOOP\n",
        "word = input(\"Enter your word foor reversal: \")\n",
        "reverse =\"\"\n",
        "length = len(word)\n",
        "while length > 0:\n",
        "  reverse = reverse + word[length-1]\n",
        "  length = length -1\n",
        "print(reverse)"
      ],
      "metadata": {
        "colab": {
          "base_uri": "https://localhost:8080/"
        },
        "id": "X3iBctwOnc4i",
        "outputId": "3b23bc4d-68e6-487f-9692-e54312fb190a"
      },
      "execution_count": null,
      "outputs": [
        {
          "output_type": "stream",
          "name": "stdout",
          "text": [
            "Enter your word foor reversal: Sourabh\n",
            "hbaruoS\n"
          ]
        }
      ]
    },
    {
      "cell_type": "code",
      "source": [
        "# Print Table of numbers\n",
        "# using while loop"
      ],
      "metadata": {
        "id": "pPEw8cfUoB9m"
      },
      "execution_count": null,
      "outputs": []
    },
    {
      "cell_type": "code",
      "source": [
        "n = int(input(\"Enter your number\"))\n",
        "i = 1\n",
        "while i <= 10:\n",
        "  result = n * i\n",
        "  print(n, \"*\", i, \"=\", result)\n",
        "  i = i+1\n"
      ],
      "metadata": {
        "colab": {
          "base_uri": "https://localhost:8080/"
        },
        "id": "OcOoHnNlopJG",
        "outputId": "54a1eb95-51da-4d9e-e86a-1cb666369cc5"
      },
      "execution_count": null,
      "outputs": [
        {
          "output_type": "stream",
          "name": "stdout",
          "text": [
            "Enter your number5\n",
            "5 * 1 = 5\n",
            "5 * 2 = 10\n",
            "5 * 3 = 15\n",
            "5 * 4 = 20\n",
            "5 * 5 = 25\n",
            "5 * 6 = 30\n",
            "5 * 7 = 35\n",
            "5 * 8 = 40\n",
            "5 * 9 = 45\n",
            "5 * 10 = 50\n"
          ]
        }
      ]
    },
    {
      "cell_type": "code",
      "source": [
        "# using else with while"
      ],
      "metadata": {
        "id": "f-IL0nIdpMAO"
      },
      "execution_count": null,
      "outputs": []
    },
    {
      "cell_type": "code",
      "source": [
        "n = 5\n",
        "i = 1\n",
        "while i < n:\n",
        "  print(i)\n",
        "  i = i + 1\n",
        "else:\n",
        "  print(\"This will be excuted once yours while will completely succesfull\")"
      ],
      "metadata": {
        "colab": {
          "base_uri": "https://localhost:8080/"
        },
        "id": "btv1qYE0pakr",
        "outputId": "48ff94fd-60b9-4252-f50b-a3d7534376f9"
      },
      "execution_count": null,
      "outputs": [
        {
          "output_type": "stream",
          "name": "stdout",
          "text": [
            "1\n",
            "2\n",
            "3\n",
            "4\n",
            "This will be excuted once yours while will completely succesfull\n"
          ]
        }
      ]
    },
    {
      "cell_type": "code",
      "source": [
        "n = 5\n",
        "i = 1\n",
        "while i < n:\n",
        "  print(i)\n",
        "  if i == 3:\n",
        "    break\n",
        "  i = i + 1\n",
        "else:\n",
        "  print(\"This will be excuted once yours while will completely succesfull\")"
      ],
      "metadata": {
        "colab": {
          "base_uri": "https://localhost:8080/"
        },
        "id": "w-5dGCIlpv6s",
        "outputId": "d6f65568-4159-49bc-ee5d-a9e4e5a75d6c"
      },
      "execution_count": null,
      "outputs": [
        {
          "output_type": "stream",
          "name": "stdout",
          "text": [
            "1\n",
            "2\n",
            "3\n"
          ]
        }
      ]
    },
    {
      "cell_type": "code",
      "source": [
        "#  Comprehasion operations\n",
        "# list coomprehasionn\n"
      ],
      "metadata": {
        "id": "P-hJyGKUp_rH"
      },
      "execution_count": null,
      "outputs": []
    },
    {
      "cell_type": "code",
      "source": [
        "# square of each number in list\n",
        "l = [1,2,3,4,5,6]\n",
        "l1 =[]\n",
        "for i in l:\n",
        "  l1.append(i**2)"
      ],
      "metadata": {
        "id": "jqUU8CRRs2xV"
      },
      "execution_count": null,
      "outputs": []
    },
    {
      "cell_type": "code",
      "source": [
        "print(l1)"
      ],
      "metadata": {
        "colab": {
          "base_uri": "https://localhost:8080/"
        },
        "id": "ZM-Sl5JJs4s1",
        "outputId": "8e40b91c-6f4f-41d4-b5a2-306a5b38673b"
      },
      "execution_count": null,
      "outputs": [
        {
          "output_type": "stream",
          "name": "stdout",
          "text": [
            "[1, 4, 9, 16, 25, 36]\n"
          ]
        }
      ]
    },
    {
      "cell_type": "code",
      "source": [
        "# using in one line\n"
      ],
      "metadata": {
        "id": "ZzttbRZAtaRc"
      },
      "execution_count": null,
      "outputs": []
    },
    {
      "cell_type": "code",
      "source": [
        "[i**2 for i in l]"
      ],
      "metadata": {
        "colab": {
          "base_uri": "https://localhost:8080/"
        },
        "id": "fg5Abwe-tgQj",
        "outputId": "b2d32ae2-ccd5-4413-a489-07942775232d"
      },
      "execution_count": null,
      "outputs": [
        {
          "output_type": "execute_result",
          "data": {
            "text/plain": [
              "[1, 4, 9, 16, 25, 36]"
            ]
          },
          "metadata": {},
          "execution_count": 31
        }
      ]
    },
    {
      "cell_type": "code",
      "source": [
        "l"
      ],
      "metadata": {
        "colab": {
          "base_uri": "https://localhost:8080/"
        },
        "id": "pAeWxvWntlwP",
        "outputId": "8e160881-940b-4519-f749-6fa00fd7f9c8"
      },
      "execution_count": null,
      "outputs": [
        {
          "output_type": "execute_result",
          "data": {
            "text/plain": [
              "[1, 2, 3, 4, 5, 6]"
            ]
          },
          "metadata": {},
          "execution_count": 32
        }
      ]
    },
    {
      "cell_type": "code",
      "source": [
        "# extract the even nnumbers oonly\n",
        "[i for i in l if i %2 ==0 ]"
      ],
      "metadata": {
        "colab": {
          "base_uri": "https://localhost:8080/"
        },
        "id": "t2xoQ_R1tsne",
        "outputId": "4061feea-3edc-4b5d-a632-1213623322b3"
      },
      "execution_count": null,
      "outputs": [
        {
          "output_type": "execute_result",
          "data": {
            "text/plain": [
              "[2, 4, 6]"
            ]
          },
          "metadata": {},
          "execution_count": 34
        }
      ]
    },
    {
      "cell_type": "code",
      "source": [
        "# uppercase\n",
        "l1 = [\"sourahbh\", \"sweta\", \"data science\"]\n",
        "[i.upper() for i in l1 ]"
      ],
      "metadata": {
        "colab": {
          "base_uri": "https://localhost:8080/"
        },
        "id": "IXicboIxt3T3",
        "outputId": "4336e03f-9844-4bd4-d6ea-192200a6483d"
      },
      "execution_count": null,
      "outputs": [
        {
          "output_type": "execute_result",
          "data": {
            "text/plain": [
              "['SOURAHBH', 'SWETA', 'DATA SCIENCE']"
            ]
          },
          "metadata": {},
          "execution_count": 35
        }
      ]
    },
    {
      "cell_type": "code",
      "source": [
        "# dictionary comprension"
      ],
      "metadata": {
        "id": "jqfeDYecuNtV"
      },
      "execution_count": null,
      "outputs": []
    },
    {
      "cell_type": "code",
      "source": [
        "d = {\"key1\":1, \"key2\": 2, \"key3\" : 3}\n"
      ],
      "metadata": {
        "id": "eK7GJZvQuXYL"
      },
      "execution_count": null,
      "outputs": []
    },
    {
      "cell_type": "code",
      "source": [
        "{k:v for k ,v in d.items()}"
      ],
      "metadata": {
        "colab": {
          "base_uri": "https://localhost:8080/"
        },
        "id": "OcisEbCF0Dw3",
        "outputId": "4d6ca4bb-5c0a-462e-d64c-6424bb34372a"
      },
      "execution_count": null,
      "outputs": [
        {
          "output_type": "execute_result",
          "data": {
            "text/plain": [
              "{'key1': 1, 'key2': 2, 'key3': 3}"
            ]
          },
          "metadata": {},
          "execution_count": 39
        }
      ]
    },
    {
      "cell_type": "code",
      "source": [
        "d.items()"
      ],
      "metadata": {
        "colab": {
          "base_uri": "https://localhost:8080/"
        },
        "id": "5QJb3KEq0uKp",
        "outputId": "4dad378d-ca1c-4047-b8f1-bf38faab12cc"
      },
      "execution_count": null,
      "outputs": [
        {
          "output_type": "execute_result",
          "data": {
            "text/plain": [
              "dict_items([('key1', 1), ('key2', 2), ('key3', 3)])"
            ]
          },
          "metadata": {},
          "execution_count": 40
        }
      ]
    },
    {
      "cell_type": "code",
      "source": [
        "{k:v for k,v in d.items() if v > 1}"
      ],
      "metadata": {
        "colab": {
          "base_uri": "https://localhost:8080/"
        },
        "id": "DmP8Y8b_0w58",
        "outputId": "9cc3ed15-8978-4318-c9e0-740607dbfb29"
      },
      "execution_count": null,
      "outputs": [
        {
          "output_type": "execute_result",
          "data": {
            "text/plain": [
              "{'key2': 2, 'key3': 3}"
            ]
          },
          "metadata": {},
          "execution_count": 42
        }
      ]
    },
    {
      "cell_type": "code",
      "source": [
        "# FUNCTIONS"
      ],
      "metadata": {
        "id": "RiObgk6405SV"
      },
      "execution_count": null,
      "outputs": []
    },
    {
      "cell_type": "code",
      "source": [
        "  print(\" THIS IS MY PRINT \")"
      ],
      "metadata": {
        "colab": {
          "base_uri": "https://localhost:8080/"
        },
        "id": "NzscYhdr1XoF",
        "outputId": "03254993-ee0a-48bb-dc06-50b1f61e33b8"
      },
      "execution_count": null,
      "outputs": [
        {
          "output_type": "stream",
          "name": "stdout",
          "text": [
            " THIS IS MY PRINT \n"
          ]
        }
      ]
    },
    {
      "cell_type": "code",
      "source": [
        "# creatng a function\n",
        "def text1():\n",
        "  print(\"This is my first function\")"
      ],
      "metadata": {
        "id": "ogQlnfBP1fK-"
      },
      "execution_count": null,
      "outputs": []
    },
    {
      "cell_type": "code",
      "source": [
        "# to call a function\n",
        "text1()"
      ],
      "metadata": {
        "colab": {
          "base_uri": "https://localhost:8080/"
        },
        "id": "td6awaV512Mc",
        "outputId": "dab29d34-e9bd-4095-bfa4-b658558d8305"
      },
      "execution_count": null,
      "outputs": [
        {
          "output_type": "stream",
          "name": "stdout",
          "text": [
            "This is my first function\n"
          ]
        }
      ]
    },
    {
      "cell_type": "code",
      "source": [
        "# nonw type + string\n",
        "# dont use print in def function gives none type\n",
        "text1() + \"sourabh\""
      ],
      "metadata": {
        "colab": {
          "base_uri": "https://localhost:8080/",
          "height": 183
        },
        "id": "y-8OrO6H2C2G",
        "outputId": "efe16095-6742-4cc0-bab3-b8f936453f65"
      },
      "execution_count": null,
      "outputs": [
        {
          "output_type": "stream",
          "name": "stdout",
          "text": [
            "This is my first function\n"
          ]
        },
        {
          "output_type": "error",
          "ename": "TypeError",
          "evalue": "ignored",
          "traceback": [
            "\u001b[0;31m---------------------------------------------------------------------------\u001b[0m",
            "\u001b[0;31mTypeError\u001b[0m                                 Traceback (most recent call last)",
            "\u001b[0;32m<ipython-input-50-779c94609ee3>\u001b[0m in \u001b[0;36m<module>\u001b[0;34m\u001b[0m\n\u001b[0;32m----> 1\u001b[0;31m \u001b[0mtext1\u001b[0m\u001b[0;34m(\u001b[0m\u001b[0;34m)\u001b[0m \u001b[0;34m+\u001b[0m \u001b[0;34m\"sourabh\"\u001b[0m\u001b[0;34m\u001b[0m\u001b[0;34m\u001b[0m\u001b[0m\n\u001b[0m",
            "\u001b[0;31mTypeError\u001b[0m: unsupported operand type(s) for +: 'NoneType' and 'str'"
          ]
        }
      ]
    },
    {
      "cell_type": "code",
      "source": [
        "def text1():\n",
        "  return \"This is my first function\""
      ],
      "metadata": {
        "id": "a6OrwhEl2SZD"
      },
      "execution_count": null,
      "outputs": []
    },
    {
      "cell_type": "code",
      "source": [
        "text1()"
      ],
      "metadata": {
        "colab": {
          "base_uri": "https://localhost:8080/",
          "height": 35
        },
        "id": "Xv2OhhB-2o2Y",
        "outputId": "33817c9d-25e8-4b51-ec3a-dcab567b3ee6"
      },
      "execution_count": null,
      "outputs": [
        {
          "output_type": "execute_result",
          "data": {
            "text/plain": [
              "'This is my first function'"
            ],
            "application/vnd.google.colaboratory.intrinsic+json": {
              "type": "string"
            }
          },
          "metadata": {},
          "execution_count": 54
        }
      ]
    },
    {
      "cell_type": "code",
      "source": [
        "text1() + \"sourabh\""
      ],
      "metadata": {
        "colab": {
          "base_uri": "https://localhost:8080/",
          "height": 35
        },
        "id": "HQOwdguZ2trA",
        "outputId": "a130f4bc-ff04-4a0e-f6c4-9cba7c3899a6"
      },
      "execution_count": null,
      "outputs": [
        {
          "output_type": "execute_result",
          "data": {
            "text/plain": [
              "'This is my first functionsourabh'"
            ],
            "application/vnd.google.colaboratory.intrinsic+json": {
              "type": "string"
            }
          },
          "metadata": {},
          "execution_count": 56
        }
      ]
    },
    {
      "cell_type": "code",
      "source": [
        "def text3():\n",
        "  return \"sourabh\", 23,45, [4,5,6]"
      ],
      "metadata": {
        "id": "gn3dZMJX2xx-"
      },
      "execution_count": null,
      "outputs": []
    },
    {
      "cell_type": "code",
      "source": [
        "text3()"
      ],
      "metadata": {
        "colab": {
          "base_uri": "https://localhost:8080/"
        },
        "id": "QmHNqQiW29LZ",
        "outputId": "89cb7a88-0a57-4614-e37c-4fcae3ae8db8"
      },
      "execution_count": null,
      "outputs": [
        {
          "output_type": "execute_result",
          "data": {
            "text/plain": [
              "('sourabh', 23, 45, [4, 5, 6])"
            ]
          },
          "metadata": {},
          "execution_count": 60
        }
      ]
    },
    {
      "cell_type": "code",
      "source": [
        "a,b,c,d = text3()"
      ],
      "metadata": {
        "id": "0qvPs0uY2_Lo"
      },
      "execution_count": null,
      "outputs": []
    },
    {
      "cell_type": "code",
      "source": [
        "a"
      ],
      "metadata": {
        "colab": {
          "base_uri": "https://localhost:8080/",
          "height": 35
        },
        "id": "t63HVs8U3RsE",
        "outputId": "e253432c-027d-4912-8116-7260e439c46d"
      },
      "execution_count": null,
      "outputs": [
        {
          "output_type": "execute_result",
          "data": {
            "text/plain": [
              "'sourabh'"
            ],
            "application/vnd.google.colaboratory.intrinsic+json": {
              "type": "string"
            }
          },
          "metadata": {},
          "execution_count": 63
        }
      ]
    },
    {
      "cell_type": "code",
      "source": [
        "b"
      ],
      "metadata": {
        "colab": {
          "base_uri": "https://localhost:8080/"
        },
        "id": "cdO8dVPS3VWd",
        "outputId": "72bb0c94-eb12-4f8f-b55b-893aae538988"
      },
      "execution_count": null,
      "outputs": [
        {
          "output_type": "execute_result",
          "data": {
            "text/plain": [
              "23"
            ]
          },
          "metadata": {},
          "execution_count": 64
        }
      ]
    },
    {
      "cell_type": "code",
      "source": [
        "c"
      ],
      "metadata": {
        "colab": {
          "base_uri": "https://localhost:8080/"
        },
        "id": "ThAa-WuA3ViF",
        "outputId": "0a10ebed-414b-4e10-a948-df4cec4a9805"
      },
      "execution_count": null,
      "outputs": [
        {
          "output_type": "execute_result",
          "data": {
            "text/plain": [
              "45"
            ]
          },
          "metadata": {},
          "execution_count": 65
        }
      ]
    },
    {
      "cell_type": "code",
      "source": [
        "d"
      ],
      "metadata": {
        "colab": {
          "base_uri": "https://localhost:8080/"
        },
        "id": "n4eY6vXZ3VxO",
        "outputId": "7b4e06cf-90ae-486c-f6d0-2a0e0404bfd7"
      },
      "execution_count": null,
      "outputs": [
        {
          "output_type": "execute_result",
          "data": {
            "text/plain": [
              "[4, 5, 6]"
            ]
          },
          "metadata": {},
          "execution_count": 66
        }
      ]
    },
    {
      "cell_type": "code",
      "source": [
        "a =1\n",
        "b =4"
      ],
      "metadata": {
        "id": "QdOgp3243V_s"
      },
      "execution_count": null,
      "outputs": []
    },
    {
      "cell_type": "code",
      "source": [
        "a, b = 1, 4"
      ],
      "metadata": {
        "id": "relarYom3ax8"
      },
      "execution_count": null,
      "outputs": []
    },
    {
      "cell_type": "code",
      "source": [
        "def text4():\n",
        "  a = (5+6)/7\n",
        "  return a"
      ],
      "metadata": {
        "id": "RNOk2F5y3cof"
      },
      "execution_count": null,
      "outputs": []
    },
    {
      "cell_type": "code",
      "source": [
        "text4()"
      ],
      "metadata": {
        "colab": {
          "base_uri": "https://localhost:8080/"
        },
        "id": "M8pUqsDb3q5m",
        "outputId": "96802fcc-a830-4745-a4d1-c3a4d4b2426d"
      },
      "execution_count": null,
      "outputs": [
        {
          "output_type": "execute_result",
          "data": {
            "text/plain": [
              "1.5714285714285714"
            ]
          },
          "metadata": {},
          "execution_count": 72
        }
      ]
    },
    {
      "cell_type": "code",
      "source": [
        "def text5(a,b,c):\n",
        "  d = (a+b)/2\n",
        "  a = int(input(\"Enter the nnumber\"))\n",
        "  b = int(input(\"Enter second number\"))\n",
        "  c = int(input(\"Enter third number\"))\n",
        "  return d"
      ],
      "metadata": {
        "id": "sbDMhJQ73ydX"
      },
      "execution_count": null,
      "outputs": []
    },
    {
      "cell_type": "code",
      "source": [
        "text5(2,5,8)"
      ],
      "metadata": {
        "colab": {
          "base_uri": "https://localhost:8080/"
        },
        "id": "naMUhpBw4NJO",
        "outputId": "b1b57520-2a8e-4e82-9682-3896613da7b1"
      },
      "execution_count": null,
      "outputs": [
        {
          "name": "stdout",
          "output_type": "stream",
          "text": [
            "Enter the nnumber2\n",
            "Enter second number5\n",
            "Enter third number8\n"
          ]
        },
        {
          "output_type": "execute_result",
          "data": {
            "text/plain": [
              "3.5"
            ]
          },
          "metadata": {},
          "execution_count": 77
        }
      ]
    },
    {
      "cell_type": "code",
      "source": [
        "def text6(a,b):\n",
        "  return a+b"
      ],
      "metadata": {
        "id": "cNlNzqn44O5q"
      },
      "execution_count": null,
      "outputs": []
    },
    {
      "cell_type": "code",
      "source": [
        "text6(5,6)"
      ],
      "metadata": {
        "colab": {
          "base_uri": "https://localhost:8080/"
        },
        "id": "R9jTCkVi4e8W",
        "outputId": "6dd598f6-59fe-4b42-c708-e44c27f8fc67"
      },
      "execution_count": null,
      "outputs": [
        {
          "output_type": "execute_result",
          "data": {
            "text/plain": [
              "11"
            ]
          },
          "metadata": {},
          "execution_count": 79
        }
      ]
    },
    {
      "cell_type": "code",
      "source": [
        "text6(\"sourabh \" , \"rawat\")"
      ],
      "metadata": {
        "colab": {
          "base_uri": "https://localhost:8080/",
          "height": 35
        },
        "id": "ERcqyMmx4glu",
        "outputId": "66210b1c-a672-4fe1-ee6f-c25b612b6398"
      },
      "execution_count": null,
      "outputs": [
        {
          "output_type": "execute_result",
          "data": {
            "text/plain": [
              "'sourabh rawat'"
            ],
            "application/vnd.google.colaboratory.intrinsic+json": {
              "type": "string"
            }
          },
          "metadata": {},
          "execution_count": 83
        }
      ]
    },
    {
      "cell_type": "code",
      "source": [
        "l =[1,2,33, \"sourabh\" , \"singh\", [1,2,3.4]]"
      ],
      "metadata": {
        "id": "Xle-okDu4k7S"
      },
      "execution_count": null,
      "outputs": []
    },
    {
      "cell_type": "code",
      "source": [
        "# wRITE A FUCNTIONN TO TAKE OUT ALL THE INTEGERS AND CREATE A NEW LIST"
      ],
      "metadata": {
        "id": "CYACfgy341gk"
      },
      "execution_count": null,
      "outputs": []
    },
    {
      "cell_type": "code",
      "source": [
        "l1 = []\n",
        "for i in l:\n",
        "  if type(i) == int or type(i) == float:\n",
        "    l1.append(i)"
      ],
      "metadata": {
        "id": "0KkdNPFg48cY"
      },
      "execution_count": null,
      "outputs": []
    },
    {
      "cell_type": "code",
      "source": [
        "l1"
      ],
      "metadata": {
        "colab": {
          "base_uri": "https://localhost:8080/"
        },
        "id": "Bj4Hq2xt5J-_",
        "outputId": "3eaa9558-cf8c-498e-c21c-24b11047e686"
      },
      "execution_count": null,
      "outputs": [
        {
          "output_type": "execute_result",
          "data": {
            "text/plain": [
              "[1, 2, 33]"
            ]
          },
          "metadata": {},
          "execution_count": 87
        }
      ]
    },
    {
      "cell_type": "code",
      "source": [
        "def text7(l):\n",
        "  l1 = []\n",
        "  for i in l:\n",
        "    if type(i) == int or type(i) == float:\n",
        "      l1.append(i)\n",
        "  return l1"
      ],
      "metadata": {
        "id": "shBwCeX15LWF"
      },
      "execution_count": null,
      "outputs": []
    },
    {
      "cell_type": "code",
      "source": [
        "text7(l)"
      ],
      "metadata": {
        "colab": {
          "base_uri": "https://localhost:8080/"
        },
        "id": "VuUpK2D45ikR",
        "outputId": "0693e440-ce34-432f-af60-10f721913c3e"
      },
      "execution_count": null,
      "outputs": [
        {
          "output_type": "execute_result",
          "data": {
            "text/plain": [
              "[1, 2, 33]"
            ]
          },
          "metadata": {},
          "execution_count": 103
        }
      ]
    },
    {
      "cell_type": "code",
      "source": [
        "# list inside the list\n",
        "def text8(a):\n",
        "  l = []\n",
        "  for i in a:\n",
        "    if type(i) == list:\n",
        "      for j in i:\n",
        "        l.append(j)\n",
        "    else:\n",
        "      if type(i) == int or type(i) == float:\n",
        "        l.append(i)\n",
        "  return l"
      ],
      "metadata": {
        "id": "W6E1Dt5W5kVt"
      },
      "execution_count": null,
      "outputs": []
    },
    {
      "cell_type": "code",
      "source": [
        "text8(l)"
      ],
      "metadata": {
        "colab": {
          "base_uri": "https://localhost:8080/"
        },
        "id": "pxH8axrI7BXL",
        "outputId": "046974d3-1906-44fa-8ebb-574538465119"
      },
      "execution_count": null,
      "outputs": [
        {
          "output_type": "execute_result",
          "data": {
            "text/plain": [
              "[1, 2, 33, 1, 2, 3.4]"
            ]
          },
          "metadata": {},
          "execution_count": 119
        }
      ]
    },
    {
      "cell_type": "code",
      "source": [
        "def text8(a):\n",
        "  #This is my function to extract num data fro list///\n",
        "  l = []\n",
        "  for i in a:\n",
        "    if type(i) == list:\n",
        "      for j in i:\n",
        "        l.append(j)\n",
        "    else:\n",
        "      if type(i) == int or type(i) == float:\n",
        "        l.append(i)\n",
        "  return l"
      ],
      "metadata": {
        "id": "xvn0CwDq7DkI"
      },
      "execution_count": null,
      "outputs": []
    },
    {
      "cell_type": "code",
      "source": [
        "# any number of data be [passed]\n",
        "# any number oof argument should be passed\\\n",
        "# data should be inside the tuple\n",
        "def test10(*args):\n",
        "  return args"
      ],
      "metadata": {
        "id": "yVmA1F3d87wJ"
      },
      "execution_count": null,
      "outputs": []
    },
    {
      "cell_type": "code",
      "source": [
        "test10(1,22,3)"
      ],
      "metadata": {
        "colab": {
          "base_uri": "https://localhost:8080/"
        },
        "id": "j_mbVvt69VUJ",
        "outputId": "225d30fc-0ddf-4890-aae6-1d71c38864d8"
      },
      "execution_count": null,
      "outputs": [
        {
          "output_type": "execute_result",
          "data": {
            "text/plain": [
              "(1, 22, 3)"
            ]
          },
          "metadata": {},
          "execution_count": 129
        }
      ]
    },
    {
      "cell_type": "code",
      "source": [
        "def test11(*sourav):\n",
        "  return sourav"
      ],
      "metadata": {
        "id": "oKYGZje89ffQ"
      },
      "execution_count": null,
      "outputs": []
    },
    {
      "cell_type": "code",
      "source": [
        "test11(4,56,7,8,8)"
      ],
      "metadata": {
        "colab": {
          "base_uri": "https://localhost:8080/"
        },
        "id": "6BKyVg319sxA",
        "outputId": "a01c53b1-4db4-4269-c168-0778df47f059"
      },
      "execution_count": null,
      "outputs": [
        {
          "output_type": "execute_result",
          "data": {
            "text/plain": [
              "(4, 56, 7, 8, 8)"
            ]
          },
          "metadata": {},
          "execution_count": 131
        }
      ]
    },
    {
      "cell_type": "code",
      "source": [
        "def test13(*args, a):\n",
        "  return args, a"
      ],
      "metadata": {
        "id": "DnaDpxmU9wJI"
      },
      "execution_count": null,
      "outputs": []
    },
    {
      "cell_type": "code",
      "source": [
        "test13(1,2,3,4)"
      ],
      "metadata": {
        "colab": {
          "base_uri": "https://localhost:8080/",
          "height": 165
        },
        "id": "fLwkOxPf94n6",
        "outputId": "33dea4c3-acda-4c33-fc7f-1f47acd91081"
      },
      "execution_count": null,
      "outputs": [
        {
          "output_type": "error",
          "ename": "TypeError",
          "evalue": "ignored",
          "traceback": [
            "\u001b[0;31m---------------------------------------------------------------------------\u001b[0m",
            "\u001b[0;31mTypeError\u001b[0m                                 Traceback (most recent call last)",
            "\u001b[0;32m<ipython-input-133-6010a42f1c09>\u001b[0m in \u001b[0;36m<module>\u001b[0;34m\u001b[0m\n\u001b[0;32m----> 1\u001b[0;31m \u001b[0mtest13\u001b[0m\u001b[0;34m(\u001b[0m\u001b[0;36m1\u001b[0m\u001b[0;34m,\u001b[0m\u001b[0;36m2\u001b[0m\u001b[0;34m,\u001b[0m\u001b[0;36m3\u001b[0m\u001b[0;34m,\u001b[0m\u001b[0;36m4\u001b[0m\u001b[0;34m)\u001b[0m\u001b[0;34m\u001b[0m\u001b[0;34m\u001b[0m\u001b[0m\n\u001b[0m",
            "\u001b[0;31mTypeError\u001b[0m: test13() missing 1 required keyword-only argument: 'a'"
          ]
        }
      ]
    },
    {
      "cell_type": "code",
      "source": [
        "def test13(*args, a = 2233):\n",
        "  return args, a"
      ],
      "metadata": {
        "id": "WF0vBBLL97r1"
      },
      "execution_count": null,
      "outputs": []
    },
    {
      "cell_type": "code",
      "source": [
        "test13(4,65,74)"
      ],
      "metadata": {
        "colab": {
          "base_uri": "https://localhost:8080/"
        },
        "id": "DBP65zie-An7",
        "outputId": "10f50953-deca-44be-ad10-a055acbb30a6"
      },
      "execution_count": null,
      "outputs": [
        {
          "output_type": "execute_result",
          "data": {
            "text/plain": [
              "((4, 65, 74), 2233)"
            ]
          },
          "metadata": {},
          "execution_count": 135
        }
      ]
    },
    {
      "cell_type": "code",
      "source": [
        "def test14(c,d,a = 23, b =1):\n",
        "  return a,b,c,d"
      ],
      "metadata": {
        "id": "-l6F-KQK-DVW"
      },
      "execution_count": null,
      "outputs": []
    },
    {
      "cell_type": "code",
      "source": [
        "test14(45,74)"
      ],
      "metadata": {
        "colab": {
          "base_uri": "https://localhost:8080/"
        },
        "id": "GMAQMtr6-QKG",
        "outputId": "5cb24340-9a90-4678-effb-40ccbe0f8e57"
      },
      "execution_count": null,
      "outputs": [
        {
          "output_type": "execute_result",
          "data": {
            "text/plain": [
              "(23, 1, 45, 74)"
            ]
          },
          "metadata": {},
          "execution_count": 138
        }
      ]
    },
    {
      "cell_type": "code",
      "source": [
        "# we can alse override the default value"
      ],
      "metadata": {
        "id": "v9a6RpOO-WZ6"
      },
      "execution_count": null,
      "outputs": []
    },
    {
      "cell_type": "code",
      "source": [
        "# key valuue pair\n",
        "# creating the dictionnary\n",
        "def test15(**kwargs):\n",
        "  return kwargs"
      ],
      "metadata": {
        "id": "Qf0VjSiZ-fnR"
      },
      "execution_count": null,
      "outputs": []
    },
    {
      "cell_type": "code",
      "source": [
        "test15()"
      ],
      "metadata": {
        "colab": {
          "base_uri": "https://localhost:8080/"
        },
        "id": "3NleDTBf-tRP",
        "outputId": "341d81ee-b00c-4b7f-e25b-acd5917f98b2"
      },
      "execution_count": null,
      "outputs": [
        {
          "output_type": "execute_result",
          "data": {
            "text/plain": [
              "{}"
            ]
          },
          "metadata": {},
          "execution_count": 141
        }
      ]
    },
    {
      "cell_type": "code",
      "source": [
        "test15(a = [1,4,5,6], b = \"sudh\",c =23.14)\n"
      ],
      "metadata": {
        "colab": {
          "base_uri": "https://localhost:8080/"
        },
        "id": "RjbKT-cj-uPH",
        "outputId": "2f72ff5e-3188-4578-db57-47b2ddbd903e"
      },
      "execution_count": null,
      "outputs": [
        {
          "output_type": "execute_result",
          "data": {
            "text/plain": [
              "{'a': [1, 4, 5, 6], 'b': 'sudh', 'c': 23.14}"
            ]
          },
          "metadata": {},
          "execution_count": 144
        }
      ]
    },
    {
      "cell_type": "code",
      "source": [],
      "metadata": {
        "id": "k_WrIWci_Fp7"
      },
      "execution_count": null,
      "outputs": []
    }
  ]
}