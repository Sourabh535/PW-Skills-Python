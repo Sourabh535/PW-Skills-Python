{
 "cells": [
  {
   "cell_type": "code",
   "execution_count": 1,
   "id": "c4b762f9-81b7-4061-a780-daf63fd9abdb",
   "metadata": {},
   "outputs": [],
   "source": [
    "# GENERATOORR FUNCTIONN\n",
    "# "
   ]
  },
  {
   "cell_type": "code",
   "execution_count": 2,
   "id": "609d5b24-4b16-4dd9-9c06-b4e9b1baa957",
   "metadata": {},
   "outputs": [
    {
     "data": {
      "text/plain": [
       "range(0, 10)"
      ]
     },
     "execution_count": 2,
     "metadata": {},
     "output_type": "execute_result"
    }
   ],
   "source": [
    "range(10)"
   ]
  },
  {
   "cell_type": "code",
   "execution_count": 3,
   "id": "f8fb09dc-4598-439d-aba2-b671661aff1a",
   "metadata": {},
   "outputs": [
    {
     "name": "stdout",
     "output_type": "stream",
     "text": [
      "0\n",
      "1\n",
      "2\n",
      "3\n",
      "4\n",
      "5\n",
      "6\n",
      "7\n",
      "8\n",
      "9\n"
     ]
    }
   ],
   "source": [
    "for i in range(10):\n",
    "    print(i)"
   ]
  },
  {
   "cell_type": "code",
   "execution_count": 4,
   "id": "6993fcfa-a5f9-4d0d-988e-ac45f76e7e0a",
   "metadata": {},
   "outputs": [],
   "source": [
    "# MEMORY CONSUMPTION IS HIGH IN CASE OF LIST \n",
    "# REDUCED USING GENERATOOR \n",
    "# GENERATE FIBONACCI NUMBER"
   ]
  },
  {
   "cell_type": "code",
   "execution_count": 13,
   "id": "a62ed326-0afc-470c-8690-633ba591896c",
   "metadata": {},
   "outputs": [],
   "source": [
    "def test_fibonacci(n):\n",
    "    a =0\n",
    "    b =1\n",
    "    for i in range(n):\n",
    "        yield a # keywod to throw data\n",
    "        a,b = b, a+b\n",
    "       "
   ]
  },
  {
   "cell_type": "code",
   "execution_count": 14,
   "id": "8be1f901-a023-4530-bad2-9e0dbe0ac2db",
   "metadata": {},
   "outputs": [
    {
     "name": "stdout",
     "output_type": "stream",
     "text": [
      "0\n",
      "1\n",
      "1\n",
      "2\n",
      "3\n",
      "5\n",
      "8\n",
      "13\n",
      "21\n",
      "34\n"
     ]
    }
   ],
   "source": [
    "for i in test_fibonacci(10):\n",
    "    print(i)"
   ]
  },
  {
   "cell_type": "code",
   "execution_count": 15,
   "id": "89e109c8-6b0a-43c0-9cc0-b0b9764c3bfd",
   "metadata": {},
   "outputs": [],
   "source": [
    "# generate data one by one"
   ]
  },
  {
   "cell_type": "code",
   "execution_count": null,
   "id": "678119cd-c244-488d-844b-7fa2c4ddc544",
   "metadata": {},
   "outputs": [],
   "source": []
  },
  {
   "cell_type": "code",
   "execution_count": null,
   "id": "73ce193c-96b1-40b8-ad3e-35e4da792d00",
   "metadata": {},
   "outputs": [],
   "source": []
  },
  {
   "cell_type": "code",
   "execution_count": 18,
   "id": "ac6aefd4-2ffe-4292-8941-4d0e0fc2a942",
   "metadata": {},
   "outputs": [],
   "source": [
    "def test_fib():\n",
    "    a = 0\n",
    "    b = 1\n",
    "    while True:\n",
    "        yield a\n",
    "        a,b = b, a+b"
   ]
  },
  {
   "cell_type": "code",
   "execution_count": 20,
   "id": "490405e2-1d7f-4272-a75d-8ba1024a833a",
   "metadata": {},
   "outputs": [],
   "source": [
    "fib = test_fib()"
   ]
  },
  {
   "cell_type": "code",
   "execution_count": 21,
   "id": "7f0f72d2-5c22-4cdb-b043-babf0bdea7bc",
   "metadata": {},
   "outputs": [
    {
     "name": "stdout",
     "output_type": "stream",
     "text": [
      "0\n",
      "1\n",
      "1\n",
      "2\n",
      "3\n",
      "5\n",
      "8\n",
      "13\n",
      "21\n",
      "34\n"
     ]
    }
   ],
   "source": [
    "for i in range(10):\n",
    "    print(next(fib))"
   ]
  },
  {
   "cell_type": "code",
   "execution_count": 22,
   "id": "b9cba7e6-3430-4772-9699-c3943f5d20a9",
   "metadata": {},
   "outputs": [],
   "source": [
    "s = \"souurabh\"\n"
   ]
  },
  {
   "cell_type": "code",
   "execution_count": 23,
   "id": "674599a0-3aca-41a9-9816-c91a933423ea",
   "metadata": {},
   "outputs": [
    {
     "name": "stdout",
     "output_type": "stream",
     "text": [
      "s\n",
      "o\n",
      "u\n",
      "u\n",
      "r\n",
      "a\n",
      "b\n",
      "h\n"
     ]
    }
   ],
   "source": [
    "for i in s:\n",
    "    print(i)"
   ]
  },
  {
   "cell_type": "code",
   "execution_count": 24,
   "id": "d4a8c3b2-a4c6-44e3-aa64-61d254d00927",
   "metadata": {},
   "outputs": [
    {
     "data": {
      "text/plain": [
       "'souurabh'"
      ]
     },
     "execution_count": 24,
     "metadata": {},
     "output_type": "execute_result"
    }
   ],
   "source": [
    "s"
   ]
  },
  {
   "cell_type": "code",
   "execution_count": 26,
   "id": "9a332293-2a12-47eb-8fe9-3310eb0b5d2d",
   "metadata": {},
   "outputs": [
    {
     "ename": "TypeError",
     "evalue": "'str' object is not an iterator",
     "output_type": "error",
     "traceback": [
      "\u001b[0;31m---------------------------------------------------------------------------\u001b[0m",
      "\u001b[0;31mTypeError\u001b[0m                                 Traceback (most recent call last)",
      "Cell \u001b[0;32mIn[26], line 1\u001b[0m\n\u001b[0;32m----> 1\u001b[0m \u001b[38;5;28;43mnext\u001b[39;49m\u001b[43m(\u001b[49m\u001b[43ms\u001b[49m\u001b[43m)\u001b[49m\n",
      "\u001b[0;31mTypeError\u001b[0m: 'str' object is not an iterator"
     ]
    }
   ],
   "source": [
    "next(s)"
   ]
  },
  {
   "cell_type": "code",
   "execution_count": 27,
   "id": "75f86668-8748-4cf9-9cfc-9f3f1240b2d9",
   "metadata": {},
   "outputs": [],
   "source": [
    "s1 = iter(s)"
   ]
  },
  {
   "cell_type": "code",
   "execution_count": 28,
   "id": "8ff3b0de-9e08-460e-bb62-e6a33e62a9fb",
   "metadata": {},
   "outputs": [
    {
     "data": {
      "text/plain": [
       "'s'"
      ]
     },
     "execution_count": 28,
     "metadata": {},
     "output_type": "execute_result"
    }
   ],
   "source": [
    "next(s1)"
   ]
  },
  {
   "cell_type": "code",
   "execution_count": 29,
   "id": "9a901f9b-2fca-4e11-b661-fc3341737135",
   "metadata": {},
   "outputs": [
    {
     "data": {
      "text/plain": [
       "'o'"
      ]
     },
     "execution_count": 29,
     "metadata": {},
     "output_type": "execute_result"
    }
   ],
   "source": [
    "next(s1)"
   ]
  },
  {
   "cell_type": "code",
   "execution_count": 31,
   "id": "b0705511-9aa0-4700-a47c-e3282c57a509",
   "metadata": {},
   "outputs": [
    {
     "data": {
      "text/plain": [
       "'u'"
      ]
     },
     "execution_count": 31,
     "metadata": {},
     "output_type": "execute_result"
    }
   ],
   "source": [
    "next(s1)"
   ]
  },
  {
   "cell_type": "code",
   "execution_count": 32,
   "id": "b21039a8-8079-4311-aef3-af8bea8adffb",
   "metadata": {},
   "outputs": [
    {
     "data": {
      "text/plain": [
       "'u'"
      ]
     },
     "execution_count": 32,
     "metadata": {},
     "output_type": "execute_result"
    }
   ],
   "source": [
    "next(s1)"
   ]
  },
  {
   "cell_type": "code",
   "execution_count": 33,
   "id": "b95231de-aaf0-478f-b778-fca226205c8a",
   "metadata": {},
   "outputs": [
    {
     "data": {
      "text/plain": [
       "'r'"
      ]
     },
     "execution_count": 33,
     "metadata": {},
     "output_type": "execute_result"
    }
   ],
   "source": [
    "next(s1)"
   ]
  },
  {
   "cell_type": "code",
   "execution_count": 34,
   "id": "25544242-3a7a-4fcd-a7dc-f7a2f7ca8747",
   "metadata": {},
   "outputs": [
    {
     "data": {
      "text/plain": [
       "'a'"
      ]
     },
     "execution_count": 34,
     "metadata": {},
     "output_type": "execute_result"
    }
   ],
   "source": [
    "next(s1)"
   ]
  },
  {
   "cell_type": "code",
   "execution_count": 35,
   "id": "1c7136a4-c490-4de2-a1f6-64efd80d59c2",
   "metadata": {},
   "outputs": [
    {
     "data": {
      "text/plain": [
       "'b'"
      ]
     },
     "execution_count": 35,
     "metadata": {},
     "output_type": "execute_result"
    }
   ],
   "source": [
    "next(s1)"
   ]
  },
  {
   "cell_type": "code",
   "execution_count": 36,
   "id": "7a7a612b-7c41-4c32-8749-9e5ca528b38f",
   "metadata": {},
   "outputs": [
    {
     "data": {
      "text/plain": [
       "'h'"
      ]
     },
     "execution_count": 36,
     "metadata": {},
     "output_type": "execute_result"
    }
   ],
   "source": [
    "next(s1)"
   ]
  },
  {
   "cell_type": "code",
   "execution_count": 37,
   "id": "64244e11-7bff-4bcb-95ca-e87ec6e8bec7",
   "metadata": {},
   "outputs": [
    {
     "ename": "StopIteration",
     "evalue": "",
     "output_type": "error",
     "traceback": [
      "\u001b[0;31m---------------------------------------------------------------------------\u001b[0m",
      "\u001b[0;31mStopIteration\u001b[0m                             Traceback (most recent call last)",
      "Cell \u001b[0;32mIn[37], line 1\u001b[0m\n\u001b[0;32m----> 1\u001b[0m \u001b[38;5;28;43mnext\u001b[39;49m\u001b[43m(\u001b[49m\u001b[43ms1\u001b[49m\u001b[43m)\u001b[49m\n",
      "\u001b[0;31mStopIteration\u001b[0m: "
     ]
    }
   ],
   "source": [
    "next(s1)"
   ]
  },
  {
   "cell_type": "code",
   "execution_count": 38,
   "id": "2d3fbba6-9bcc-48ec-be3f-f76dce23096b",
   "metadata": {},
   "outputs": [],
   "source": [
    "# interator is like for whhich we can iterate\n",
    "# interabe is thhos like string which we can convert into iterator using next"
   ]
  },
  {
   "cell_type": "code",
   "execution_count": 40,
   "id": "5bec366c-8de4-4b23-bef5-c68bb15c1f7e",
   "metadata": {},
   "outputs": [],
   "source": [
    "# string is iterable and convert into iteratorr\n",
    "# int is not iterator"
   ]
  },
  {
   "cell_type": "code",
   "execution_count": 48,
   "id": "d1ee68fa-44e9-48c7-9f9f-cf9040b1d496",
   "metadata": {},
   "outputs": [],
   "source": [
    "def count_test(n):\n",
    "    count = 1\n",
    "    while count <= n:\n",
    "        yield count\n",
    "        count = count +1"
   ]
  },
  {
   "cell_type": "code",
   "execution_count": 49,
   "id": "c7026ed1-7126-416e-90bf-8e85c2fab87c",
   "metadata": {},
   "outputs": [],
   "source": [
    "c = count_test(5)"
   ]
  },
  {
   "cell_type": "code",
   "execution_count": 50,
   "id": "b7b0b12d-69d7-45c8-b7cb-36e9c20b180c",
   "metadata": {},
   "outputs": [
    {
     "name": "stdout",
     "output_type": "stream",
     "text": [
      "1\n",
      "2\n",
      "3\n",
      "4\n",
      "5\n"
     ]
    }
   ],
   "source": [
    "for i in c:\n",
    "    print(i)"
   ]
  },
  {
   "cell_type": "code",
   "execution_count": 53,
   "id": "12f45196-ed95-4dec-9d2d-b82c2dabdecf",
   "metadata": {},
   "outputs": [
    {
     "data": {
      "text/plain": [
       "generator"
      ]
     },
     "execution_count": 53,
     "metadata": {},
     "output_type": "execute_result"
    }
   ],
   "source": [
    "type(c)"
   ]
  },
  {
   "cell_type": "code",
   "execution_count": null,
   "id": "42d83b35-32a3-40fc-85dc-ee3876e05f12",
   "metadata": {},
   "outputs": [],
   "source": []
  },
  {
   "cell_type": "code",
   "execution_count": null,
   "id": "818554fa-70ba-4ca9-85b4-8280044a8649",
   "metadata": {},
   "outputs": [],
   "source": []
  }
 ],
 "metadata": {
  "kernelspec": {
   "display_name": "Python 3 (ipykernel)",
   "language": "python",
   "name": "python3"
  },
  "language_info": {
   "codemirror_mode": {
    "name": "ipython",
    "version": 3
   },
   "file_extension": ".py",
   "mimetype": "text/x-python",
   "name": "python",
   "nbconvert_exporter": "python",
   "pygments_lexer": "ipython3",
   "version": "3.10.8"
  }
 },
 "nbformat": 4,
 "nbformat_minor": 5
}
