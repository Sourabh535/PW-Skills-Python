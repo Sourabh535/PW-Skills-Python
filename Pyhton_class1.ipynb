{
 "cells": [
  {
   "cell_type": "code",
   "execution_count": 1,
   "id": "db23f268-62f1-44bf-a0b8-1decbf18d45a",
   "metadata": {},
   "outputs": [
    {
     "name": "stdout",
     "output_type": "stream",
     "text": [
      "This is my first class\n"
     ]
    }
   ],
   "source": [
    "print(\"This is my first class\")"
   ]
  },
  {
   "cell_type": "code",
   "execution_count": 2,
   "id": "0b58d858-0a9c-49ac-9fb4-d42f3c208da8",
   "metadata": {},
   "outputs": [
    {
     "data": {
      "text/plain": [
       "2"
      ]
     },
     "execution_count": 2,
     "metadata": {},
     "output_type": "execute_result"
    }
   ],
   "source": [
    "1+1"
   ]
  },
  {
   "cell_type": "code",
   "execution_count": 3,
   "id": "fe9e6e6c-cc52-4be3-919f-80712fc41209",
   "metadata": {},
   "outputs": [
    {
     "data": {
      "text/plain": [
       "30"
      ]
     },
     "execution_count": 3,
     "metadata": {},
     "output_type": "execute_result"
    }
   ],
   "source": [
    "5*6"
   ]
  },
  {
   "cell_type": "code",
   "execution_count": 4,
   "id": "14e329bb-6061-43f6-ae68-13554cd74c9a",
   "metadata": {},
   "outputs": [
    {
     "data": {
      "text/plain": [
       "25"
      ]
     },
     "execution_count": 4,
     "metadata": {},
     "output_type": "execute_result"
    }
   ],
   "source": [
    "5*5"
   ]
  },
  {
   "cell_type": "code",
   "execution_count": 5,
   "id": "0db994c5-cc4c-49cc-82e5-e368ca4a661b",
   "metadata": {},
   "outputs": [],
   "source": [
    "# a is variable\n",
    "a = 10"
   ]
  },
  {
   "cell_type": "code",
   "execution_count": 6,
   "id": "25cb3307-ed4c-45ae-b49a-8ab86193dc69",
   "metadata": {},
   "outputs": [
    {
     "data": {
      "text/plain": [
       "10"
      ]
     },
     "execution_count": 6,
     "metadata": {},
     "output_type": "execute_result"
    }
   ],
   "source": [
    "a"
   ]
  },
  {
   "cell_type": "code",
   "execution_count": 7,
   "id": "d2807a5f-de84-48ce-aa84-5f4ba3aba10c",
   "metadata": {},
   "outputs": [],
   "source": [
    "subh = 20"
   ]
  },
  {
   "cell_type": "code",
   "execution_count": 8,
   "id": "cb26947e-8f5f-41d8-9de7-61249101bae2",
   "metadata": {},
   "outputs": [
    {
     "data": {
      "text/plain": [
       "20"
      ]
     },
     "execution_count": 8,
     "metadata": {},
     "output_type": "execute_result"
    }
   ],
   "source": [
    "subh"
   ]
  },
  {
   "cell_type": "code",
   "execution_count": 9,
   "id": "e2fcb352-3ef8-47c3-91a4-ec227fc09b88",
   "metadata": {},
   "outputs": [
    {
     "data": {
      "text/plain": [
       "30"
      ]
     },
     "execution_count": 9,
     "metadata": {},
     "output_type": "execute_result"
    }
   ],
   "source": [
    "a + subh"
   ]
  },
  {
   "cell_type": "code",
   "execution_count": 10,
   "id": "e1881f38-52f4-42a7-8315-6670fb4569d1",
   "metadata": {},
   "outputs": [
    {
     "data": {
      "text/plain": [
       "int"
      ]
     },
     "execution_count": 10,
     "metadata": {},
     "output_type": "execute_result"
    }
   ],
   "source": [
    "type(a)"
   ]
  },
  {
   "cell_type": "code",
   "execution_count": 11,
   "id": "e3c43214-91d2-4f8c-80dc-4f42410d58fa",
   "metadata": {},
   "outputs": [],
   "source": [
    "c = 45.3475"
   ]
  },
  {
   "cell_type": "code",
   "execution_count": 12,
   "id": "d39c13b2-65eb-4a02-bda0-9d45c494ac70",
   "metadata": {},
   "outputs": [
    {
     "data": {
      "text/plain": [
       "float"
      ]
     },
     "execution_count": 12,
     "metadata": {},
     "output_type": "execute_result"
    }
   ],
   "source": [
    "type(c)"
   ]
  },
  {
   "cell_type": "code",
   "execution_count": 13,
   "id": "6974799b-6781-471c-8ab7-22d05f512f4a",
   "metadata": {},
   "outputs": [],
   "source": [
    "d = \"sourabh\""
   ]
  },
  {
   "cell_type": "code",
   "execution_count": 14,
   "id": "f9720ec0-760b-4a47-925e-bc2fc244d9eb",
   "metadata": {},
   "outputs": [
    {
     "data": {
      "text/plain": [
       "str"
      ]
     },
     "execution_count": 14,
     "metadata": {},
     "output_type": "execute_result"
    }
   ],
   "source": [
    "type(d)"
   ]
  },
  {
   "cell_type": "code",
   "execution_count": 15,
   "id": "e2de4dac-2fd5-49c3-a396-f9b5008dc20e",
   "metadata": {},
   "outputs": [],
   "source": [
    "n  = True"
   ]
  },
  {
   "cell_type": "code",
   "execution_count": 16,
   "id": "8f3d699c-a14e-4a1f-aa57-a6e5f50aa67c",
   "metadata": {},
   "outputs": [
    {
     "data": {
      "text/plain": [
       "bool"
      ]
     },
     "execution_count": 16,
     "metadata": {},
     "output_type": "execute_result"
    }
   ],
   "source": [
    "type(n)"
   ]
  },
  {
   "cell_type": "code",
   "execution_count": 17,
   "id": "5684ee5e-d5f6-4ee6-9572-797d8052848d",
   "metadata": {},
   "outputs": [],
   "source": [
    "f = False"
   ]
  },
  {
   "cell_type": "code",
   "execution_count": 18,
   "id": "edb2ac1f-560e-4054-bae7-9bdd60f042e3",
   "metadata": {},
   "outputs": [
    {
     "data": {
      "text/plain": [
       "bool"
      ]
     },
     "execution_count": 18,
     "metadata": {},
     "output_type": "execute_result"
    }
   ],
   "source": [
    "type(f)"
   ]
  },
  {
   "cell_type": "code",
   "execution_count": 19,
   "id": "19c00dd9-4c40-4649-b4e6-c99a570d6ab8",
   "metadata": {},
   "outputs": [
    {
     "data": {
      "text/plain": [
       "1"
      ]
     },
     "execution_count": 19,
     "metadata": {},
     "output_type": "execute_result"
    }
   ],
   "source": [
    "n+f"
   ]
  },
  {
   "cell_type": "code",
   "execution_count": 20,
   "id": "8a44bc8a-6114-4246-96f9-eccc953b9735",
   "metadata": {},
   "outputs": [
    {
     "data": {
      "text/plain": [
       "1"
      ]
     },
     "execution_count": 20,
     "metadata": {},
     "output_type": "execute_result"
    }
   ],
   "source": [
    "True*True"
   ]
  },
  {
   "cell_type": "code",
   "execution_count": 21,
   "id": "9bbcd466-5d31-4eea-b926-a7d24e82fa2b",
   "metadata": {},
   "outputs": [
    {
     "data": {
      "text/plain": [
       "1"
      ]
     },
     "execution_count": 21,
     "metadata": {},
     "output_type": "execute_result"
    }
   ],
   "source": [
    "n*n"
   ]
  },
  {
   "cell_type": "markdown",
   "id": "946ea018-3367-48fe-817f-140abbe3d081",
   "metadata": {},
   "source": [
    "Complex number\n",
    "\n",
    "j for i for complex number"
   ]
  },
  {
   "cell_type": "code",
   "execution_count": 22,
   "id": "e8efc05f-8466-4bd6-b82c-cb34d443c107",
   "metadata": {},
   "outputs": [],
   "source": [
    "v = 5 + 8j"
   ]
  },
  {
   "cell_type": "code",
   "execution_count": 23,
   "id": "b6822a89-2a4f-459c-92e2-4689daec5da1",
   "metadata": {},
   "outputs": [
    {
     "data": {
      "text/plain": [
       "complex"
      ]
     },
     "execution_count": 23,
     "metadata": {},
     "output_type": "execute_result"
    }
   ],
   "source": [
    "type(v)"
   ]
  },
  {
   "cell_type": "code",
   "execution_count": 24,
   "id": "1f80b16a-e5f5-4280-9f1b-c3a7d7108875",
   "metadata": {},
   "outputs": [
    {
     "data": {
      "text/plain": [
       "5.0"
      ]
     },
     "execution_count": 24,
     "metadata": {},
     "output_type": "execute_result"
    }
   ],
   "source": [
    "v.real"
   ]
  },
  {
   "cell_type": "code",
   "execution_count": 25,
   "id": "249bf4c1-7298-460e-81cf-949fc896604c",
   "metadata": {},
   "outputs": [
    {
     "data": {
      "text/plain": [
       "8.0"
      ]
     },
     "execution_count": 25,
     "metadata": {},
     "output_type": "execute_result"
    }
   ],
   "source": [
    "v.imag"
   ]
  },
  {
   "cell_type": "markdown",
   "id": "6a92dff0-aa80-4d8e-8d8d-bf519c86ba8f",
   "metadata": {},
   "source": [
    "used v.tab for getting real and img"
   ]
  },
  {
   "cell_type": "code",
   "execution_count": 26,
   "id": "f6893a8e-7265-4d9c-9f1c-452d95cea43a",
   "metadata": {},
   "outputs": [
    {
     "data": {
      "text/plain": [
       "(5+8j)"
      ]
     },
     "execution_count": 26,
     "metadata": {},
     "output_type": "execute_result"
    }
   ],
   "source": [
    "v"
   ]
  },
  {
   "cell_type": "code",
   "execution_count": 27,
   "id": "b1899090-d7c2-47c6-b7bb-1f28d8dc5eb6",
   "metadata": {},
   "outputs": [
    {
     "name": "stdout",
     "output_type": "stream",
     "text": [
      "Hello\n"
     ]
    }
   ],
   "source": [
    "print(\"Hello\")"
   ]
  },
  {
   "cell_type": "code",
   "execution_count": 28,
   "id": "48f0dec9-f66f-4b74-875f-19425492a4bf",
   "metadata": {},
   "outputs": [
    {
     "name": "stdout",
     "output_type": "stream",
     "text": [
      "MY name is sourabh\n"
     ]
    }
   ],
   "source": [
    "print(\"MY name is sourabh\")"
   ]
  },
  {
   "cell_type": "code",
   "execution_count": 29,
   "id": "bb69e637-17a8-4cd1-ad09-6ec9f48f5c6a",
   "metadata": {},
   "outputs": [
    {
     "name": "stdout",
     "output_type": "stream",
     "text": [
      "(5+8j)\n"
     ]
    }
   ],
   "source": [
    "print(v)"
   ]
  },
  {
   "cell_type": "code",
   "execution_count": 30,
   "id": "0176f200-035e-4431-a2c6-215f9d7092e8",
   "metadata": {},
   "outputs": [],
   "source": [
    "s = \"sourabh rawat\""
   ]
  },
  {
   "cell_type": "code",
   "execution_count": 31,
   "id": "4852bbe7-cb7d-4c0b-a144-589a7dab1db1",
   "metadata": {},
   "outputs": [
    {
     "name": "stdout",
     "output_type": "stream",
     "text": [
      "sourabh rawat\n"
     ]
    }
   ],
   "source": [
    "print(s)"
   ]
  },
  {
   "cell_type": "code",
   "execution_count": 32,
   "id": "7d70058c-a681-4b9c-91ed-0b7246fdd492",
   "metadata": {},
   "outputs": [
    {
     "name": "stdout",
     "output_type": "stream",
     "text": [
      "<class 'str'>\n"
     ]
    }
   ],
   "source": [
    "print(type(s))"
   ]
  },
  {
   "cell_type": "markdown",
   "id": "9c474561-fe52-4c11-bb1f-9cda108fe716",
   "metadata": {},
   "source": [
    "Take out b from s, slicing, indexing"
   ]
  },
  {
   "cell_type": "code",
   "execution_count": 33,
   "id": "9a5c2280-de2b-4b7e-a0db-5ee731451c15",
   "metadata": {},
   "outputs": [
    {
     "name": "stdout",
     "output_type": "stream",
     "text": [
      "b\n"
     ]
    }
   ],
   "source": [
    "print(s[5])"
   ]
  },
  {
   "cell_type": "code",
   "execution_count": 34,
   "id": "6a0e0a23-8815-4106-a510-36c4a43add7f",
   "metadata": {},
   "outputs": [
    {
     "data": {
      "text/plain": [
       "'t'"
      ]
     },
     "execution_count": 34,
     "metadata": {},
     "output_type": "execute_result"
    }
   ],
   "source": [
    "# last vallue\n",
    "s[-1]"
   ]
  },
  {
   "cell_type": "code",
   "execution_count": 35,
   "id": "b3eeb644-a5ff-4311-8fde-6f99d2020644",
   "metadata": {},
   "outputs": [
    {
     "data": {
      "text/plain": [
       "'s'"
      ]
     },
     "execution_count": 35,
     "metadata": {},
     "output_type": "execute_result"
    }
   ],
   "source": [
    "# first value\n",
    "s[0]"
   ]
  },
  {
   "cell_type": "markdown",
   "id": "8021db7b-04b9-4d3d-ae29-1bd625a093f6",
   "metadata": {},
   "source": [
    "Take multiple value at same time with the use of slicing"
   ]
  },
  {
   "cell_type": "code",
   "execution_count": 36,
   "id": "12e0eef4-0347-4449-bc6a-fe060cf89da9",
   "metadata": {},
   "outputs": [],
   "source": [
    "s = \"pwskills\""
   ]
  },
  {
   "cell_type": "code",
   "execution_count": 37,
   "id": "3c95bf16-39f4-4025-a2a7-433f9b92a34c",
   "metadata": {},
   "outputs": [
    {
     "data": {
      "text/plain": [
       "'pw'"
      ]
     },
     "execution_count": 37,
     "metadata": {},
     "output_type": "execute_result"
    }
   ],
   "source": [
    "# 0 startng point\n",
    "#  1 end point\n",
    "# 2nd index is not included\n",
    "s[0:2]\n"
   ]
  },
  {
   "cell_type": "code",
   "execution_count": 38,
   "id": "5d6e5aed-ada5-495a-804d-d138a223442d",
   "metadata": {},
   "outputs": [
    {
     "data": {
      "text/plain": [
       "'pws'"
      ]
     },
     "execution_count": 38,
     "metadata": {},
     "output_type": "execute_result"
    }
   ],
   "source": [
    "s[0:3]"
   ]
  },
  {
   "cell_type": "markdown",
   "id": "71ee31bf-af72-464e-8551-1f1b3ab36f98",
   "metadata": {},
   "source": [
    "Taking alternate values as a output"
   ]
  },
  {
   "cell_type": "code",
   "execution_count": 39,
   "id": "8891fc21-f889-49a2-9a14-57e0e9337405",
   "metadata": {},
   "outputs": [
    {
     "data": {
      "text/plain": [
       "'psil'"
      ]
     },
     "execution_count": 39,
     "metadata": {},
     "output_type": "execute_result"
    }
   ],
   "source": [
    "s[0:8:2]"
   ]
  },
  {
   "cell_type": "code",
   "execution_count": 40,
   "id": "ea5d56cb-0d31-4933-89ed-5447a938df34",
   "metadata": {},
   "outputs": [
    {
     "data": {
      "text/plain": [
       "'psil'"
      ]
     },
     "execution_count": 40,
     "metadata": {},
     "output_type": "execute_result"
    }
   ],
   "source": [
    "s[::2]\n"
   ]
  },
  {
   "cell_type": "markdown",
   "id": "bfb046cf-b4ca-4704-8b67-d70c7929f333",
   "metadata": {},
   "source": [
    "PRINT IN A REVERSE DIRECTION"
   ]
  },
  {
   "cell_type": "code",
   "execution_count": 41,
   "id": "5588ef99-b455-4fe2-961d-6abfad0e5144",
   "metadata": {},
   "outputs": [
    {
     "data": {
      "text/plain": [
       "'sllikswp'"
      ]
     },
     "execution_count": 41,
     "metadata": {},
     "output_type": "execute_result"
    }
   ],
   "source": [
    "s[::-1]"
   ]
  },
  {
   "cell_type": "code",
   "execution_count": 42,
   "id": "7e79f956-b1bc-4815-9fec-0251c5d5378a",
   "metadata": {},
   "outputs": [
    {
     "data": {
      "text/plain": [
       "''"
      ]
     },
     "execution_count": 42,
     "metadata": {},
     "output_type": "execute_result"
    }
   ],
   "source": [
    "s[2:7:-1]"
   ]
  },
  {
   "cell_type": "code",
   "execution_count": 43,
   "id": "0c2380ec-0ec7-4250-a526-4d7518d7b2eb",
   "metadata": {},
   "outputs": [
    {
     "data": {
      "text/plain": [
       "''"
      ]
     },
     "execution_count": 43,
     "metadata": {},
     "output_type": "execute_result"
    }
   ],
   "source": [
    "s[8:0]\n",
    "#s[8:0:0]"
   ]
  },
  {
   "cell_type": "code",
   "execution_count": 44,
   "id": "9481b1b3-81a8-4fb4-b4a5-37e87e43ddfa",
   "metadata": {},
   "outputs": [
    {
     "data": {
      "text/plain": [
       "'slliksw'"
      ]
     },
     "execution_count": 44,
     "metadata": {},
     "output_type": "execute_result"
    }
   ],
   "source": [
    "s[8:0:-1]"
   ]
  },
  {
   "cell_type": "code",
   "execution_count": 45,
   "id": "1697ffe2-8649-4eba-b7d6-3704ce316903",
   "metadata": {},
   "outputs": [
    {
     "data": {
      "text/plain": [
       "''"
      ]
     },
     "execution_count": 45,
     "metadata": {},
     "output_type": "execute_result"
    }
   ],
   "source": [
    "s[-2:-8:1]"
   ]
  },
  {
   "cell_type": "code",
   "execution_count": 46,
   "id": "b4cec1aa-be1d-4634-b361-53b87c2cb97e",
   "metadata": {},
   "outputs": [
    {
     "data": {
      "text/plain": [
       "'pwskills'"
      ]
     },
     "execution_count": 46,
     "metadata": {},
     "output_type": "execute_result"
    }
   ],
   "source": [
    "s[::]"
   ]
  },
  {
   "cell_type": "code",
   "execution_count": 47,
   "id": "1a2d6b99-8a3d-4f15-b66b-7728c9185523",
   "metadata": {},
   "outputs": [
    {
     "data": {
      "text/plain": [
       "'sllikswp'"
      ]
     },
     "execution_count": 47,
     "metadata": {},
     "output_type": "execute_result"
    }
   ],
   "source": [
    "s[::-1]"
   ]
  },
  {
   "cell_type": "code",
   "execution_count": 48,
   "id": "90c77cab-6cb6-4114-ba6a-a12c994180a1",
   "metadata": {},
   "outputs": [
    {
     "data": {
      "text/plain": [
       "'pwskills'"
      ]
     },
     "execution_count": 48,
     "metadata": {},
     "output_type": "execute_result"
    }
   ],
   "source": [
    "s[:90:1]"
   ]
  },
  {
   "cell_type": "code",
   "execution_count": 49,
   "id": "d4b497c8-668b-4527-9095-881d470aa3d3",
   "metadata": {},
   "outputs": [
    {
     "data": {
      "text/plain": [
       "'sllikswp'"
      ]
     },
     "execution_count": 49,
     "metadata": {},
     "output_type": "execute_result"
    }
   ],
   "source": [
    "s[:-90:-1]"
   ]
  },
  {
   "cell_type": "markdown",
   "id": "05f0951f-fa5e-4faa-bd05-48a738ea352b",
   "metadata": {},
   "source": [
    "c = 200"
   ]
  },
  {
   "cell_type": "code",
   "execution_count": 50,
   "id": "67caf148-55a9-409d-91b2-7fce1c41e0d4",
   "metadata": {},
   "outputs": [],
   "source": [
    "s1 = \"This is my string class\""
   ]
  },
  {
   "cell_type": "code",
   "execution_count": 51,
   "id": "117cf8c8-9fd5-4cc0-99e2-05c0dbced017",
   "metadata": {},
   "outputs": [
    {
     "data": {
      "text/plain": [
       "'This is my string class'"
      ]
     },
     "execution_count": 51,
     "metadata": {},
     "output_type": "execute_result"
    }
   ],
   "source": [
    "\n",
    "s1"
   ]
  },
  {
   "cell_type": "markdown",
   "id": "d1fc7590-7e88-4537-a3a9-eab3aaad1162",
   "metadata": {},
   "source": [
    "s1[1]"
   ]
  },
  {
   "cell_type": "markdown",
   "id": "b8b17ecd-ca79-4700-b284-d46beba0ea63",
   "metadata": {},
   "source": [
    "STRING MANIPULATION"
   ]
  },
  {
   "cell_type": "code",
   "execution_count": 52,
   "id": "dc821786-2c45-4849-81b1-d7017d6c1618",
   "metadata": {},
   "outputs": [
    {
     "data": {
      "text/plain": [
       "23"
      ]
     },
     "execution_count": 52,
     "metadata": {},
     "output_type": "execute_result"
    }
   ],
   "source": [
    "# length of the string no of characters\n",
    "len(s1)"
   ]
  },
  {
   "cell_type": "code",
   "execution_count": 53,
   "id": "ed8efe80-97f4-4df9-b23a-c53ed17f941e",
   "metadata": {},
   "outputs": [
    {
     "data": {
      "text/plain": [
       "3"
      ]
     },
     "execution_count": 53,
     "metadata": {},
     "output_type": "execute_result"
    }
   ],
   "source": [
    "s1.find(\"s\")"
   ]
  },
  {
   "cell_type": "code",
   "execution_count": 54,
   "id": "d5be6906-57e8-4fa1-949e-c70fcd88fcd4",
   "metadata": {},
   "outputs": [
    {
     "data": {
      "text/plain": [
       "2"
      ]
     },
     "execution_count": 54,
     "metadata": {},
     "output_type": "execute_result"
    }
   ],
   "source": [
    "s1.find(\"i\")"
   ]
  },
  {
   "cell_type": "code",
   "execution_count": 55,
   "id": "506b93e9-40bc-4a2a-bd72-4ce3f5e5c361",
   "metadata": {},
   "outputs": [
    {
     "data": {
      "text/plain": [
       "2"
      ]
     },
     "execution_count": 55,
     "metadata": {},
     "output_type": "execute_result"
    }
   ],
   "source": [
    "s1.find(\"i\")"
   ]
  },
  {
   "cell_type": "code",
   "execution_count": 56,
   "id": "2082d238-83ef-40f8-8eb1-e61d9c4dfb44",
   "metadata": {},
   "outputs": [
    {
     "data": {
      "text/plain": [
       "2"
      ]
     },
     "execution_count": 56,
     "metadata": {},
     "output_type": "execute_result"
    }
   ],
   "source": [
    "s1.find(\"is\")"
   ]
  },
  {
   "cell_type": "code",
   "execution_count": 57,
   "id": "3541e1e8-7dfa-4656-846f-5e033a24fbd6",
   "metadata": {},
   "outputs": [
    {
     "data": {
      "text/plain": [
       "-1"
      ]
     },
     "execution_count": 57,
     "metadata": {},
     "output_type": "execute_result"
    }
   ],
   "source": [
    "# PYHTOM IS A CASE SENSITIVE\n",
    "s1.find(\"IS\")"
   ]
  },
  {
   "cell_type": "code",
   "execution_count": 58,
   "id": "ac945b1a-c6de-45f1-a174-7106d77ddf44",
   "metadata": {},
   "outputs": [
    {
     "data": {
      "text/plain": [
       "5"
      ]
     },
     "execution_count": 58,
     "metadata": {},
     "output_type": "execute_result"
    }
   ],
   "source": [
    "# count the repetation of words\n",
    "s1.count(\"s\")"
   ]
  },
  {
   "cell_type": "code",
   "execution_count": 59,
   "id": "344240ec-fc24-418d-b0f9-bca9f84fdab4",
   "metadata": {},
   "outputs": [
    {
     "data": {
      "text/plain": [
       "0"
      ]
     },
     "execution_count": 59,
     "metadata": {},
     "output_type": "execute_result"
    }
   ],
   "source": [
    "s1.count(\"z\")"
   ]
  },
  {
   "cell_type": "code",
   "execution_count": 60,
   "id": "fd61f818-0f88-4658-ad16-cbb24d3471e6",
   "metadata": {},
   "outputs": [
    {
     "data": {
      "text/plain": [
       "'THIS IS MY STRING CLASS'"
      ]
     },
     "execution_count": 60,
     "metadata": {},
     "output_type": "execute_result"
    }
   ],
   "source": [
    "# convert into uppercase\n",
    "s1.upper()"
   ]
  },
  {
   "cell_type": "code",
   "execution_count": 61,
   "id": "8dcc3cda-b557-4413-8268-cdb6ee03735f",
   "metadata": {},
   "outputs": [
    {
     "data": {
      "text/plain": [
       "'this is my string class'"
      ]
     },
     "execution_count": 61,
     "metadata": {},
     "output_type": "execute_result"
    }
   ],
   "source": [
    "s1.lower()"
   ]
  },
  {
   "cell_type": "code",
   "execution_count": 62,
   "id": "1982ad05-a234-4b5b-b527-ec9a60952430",
   "metadata": {},
   "outputs": [
    {
     "data": {
      "text/plain": [
       "'This Is My String Class'"
      ]
     },
     "execution_count": 62,
     "metadata": {},
     "output_type": "execute_result"
    }
   ],
   "source": [
    "s1.title()"
   ]
  },
  {
   "cell_type": "code",
   "execution_count": 63,
   "id": "90738ec3-9cb1-4ccb-b736-9b2d896393bc",
   "metadata": {},
   "outputs": [
    {
     "data": {
      "text/plain": [
       "'This is my string class'"
      ]
     },
     "execution_count": 63,
     "metadata": {},
     "output_type": "execute_result"
    }
   ],
   "source": [
    "s1.capitalize()"
   ]
  },
  {
   "cell_type": "code",
   "execution_count": 66,
   "id": "569601d3-abc1-4544-9448-21ab2f84b434",
   "metadata": {},
   "outputs": [
    {
     "data": {
      "text/plain": [
       "'pwskillssubh'"
      ]
     },
     "execution_count": 66,
     "metadata": {},
     "output_type": "execute_result"
    }
   ],
   "source": [
    "s+\"subh\""
   ]
  },
  {
   "cell_type": "code",
   "execution_count": 67,
   "id": "610d3e2d-3d8e-4662-ab8e-d2087e91c71e",
   "metadata": {},
   "outputs": [
    {
     "data": {
      "text/plain": [
       "'pwskills2'"
      ]
     },
     "execution_count": 67,
     "metadata": {},
     "output_type": "execute_result"
    }
   ],
   "source": [
    "s+\"2\""
   ]
  },
  {
   "cell_type": "code",
   "execution_count": 68,
   "id": "4cc6746d-9506-4946-9383-bee9ec3f8bbb",
   "metadata": {},
   "outputs": [
    {
     "data": {
      "text/plain": [
       "'pwskillspwskills'"
      ]
     },
     "execution_count": 68,
     "metadata": {},
     "output_type": "execute_result"
    }
   ],
   "source": [
    "s*2"
   ]
  },
  {
   "cell_type": "code",
   "execution_count": 69,
   "id": "7236a15e-0c73-40fc-9022-70596d6aa26c",
   "metadata": {},
   "outputs": [
    {
     "data": {
      "text/plain": [
       "'pwskillspwskillspwskills'"
      ]
     },
     "execution_count": 69,
     "metadata": {},
     "output_type": "execute_result"
    }
   ],
   "source": [
    "s*3"
   ]
  },
  {
   "cell_type": "code",
   "execution_count": 70,
   "id": "f46c3c3d-9a86-4586-bccc-ccbb05036ce6",
   "metadata": {},
   "outputs": [
    {
     "data": {
      "text/plain": [
       "'sourabhsourabhsourabhsourabhsourabh'"
      ]
     },
     "execution_count": 70,
     "metadata": {},
     "output_type": "execute_result"
    }
   ],
   "source": [
    "\"sourabh\"*5"
   ]
  },
  {
   "cell_type": "code",
   "execution_count": 71,
   "id": "a8316742-9bb2-4b16-928c-3a62a9e59bad",
   "metadata": {},
   "outputs": [
    {
     "ename": "TypeError",
     "evalue": "unsupported operand type(s) for /: 'str' and 'int'",
     "output_type": "error",
     "traceback": [
      "\u001b[0;31m---------------------------------------------------------------------------\u001b[0m",
      "\u001b[0;31mTypeError\u001b[0m                                 Traceback (most recent call last)",
      "Cell \u001b[0;32mIn[71], line 1\u001b[0m\n\u001b[0;32m----> 1\u001b[0m \u001b[38;5;124;43m\"\u001b[39;49m\u001b[38;5;124;43msourabh\u001b[39;49m\u001b[38;5;124;43m\"\u001b[39;49m\u001b[38;5;241;43m/\u001b[39;49m\u001b[38;5;241;43m5\u001b[39;49m\n",
      "\u001b[0;31mTypeError\u001b[0m: unsupported operand type(s) for /: 'str' and 'int'"
     ]
    }
   ],
   "source": [
    "\"sourabh\"/5"
   ]
  },
  {
   "cell_type": "code",
   "execution_count": 73,
   "id": "704921db-849d-4046-accf-7fd10049ee50",
   "metadata": {},
   "outputs": [
    {
     "ename": "SyntaxError",
     "evalue": "unterminated string literal (detected at line 1) (1811489030.py, line 1)",
     "output_type": "error",
     "traceback": [
      "\u001b[0;36m  Cell \u001b[0;32mIn[73], line 1\u001b[0;36m\u001b[0m\n\u001b[0;31m    'don't do copy and paste in my class'\u001b[0m\n\u001b[0m                                        ^\u001b[0m\n\u001b[0;31mSyntaxError\u001b[0m\u001b[0;31m:\u001b[0m unterminated string literal (detected at line 1)\n"
     ]
    }
   ],
   "source": [
    "'don't do copy and paste in my class'"
   ]
  },
  {
   "cell_type": "code",
   "execution_count": 79,
   "id": "35afcf82-edda-4f9d-9cad-49650a6fbbae",
   "metadata": {},
   "outputs": [
    {
     "ename": "SyntaxError",
     "evalue": "invalid syntax (2035679195.py, line 1)",
     "output_type": "error",
     "traceback": [
      "\u001b[0;36m  Cell \u001b[0;32mIn[79], line 1\u001b[0;36m\u001b[0m\n\u001b[0;31m    ***G\u001b[0m\n\u001b[0m    ^\u001b[0m\n\u001b[0;31mSyntaxError\u001b[0m\u001b[0;31m:\u001b[0m invalid syntax\n"
     ]
    }
   ],
   "source": []
  },
  {
   "cell_type": "code",
   "execution_count": 74,
   "id": "ef9e94d7-5de2-4829-8bea-70b1c6fefbed",
   "metadata": {},
   "outputs": [
    {
     "data": {
      "text/plain": [
       "\"don't do copy and paste in my class\""
      ]
     },
     "execution_count": 74,
     "metadata": {},
     "output_type": "execute_result"
    }
   ],
   "source": [
    "\"don't do copy and paste in my class\""
   ]
  },
  {
   "cell_type": "code",
   "execution_count": null,
   "id": "492020a9-940a-4254-9071-036a532f52d7",
   "metadata": {},
   "outputs": [],
   "source": []
  },
  {
   "cell_type": "code",
   "execution_count": null,
   "id": "e83fba75-0dc1-4758-8ac5-b156e870c692",
   "metadata": {},
   "outputs": [],
   "source": []
  },
  {
   "cell_type": "code",
   "execution_count": null,
   "id": "abec2010-d049-4a33-8793-7a8598c1ae1c",
   "metadata": {},
   "outputs": [],
   "source": []
  }
 ],
 "metadata": {
  "kernelspec": {
   "display_name": "Python 3 (ipykernel)",
   "language": "python",
   "name": "python3"
  },
  "language_info": {
   "codemirror_mode": {
    "name": "ipython",
    "version": 3
   },
   "file_extension": ".py",
   "mimetype": "text/x-python",
   "name": "python",
   "nbconvert_exporter": "python",
   "pygments_lexer": "ipython3",
   "version": "3.10.8"
  }
 },
 "nbformat": 4,
 "nbformat_minor": 5
}
