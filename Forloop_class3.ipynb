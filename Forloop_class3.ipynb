{
 "cells": [
  {
   "cell_type": "code",
   "execution_count": 1,
   "id": "edef29b4-b018-4ba4-b48a-907bc85bbdf0",
   "metadata": {},
   "outputs": [],
   "source": [
    "l = [1,2,3,4,5]"
   ]
  },
  {
   "cell_type": "code",
   "execution_count": 3,
   "id": "70d7dbbf-2f68-4f55-9e8d-85c50b20474e",
   "metadata": {},
   "outputs": [
    {
     "name": "stdout",
     "output_type": "stream",
     "text": [
      "1\n",
      "2\n",
      "3\n",
      "4\n",
      "5\n"
     ]
    }
   ],
   "source": [
    "for i in l:\n",
    "    print(i)"
   ]
  },
  {
   "cell_type": "code",
   "execution_count": 4,
   "id": "ed40c6c7-ef0f-4fb8-bcbe-8bf780092e41",
   "metadata": {},
   "outputs": [
    {
     "name": "stdout",
     "output_type": "stream",
     "text": [
      "2\n",
      "3\n",
      "4\n",
      "5\n",
      "6\n"
     ]
    }
   ],
   "source": [
    "# adding 1 to each element of list\n",
    "for i in l:\n",
    "    print(i+1)"
   ]
  },
  {
   "cell_type": "code",
   "execution_count": 5,
   "id": "b846f584-750b-4116-bf66-6a4ba45462f6",
   "metadata": {},
   "outputs": [
    {
     "name": "stdout",
     "output_type": "stream",
     "text": [
      "1 <class 'int'>\n",
      "2 <class 'int'>\n",
      "3 <class 'int'>\n",
      "4 <class 'int'>\n",
      "5 <class 'int'>\n"
     ]
    }
   ],
   "source": [
    "for i in l:\n",
    "    print(i, type(i))"
   ]
  },
  {
   "cell_type": "code",
   "execution_count": 7,
   "id": "d82fb9f4-8c03-4b82-8be5-ec7b2738c10b",
   "metadata": {},
   "outputs": [],
   "source": [
    "l1 = [\"sourab\", \"rawat\",\"sweta\", \"singh\"]"
   ]
  },
  {
   "cell_type": "code",
   "execution_count": 9,
   "id": "80a3cb78-d107-4254-9ce4-4b16751fb7f8",
   "metadata": {},
   "outputs": [
    {
     "name": "stdout",
     "output_type": "stream",
     "text": [
      "sourab\n",
      "rawat\n",
      "sweta\n",
      "singh\n"
     ]
    }
   ],
   "source": [
    "for i in l1:\n",
    "    print(i)"
   ]
  },
  {
   "cell_type": "markdown",
   "id": "89326964-0467-40ca-b923-2fbbde0c5c26",
   "metadata": {},
   "source": [
    "# For else"
   ]
  },
  {
   "cell_type": "code",
   "execution_count": 10,
   "id": "dcf724f2-6105-4fe3-88cb-5676650081b6",
   "metadata": {},
   "outputs": [
    {
     "data": {
      "text/plain": [
       "['sourab', 'rawat', 'sweta', 'singh']"
      ]
     },
     "execution_count": 10,
     "metadata": {},
     "output_type": "execute_result"
    }
   ],
   "source": [
    "l1"
   ]
  },
  {
   "cell_type": "code",
   "execution_count": 13,
   "id": "c7087f70-dcdd-4e2c-99ec-01b2dd818f8c",
   "metadata": {},
   "outputs": [
    {
     "name": "stdout",
     "output_type": "stream",
     "text": [
      "sourab\n",
      "rawat\n",
      "sweta\n",
      "singh\n",
      "Do something\n"
     ]
    }
   ],
   "source": [
    "for i in l1:\n",
    "    print(i)\n",
    "else:\n",
    "    print(\"Do something\")\n",
    "# IF LOOP IS ABLE TO COMPLETE THEN ONLY ELSE WILL EXCUTE"
   ]
  },
  {
   "cell_type": "code",
   "execution_count": 14,
   "id": "1885fcff-a6ab-42c0-8061-5c0702b133f0",
   "metadata": {},
   "outputs": [
    {
     "data": {
      "text/plain": [
       "['sourab', 'rawat', 'sweta', 'singh']"
      ]
     },
     "execution_count": 14,
     "metadata": {},
     "output_type": "execute_result"
    }
   ],
   "source": [
    "l1"
   ]
  },
  {
   "cell_type": "code",
   "execution_count": 15,
   "id": "384b5729-a2b8-4f53-b6c2-a34026dc59a8",
   "metadata": {},
   "outputs": [
    {
     "name": "stdout",
     "output_type": "stream",
     "text": [
      "sourab\n"
     ]
    }
   ],
   "source": [
    "for i in l1:\n",
    "    if i == \"rawat\":\n",
    "        break\n",
    "    print(i)"
   ]
  },
  {
   "cell_type": "code",
   "execution_count": 16,
   "id": "2ca25db3-e35b-40c0-90c4-2daa26f3d441",
   "metadata": {},
   "outputs": [
    {
     "name": "stdout",
     "output_type": "stream",
     "text": [
      "sourab\n"
     ]
    }
   ],
   "source": [
    "# else will not run because loop is not excuted completely\n",
    "for i in l1:\n",
    "    if i == \"rawat\":\n",
    "        break\n",
    "    print(i)\n",
    "else:\n",
    "    print(\"Exceute this if loop is able to complete\")"
   ]
  },
  {
   "cell_type": "code",
   "execution_count": 18,
   "id": "64443a8a-5f07-4a3c-9367-7150d1070ea9",
   "metadata": {},
   "outputs": [
    {
     "name": "stdout",
     "output_type": "stream",
     "text": [
      "sourab\n",
      "sweta\n",
      "singh\n"
     ]
    }
   ],
   "source": [
    "# contine gives control to for loop, so it excutes from the next \n",
    "for i in l1:\n",
    "    if i == \"rawat\":\n",
    "        continue\n",
    "    print(i)"
   ]
  },
  {
   "cell_type": "markdown",
   "id": "ff04d2ed-3315-4d3d-bf2f-a18ac58b9f3e",
   "metadata": {},
   "source": [
    "RANGE FUNCTION IS A GENERATOR FUNCTION TO GENERATE INTEGAR"
   ]
  },
  {
   "cell_type": "code",
   "execution_count": 19,
   "id": "ad575822-b50f-4d0c-a678-3515248955be",
   "metadata": {},
   "outputs": [
    {
     "data": {
      "text/plain": [
       "range(0, 5)"
      ]
     },
     "execution_count": 19,
     "metadata": {},
     "output_type": "execute_result"
    }
   ],
   "source": [
    "range(5)"
   ]
  },
  {
   "cell_type": "code",
   "execution_count": 20,
   "id": "3a30eb09-92a1-41ec-a44e-b55d6336b19c",
   "metadata": {},
   "outputs": [
    {
     "data": {
      "text/plain": [
       "[0, 1, 2, 3, 4]"
      ]
     },
     "execution_count": 20,
     "metadata": {},
     "output_type": "execute_result"
    }
   ],
   "source": [
    "# generate list excluding upper bound\n",
    "list(range(5))"
   ]
  },
  {
   "cell_type": "code",
   "execution_count": 24,
   "id": "6c9d5ff4-97e9-47e8-9727-c988c6dd182e",
   "metadata": {},
   "outputs": [
    {
     "data": {
      "text/plain": [
       "[1, 3, 5, 7, 9]"
      ]
     },
     "execution_count": 24,
     "metadata": {},
     "output_type": "execute_result"
    }
   ],
   "source": [
    "#  sttart, stop, step/jump\n",
    "list(range(1,10,2))"
   ]
  },
  {
   "cell_type": "code",
   "execution_count": 25,
   "id": "a581d54a-dfb7-455c-8907-0b0e39ffd956",
   "metadata": {},
   "outputs": [
    {
     "data": {
      "text/plain": [
       "[0, 4, 8, 12, 16]"
      ]
     },
     "execution_count": 25,
     "metadata": {},
     "output_type": "execute_result"
    }
   ],
   "source": [
    "list(range(0,20,4))"
   ]
  },
  {
   "cell_type": "code",
   "execution_count": 26,
   "id": "877db2e3-9a83-42c8-9474-f2b456299c93",
   "metadata": {},
   "outputs": [
    {
     "data": {
      "text/plain": [
       "[-10, -9, -8, -7, -6, -5, -4, -3, -2, -1]"
      ]
     },
     "execution_count": 26,
     "metadata": {},
     "output_type": "execute_result"
    }
   ],
   "source": [
    "list(range(-10,0))"
   ]
  },
  {
   "cell_type": "code",
   "execution_count": 27,
   "id": "4f8343ea-8470-48f1-ae35-860905e2afe2",
   "metadata": {},
   "outputs": [],
   "source": [
    "# reverse the order using foor loop"
   ]
  },
  {
   "cell_type": "code",
   "execution_count": 28,
   "id": "b42f8f1f-88ac-41c1-b569-bd1c86efae10",
   "metadata": {},
   "outputs": [
    {
     "data": {
      "text/plain": [
       "['sourab', 'rawat', 'sweta', 'singh']"
      ]
     },
     "execution_count": 28,
     "metadata": {},
     "output_type": "execute_result"
    }
   ],
   "source": [
    "l1"
   ]
  },
  {
   "cell_type": "code",
   "execution_count": 31,
   "id": "68a08a79-967e-4b9e-94e2-b6d6ca1e76dc",
   "metadata": {},
   "outputs": [
    {
     "data": {
      "text/plain": [
       "4"
      ]
     },
     "execution_count": 31,
     "metadata": {},
     "output_type": "execute_result"
    }
   ],
   "source": [
    "len(l1)"
   ]
  },
  {
   "cell_type": "code",
   "execution_count": 33,
   "id": "b269de6b-e0d4-4214-8c7a-a4d55923ce7d",
   "metadata": {},
   "outputs": [
    {
     "data": {
      "text/plain": [
       "[0, 1, 2, 3]"
      ]
     },
     "execution_count": 33,
     "metadata": {},
     "output_type": "execute_result"
    }
   ],
   "source": [
    "# it creates the index\n",
    "list(range(len(l1)))"
   ]
  },
  {
   "cell_type": "code",
   "execution_count": 34,
   "id": "ed2230d3-5f05-4848-8b8c-66152e186e59",
   "metadata": {},
   "outputs": [
    {
     "name": "stdout",
     "output_type": "stream",
     "text": [
      "sourab\n",
      "rawat\n",
      "sweta\n",
      "singh\n"
     ]
    }
   ],
   "source": [
    "for i in range(len(l1)):\n",
    "    print(l1[i])\n",
    "    "
   ]
  },
  {
   "cell_type": "code",
   "execution_count": 35,
   "id": "9e7a2ea0-c0ca-4376-8190-a65b2235794b",
   "metadata": {},
   "outputs": [
    {
     "data": {
      "text/plain": [
       "[]"
      ]
     },
     "execution_count": 35,
     "metadata": {},
     "output_type": "execute_result"
    }
   ],
   "source": [
    "list(range(len(l1), 0))"
   ]
  },
  {
   "cell_type": "code",
   "execution_count": 38,
   "id": "f9b023eb-626a-45f4-863a-d8e3b65cbd35",
   "metadata": {},
   "outputs": [
    {
     "data": {
      "text/plain": [
       "[3, 2, 1, 0]"
      ]
     },
     "execution_count": 38,
     "metadata": {},
     "output_type": "execute_result"
    }
   ],
   "source": [
    "list(range(len(l1)-1, -1, -1))"
   ]
  },
  {
   "cell_type": "code",
   "execution_count": 40,
   "id": "61fbc7d6-5fd4-49c2-9ef1-53aa3515929a",
   "metadata": {},
   "outputs": [
    {
     "name": "stdout",
     "output_type": "stream",
     "text": [
      "singh\n",
      "sweta\n",
      "rawat\n",
      "sourab\n"
     ]
    }
   ],
   "source": [
    "for i in range(len(l1)-1, -1, -1):\n",
    "    print(l1[i])"
   ]
  },
  {
   "cell_type": "code",
   "execution_count": null,
   "id": "8f91dac0-f5ba-4fce-bdc2-20b1c1f1083f",
   "metadata": {},
   "outputs": [],
   "source": []
  },
  {
   "cell_type": "code",
   "execution_count": 41,
   "id": "244122ce-a44c-48aa-ba8e-b12f8cd663b9",
   "metadata": {},
   "outputs": [
    {
     "name": "stdout",
     "output_type": "stream",
     "text": [
      "singh\n",
      "sweta\n",
      "rawat\n",
      "sourab\n"
     ]
    }
   ],
   "source": [
    "for i in [3,2,1,0]:\n",
    "    print(l1[i])"
   ]
  },
  {
   "cell_type": "code",
   "execution_count": 3,
   "id": "e5975b28-ad75-4e13-8b1b-6713687e842f",
   "metadata": {},
   "outputs": [],
   "source": [
    "l2 = [23,45,78,74,85,65,45,12]\n",
    "# extract only those data which is availabe to even index"
   ]
  },
  {
   "cell_type": "code",
   "execution_count": 4,
   "id": "2aac869b-f6f3-4446-93b8-0f6a6ad0c8b5",
   "metadata": {},
   "outputs": [
    {
     "data": {
      "text/plain": [
       "[23, 45, 78, 74, 85, 65, 45, 12]"
      ]
     },
     "execution_count": 4,
     "metadata": {},
     "output_type": "execute_result"
    }
   ],
   "source": [
    "l2"
   ]
  },
  {
   "cell_type": "code",
   "execution_count": 5,
   "id": "463c71c3-240d-44da-a833-319f4d9d96c6",
   "metadata": {},
   "outputs": [
    {
     "data": {
      "text/plain": [
       "[0, 2, 4, 6]"
      ]
     },
     "execution_count": 5,
     "metadata": {},
     "output_type": "execute_result"
    }
   ],
   "source": [
    "# generate the even index\n",
    "list(range(0,len(l2),2))"
   ]
  },
  {
   "cell_type": "code",
   "execution_count": 6,
   "id": "f6d9a19e-fb65-497f-88cd-a36cfa9fd7ab",
   "metadata": {},
   "outputs": [
    {
     "name": "stdout",
     "output_type": "stream",
     "text": [
      "23\n",
      "78\n",
      "85\n",
      "45\n"
     ]
    }
   ],
   "source": [
    "for i in range(0,len(l2),2):\n",
    "    print(l2[i])"
   ]
  },
  {
   "cell_type": "code",
   "execution_count": 7,
   "id": "61c9e16e-0ba1-4fed-8026-94159d96277e",
   "metadata": {},
   "outputs": [],
   "source": [
    "list = [1,2,3,4,5,6,7,8]\n"
   ]
  },
  {
   "cell_type": "code",
   "execution_count": 8,
   "id": "419fdb72-0526-4942-ad02-0c5ddc1e996c",
   "metadata": {},
   "outputs": [],
   "source": [
    "# add all the data in the list"
   ]
  },
  {
   "cell_type": "code",
   "execution_count": 11,
   "id": "c8a0c13f-7b6f-4a3f-8699-7fc02f9d801c",
   "metadata": {},
   "outputs": [
    {
     "data": {
      "text/plain": [
       "36"
      ]
     },
     "execution_count": 11,
     "metadata": {},
     "output_type": "execute_result"
    }
   ],
   "source": [
    "sum(list)"
   ]
  },
  {
   "cell_type": "code",
   "execution_count": 12,
   "id": "a91f666c-4583-4466-b700-69746f2d00d1",
   "metadata": {},
   "outputs": [],
   "source": [
    "result = 0\n",
    "for i in list:\n",
    "    result = result + i"
   ]
  },
  {
   "cell_type": "code",
   "execution_count": 13,
   "id": "76dd2442-4051-4d26-9634-0ff04c0eaf92",
   "metadata": {},
   "outputs": [
    {
     "data": {
      "text/plain": [
       "36"
      ]
     },
     "execution_count": 13,
     "metadata": {},
     "output_type": "execute_result"
    }
   ],
   "source": [
    "result"
   ]
  },
  {
   "cell_type": "code",
   "execution_count": 14,
   "id": "4e971f46-691a-47f2-b5ee-9f9b6000e02f",
   "metadata": {},
   "outputs": [],
   "source": [
    "t = (1,2,3,4,5,6)\n"
   ]
  },
  {
   "cell_type": "raw",
   "id": "f4eb7907-3c61-47e9-9fe7-8bcad3803f5c",
   "metadata": {},
   "source": []
  },
  {
   "cell_type": "code",
   "execution_count": 15,
   "id": "6064a6ef-ea11-4761-984d-ff4afa7c869d",
   "metadata": {},
   "outputs": [
    {
     "name": "stdout",
     "output_type": "stream",
     "text": [
      "1\n",
      "2\n",
      "3\n",
      "4\n",
      "5\n",
      "6\n"
     ]
    }
   ],
   "source": [
    "for i in t:\n",
    "    print(i)"
   ]
  },
  {
   "cell_type": "code",
   "execution_count": 16,
   "id": "08331552-57e0-4cd0-b916-564c972733b6",
   "metadata": {},
   "outputs": [],
   "source": [
    "set = {1,3,4,5,\"sudh\", \"rawat\"}"
   ]
  },
  {
   "cell_type": "code",
   "execution_count": 17,
   "id": "203eb98e-ed5d-483c-8bad-8489bbec75dc",
   "metadata": {},
   "outputs": [
    {
     "name": "stdout",
     "output_type": "stream",
     "text": [
      "1\n",
      "3\n",
      "4\n",
      "5\n",
      "sudh\n",
      "rawat\n"
     ]
    }
   ],
   "source": [
    "for i in set:\n",
    "    print(i)"
   ]
  },
  {
   "cell_type": "code",
   "execution_count": 18,
   "id": "53edd23b-b4c0-478a-aa5a-2cd1fb29e7ec",
   "metadata": {},
   "outputs": [],
   "source": [
    "s1 = \"pwskills\""
   ]
  },
  {
   "cell_type": "code",
   "execution_count": 20,
   "id": "2498efba-0449-4f6d-88cd-ce5e100c59a9",
   "metadata": {},
   "outputs": [
    {
     "name": "stdout",
     "output_type": "stream",
     "text": [
      "p\n",
      "w\n",
      "s\n",
      "k\n",
      "i\n",
      "l\n",
      "l\n",
      "s\n"
     ]
    }
   ],
   "source": [
    "for i in s1:\n",
    "    print(i)"
   ]
  },
  {
   "cell_type": "code",
   "execution_count": 21,
   "id": "eafa8ced-f7c0-42cd-89c3-74a9d86604a2",
   "metadata": {},
   "outputs": [],
   "source": [
    "dict = {\"key\" :\"value\", \"name\":\"sourabh\",\"college\":\"IIT BOMBAY\",\"TOPIC\":\"PYHTON AND MACHINE LEARNING\"}\n",
    "    "
   ]
  },
  {
   "cell_type": "code",
   "execution_count": 22,
   "id": "b24b83a4-b7b6-40da-bfa9-2d0d5e93a251",
   "metadata": {},
   "outputs": [
    {
     "data": {
      "text/plain": [
       "{'key': 'value',\n",
       " 'name': 'sourabh',\n",
       " 'college': 'IIT BOMBAY',\n",
       " 'TOPIC': 'PYHTON AND MACHINE LEARNING'}"
      ]
     },
     "execution_count": 22,
     "metadata": {},
     "output_type": "execute_result"
    }
   ],
   "source": [
    "dict"
   ]
  },
  {
   "cell_type": "code",
   "execution_count": 23,
   "id": "07bb3566-5b43-4984-8d7b-a9a52fabd3bc",
   "metadata": {},
   "outputs": [
    {
     "data": {
      "text/plain": [
       "dict_keys(['key', 'name', 'college', 'TOPIC'])"
      ]
     },
     "execution_count": 23,
     "metadata": {},
     "output_type": "execute_result"
    }
   ],
   "source": [
    "dict.keys()"
   ]
  },
  {
   "cell_type": "code",
   "execution_count": 24,
   "id": "0c7e5d0a-a9a4-40fe-a119-d7847c4377ff",
   "metadata": {},
   "outputs": [
    {
     "data": {
      "text/plain": [
       "dict_values(['value', 'sourabh', 'IIT BOMBAY', 'PYHTON AND MACHINE LEARNING'])"
      ]
     },
     "execution_count": 24,
     "metadata": {},
     "output_type": "execute_result"
    }
   ],
   "source": [
    "dict.values()"
   ]
  },
  {
   "cell_type": "code",
   "execution_count": 25,
   "id": "a389c3bc-8a84-4644-9e77-91e82d586a5f",
   "metadata": {},
   "outputs": [
    {
     "name": "stdout",
     "output_type": "stream",
     "text": [
      "key\n",
      "name\n",
      "college\n",
      "TOPIC\n"
     ]
    }
   ],
   "source": [
    "for i in dict.keys():\n",
    "    print(i)"
   ]
  },
  {
   "cell_type": "code",
   "execution_count": 27,
   "id": "9d7ad671-1614-4857-9457-869d6b3674c4",
   "metadata": {},
   "outputs": [
    {
     "name": "stdout",
     "output_type": "stream",
     "text": [
      "value\n",
      "sourabh\n",
      "IIT BOMBAY\n",
      "PYHTON AND MACHINE LEARNING\n"
     ]
    }
   ],
   "source": [
    "for i in dict.keys():\n",
    "    print(dict[i])"
   ]
  },
  {
   "cell_type": "code",
   "execution_count": 30,
   "id": "60289750-26c6-492b-89f9-a646d0c9bb48",
   "metadata": {},
   "outputs": [
    {
     "data": {
      "text/plain": [
       "dict_items([('key', 'value'), ('name', 'sourabh'), ('college', 'IIT BOMBAY'), ('TOPIC', 'PYHTON AND MACHINE LEARNING')])"
      ]
     },
     "execution_count": 30,
     "metadata": {},
     "output_type": "execute_result"
    }
   ],
   "source": [
    "dict.items()"
   ]
  },
  {
   "cell_type": "code",
   "execution_count": 32,
   "id": "a7d4132f-f7be-4504-857e-02d33a5f2883",
   "metadata": {},
   "outputs": [],
   "source": [
    "s = \"sourav\""
   ]
  },
  {
   "cell_type": "code",
   "execution_count": 33,
   "id": "04b7abd3-9602-41df-b9ea-c5ead8712a0e",
   "metadata": {},
   "outputs": [
    {
     "data": {
      "text/plain": [
       "'s'"
      ]
     },
     "execution_count": 33,
     "metadata": {},
     "output_type": "execute_result"
    }
   ],
   "source": [
    "s[0]"
   ]
  },
  {
   "cell_type": "code",
   "execution_count": 35,
   "id": "a2a854d7-2684-4371-a532-98b5fd519867",
   "metadata": {},
   "outputs": [
    {
     "data": {
      "text/plain": [
       "'so'"
      ]
     },
     "execution_count": 35,
     "metadata": {},
     "output_type": "execute_result"
    }
   ],
   "source": [
    "s[0:2]"
   ]
  },
  {
   "cell_type": "code",
   "execution_count": 36,
   "id": "76c6827f-27e4-412d-838a-0a9e78b88673",
   "metadata": {},
   "outputs": [
    {
     "data": {
      "text/plain": [
       "'souravrawat'"
      ]
     },
     "execution_count": 36,
     "metadata": {},
     "output_type": "execute_result"
    }
   ],
   "source": [
    "s + \"rawat\""
   ]
  },
  {
   "cell_type": "code",
   "execution_count": 46,
   "id": "18b3f8c0-5b5b-4c7f-a54d-f1e018c0ca76",
   "metadata": {},
   "outputs": [],
   "source": [
    "s1 = \"souravrawat525\""
   ]
  },
  {
   "cell_type": "code",
   "execution_count": 47,
   "id": "22e5f6df-e6c2-4c06-8d8f-ada48182c5fb",
   "metadata": {},
   "outputs": [
    {
     "data": {
      "text/plain": [
       "'souravrawat525'"
      ]
     },
     "execution_count": 47,
     "metadata": {},
     "output_type": "execute_result"
    }
   ],
   "source": [
    "s1"
   ]
  },
  {
   "cell_type": "code",
   "execution_count": 48,
   "id": "7e799e2b-04e6-4357-8d71-11d211f2aea4",
   "metadata": {},
   "outputs": [
    {
     "data": {
      "text/plain": [
       "True"
      ]
     },
     "execution_count": 48,
     "metadata": {},
     "output_type": "execute_result"
    }
   ],
   "source": [
    "s1.isalnum()"
   ]
  },
  {
   "cell_type": "code",
   "execution_count": 51,
   "id": "97166b22-e72b-4f95-a1a8-df869151401c",
   "metadata": {},
   "outputs": [
    {
     "data": {
      "text/plain": [
       "False"
      ]
     },
     "execution_count": 51,
     "metadata": {},
     "output_type": "execute_result"
    }
   ],
   "source": [
    "s1.isalpha()"
   ]
  },
  {
   "cell_type": "code",
   "execution_count": 52,
   "id": "13f66752-6e99-4200-9008-8f90877c3a7e",
   "metadata": {},
   "outputs": [
    {
     "data": {
      "text/plain": [
       "False"
      ]
     },
     "execution_count": 52,
     "metadata": {},
     "output_type": "execute_result"
    }
   ],
   "source": [
    "s.isalpha()"
   ]
  },
  {
   "cell_type": "code",
   "execution_count": 53,
   "id": "805ff94d-9ce3-41a3-b44a-1ea6332fa287",
   "metadata": {},
   "outputs": [
    {
     "data": {
      "text/plain": [
       "False"
      ]
     },
     "execution_count": 53,
     "metadata": {},
     "output_type": "execute_result"
    }
   ],
   "source": [
    "s.isnumeric()"
   ]
  },
  {
   "cell_type": "code",
   "execution_count": 54,
   "id": "e1f70fdf-f994-4900-8755-864ec930bbb2",
   "metadata": {},
   "outputs": [],
   "source": [
    "s = \"1234\""
   ]
  },
  {
   "cell_type": "code",
   "execution_count": 55,
   "id": "3eac9a20-0c7a-4511-b50e-36400575351e",
   "metadata": {},
   "outputs": [
    {
     "data": {
      "text/plain": [
       "True"
      ]
     },
     "execution_count": 55,
     "metadata": {},
     "output_type": "execute_result"
    }
   ],
   "source": [
    "s.isnumeric()"
   ]
  },
  {
   "cell_type": "code",
   "execution_count": 56,
   "id": "7f34f03a-3d73-43f4-9590-9a8d706d0b8a",
   "metadata": {},
   "outputs": [
    {
     "data": {
      "text/plain": [
       "'p w s k i l l s'"
      ]
     },
     "execution_count": 56,
     "metadata": {},
     "output_type": "execute_result"
    }
   ],
   "source": [
    "string = \"p w s k i l l s\"\n",
    "\n",
    "\" \".join(string.replace(\" \", \"\"))"
   ]
  },
  {
   "cell_type": "code",
   "execution_count": 57,
   "id": "0ea0848c-248d-4c3f-af86-699b9efbf0f3",
   "metadata": {},
   "outputs": [
    {
     "data": {
      "text/plain": [
       "'p w s k i l l s'"
      ]
     },
     "execution_count": 57,
     "metadata": {},
     "output_type": "execute_result"
    }
   ],
   "source": [
    "string = \"p w s k i l l s\"\n",
    "\" \".join(string.replace(\" \",\"\"))"
   ]
  },
  {
   "cell_type": "code",
   "execution_count": 58,
   "id": "2c2e2b9e-5e17-4ca1-9a32-43f8a9a3b672",
   "metadata": {},
   "outputs": [
    {
     "data": {
      "text/plain": [
       "'p w s k i l l s'"
      ]
     },
     "execution_count": 58,
     "metadata": {},
     "output_type": "execute_result"
    }
   ],
   "source": [
    "string"
   ]
  },
  {
   "cell_type": "code",
   "execution_count": 59,
   "id": "674c41f9-99d1-4170-ba29-5ea204660e33",
   "metadata": {},
   "outputs": [
    {
     "data": {
      "text/plain": [
       "True"
      ]
     },
     "execution_count": 59,
     "metadata": {},
     "output_type": "execute_result"
    }
   ],
   "source": [
    "\"pwskills\"[::-1].upper().replace(\"SLLIKSWP\", \"pwskills\").islower()"
   ]
  },
  {
   "cell_type": "code",
   "execution_count": 60,
   "id": "b1df55f1-38a1-4146-9577-1748df0e0d81",
   "metadata": {},
   "outputs": [
    {
     "name": "stdout",
     "output_type": "stream",
     "text": [
      "I\n",
      "Want\n",
      "To\n",
      "Become\n",
      "A\n",
      "Data\n",
      "Scientist\n"
     ]
    }
   ],
   "source": [
    "s = \"I want to become a data scientist\"\n",
    "\n",
    "for i in s.split():\n",
    "\n",
    "    i.capitalize()\n",
    "\n",
    "    print(i.title())"
   ]
  },
  {
   "cell_type": "code",
   "execution_count": 61,
   "id": "68c0eeb1-fb19-4f17-95ab-2cba0ce08721",
   "metadata": {},
   "outputs": [
    {
     "ename": "TypeError",
     "evalue": "'str' object does not support item assignment",
     "output_type": "error",
     "traceback": [
      "\u001b[0;31m---------------------------------------------------------------------------\u001b[0m",
      "\u001b[0;31mTypeError\u001b[0m                                 Traceback (most recent call last)",
      "Cell \u001b[0;32mIn[61], line 1\u001b[0m\n\u001b[0;32m----> 1\u001b[0m \u001b[38;5;124;43m'\u001b[39;49m\u001b[38;5;124;43mpwskills\u001b[39;49m\u001b[38;5;124;43m'\u001b[39;49m\u001b[43m[\u001b[49m\u001b[38;5;241;43m0\u001b[39;49m\u001b[43m]\u001b[49m\u001b[38;5;241m=\u001b[39m\u001b[38;5;124m'\u001b[39m\u001b[38;5;124mP\u001b[39m\u001b[38;5;124m'\u001b[39m\n",
      "\u001b[0;31mTypeError\u001b[0m: 'str' object does not support item assignment"
     ]
    }
   ],
   "source": [
    "'pwskills'[0]='P'"
   ]
  },
  {
   "cell_type": "code",
   "execution_count": null,
   "id": "8d1e4803-641e-41f7-917a-08794be84a0a",
   "metadata": {},
   "outputs": [],
   "source": []
  }
 ],
 "metadata": {
  "kernelspec": {
   "display_name": "Python 3 (ipykernel)",
   "language": "python",
   "name": "python3"
  },
  "language_info": {
   "codemirror_mode": {
    "name": "ipython",
    "version": 3
   },
   "file_extension": ".py",
   "mimetype": "text/x-python",
   "name": "python",
   "nbconvert_exporter": "python",
   "pygments_lexer": "ipython3",
   "version": "3.10.8"
  }
 },
 "nbformat": 4,
 "nbformat_minor": 5
}
