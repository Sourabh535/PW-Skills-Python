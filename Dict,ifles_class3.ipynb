{
 "cells": [
  {
   "cell_type": "markdown",
   "id": "533bbea1-4e88-48c8-b577-dcfc59f6493f",
   "metadata": {},
   "source": [
    "DICTIONARY"
   ]
  },
  {
   "cell_type": "code",
   "execution_count": 1,
   "id": "71b8b3b2-bc4e-4159-8c9b-423e2311eba1",
   "metadata": {},
   "outputs": [],
   "source": [
    "d = {}"
   ]
  },
  {
   "cell_type": "code",
   "execution_count": 2,
   "id": "12d8f665-0fdf-4eb3-8c59-f30400f7b6d4",
   "metadata": {},
   "outputs": [
    {
     "data": {
      "text/plain": [
       "dict"
      ]
     },
     "execution_count": 2,
     "metadata": {},
     "output_type": "execute_result"
    }
   ],
   "source": [
    "type(d)"
   ]
  },
  {
   "cell_type": "code",
   "execution_count": 3,
   "id": "1b3b206d-4793-450a-93db-8f3d02520e8f",
   "metadata": {},
   "outputs": [],
   "source": [
    "d1 = {\"key\":\"value\"}"
   ]
  },
  {
   "cell_type": "code",
   "execution_count": 5,
   "id": "80846edc-dd4c-47c3-b03f-c56e3fd12698",
   "metadata": {},
   "outputs": [
    {
     "data": {
      "text/plain": [
       "{'key': 'value'}"
      ]
     },
     "execution_count": 5,
     "metadata": {},
     "output_type": "execute_result"
    }
   ],
   "source": [
    "d1"
   ]
  },
  {
   "cell_type": "markdown",
   "id": "98275763-17d1-4084-ad46-20edad28951a",
   "metadata": {},
   "source": [
    "# key should always be unique\n",
    "# "
   ]
  },
  {
   "cell_type": "code",
   "execution_count": 8,
   "id": "d0a51b00-a606-4dd4-b9b1-f8db8d415572",
   "metadata": {},
   "outputs": [],
   "source": [
    "d2 = {\"name\" :\"sourabh\",\"eamil\":\"souraveawat525@gmail.com\",\"number\": \"886664\"}"
   ]
  },
  {
   "cell_type": "code",
   "execution_count": 9,
   "id": "7fb621b4-ec8d-4c10-8c76-1cbb1d139eef",
   "metadata": {},
   "outputs": [
    {
     "data": {
      "text/plain": [
       "{'name': 'sourabh', 'eamil': 'souraveawat525@gmail.com', 'number': '886664'}"
      ]
     },
     "execution_count": 9,
     "metadata": {},
     "output_type": "execute_result"
    }
   ],
   "source": [
    "d2"
   ]
  },
  {
   "cell_type": "code",
   "execution_count": 11,
   "id": "f0dd586d-bee1-4d96-bc56-5d6d873c44f3",
   "metadata": {},
   "outputs": [
    {
     "data": {
      "text/plain": [
       "dict_values(['sourabh', 'souraveawat525@gmail.com', '886664'])"
      ]
     },
     "execution_count": 11,
     "metadata": {},
     "output_type": "execute_result"
    }
   ],
   "source": [
    "d2.values()"
   ]
  },
  {
   "cell_type": "code",
   "execution_count": 12,
   "id": "6be17839-23bc-4f1e-8dc3-1c25f39d6c62",
   "metadata": {},
   "outputs": [
    {
     "data": {
      "text/plain": [
       "dict_keys(['name', 'eamil', 'number'])"
      ]
     },
     "execution_count": 12,
     "metadata": {},
     "output_type": "execute_result"
    }
   ],
   "source": [
    "d2.keys()"
   ]
  },
  {
   "cell_type": "code",
   "execution_count": 18,
   "id": "6ef098e1-ab1c-4170-91d6-d499d4c412d0",
   "metadata": {},
   "outputs": [
    {
     "ename": "SyntaxError",
     "evalue": "invalid syntax (1180364602.py, line 1)",
     "output_type": "error",
     "traceback": [
      "\u001b[0;36m  Cell \u001b[0;32mIn[18], line 1\u001b[0;36m\u001b[0m\n\u001b[0;31m    d3 = {56: \"sourab\", @ : \"ss\"}\u001b[0m\n\u001b[0m                        ^\u001b[0m\n\u001b[0;31mSyntaxError\u001b[0m\u001b[0;31m:\u001b[0m invalid syntax\n"
     ]
    }
   ],
   "source": [
    "d3 = {56: \"sourab\", @ : \"ss\"}"
   ]
  },
  {
   "cell_type": "code",
   "execution_count": 19,
   "id": "98888781-ee47-496f-9c30-0844d868be75",
   "metadata": {},
   "outputs": [],
   "source": [
    "d3 = {56: \"sourab\", \"@\" : \"ss\"}"
   ]
  },
  {
   "cell_type": "code",
   "execution_count": 20,
   "id": "6ec371a4-433f-4e66-a642-e34efa35143f",
   "metadata": {},
   "outputs": [
    {
     "data": {
      "text/plain": [
       "{56: 'sourab', '@': 'ss'}"
      ]
     },
     "execution_count": 20,
     "metadata": {},
     "output_type": "execute_result"
    }
   ],
   "source": [
    "d3"
   ]
  },
  {
   "cell_type": "code",
   "execution_count": 21,
   "id": "7fc79d7b-6dd8-4191-b988-7ea179500ca4",
   "metadata": {},
   "outputs": [],
   "source": [
    "d3 = {56: \"sourab\", \"@\" : \"ss\", True:\"no\"}"
   ]
  },
  {
   "cell_type": "code",
   "execution_count": 23,
   "id": "d305b52b-09a2-4544-a0bf-1508df36275b",
   "metadata": {},
   "outputs": [
    {
     "data": {
      "text/plain": [
       "{56: 'sourab', '@': 'ss', True: 'no'}"
      ]
     },
     "execution_count": 23,
     "metadata": {},
     "output_type": "execute_result"
    }
   ],
   "source": [
    "# boolean are allowes\n",
    "# special characters are not allowed\n",
    "d3"
   ]
  },
  {
   "cell_type": "code",
   "execution_count": 24,
   "id": "119711bd-0196-4b35-b569-3670de26eb64",
   "metadata": {},
   "outputs": [
    {
     "data": {
      "text/plain": [
       "'sourab'"
      ]
     },
     "execution_count": 24,
     "metadata": {},
     "output_type": "execute_result"
    }
   ],
   "source": [
    "d3[56]"
   ]
  },
  {
   "cell_type": "code",
   "execution_count": 25,
   "id": "b0c1c7f2-79e8-465b-9c34-3cb123477480",
   "metadata": {},
   "outputs": [
    {
     "data": {
      "text/plain": [
       "'no'"
      ]
     },
     "execution_count": 25,
     "metadata": {},
     "output_type": "execute_result"
    }
   ],
   "source": [
    "# for True\n",
    "d3[1]"
   ]
  },
  {
   "cell_type": "code",
   "execution_count": 27,
   "id": "51208408-0ced-41ab-ae69-d2122b391029",
   "metadata": {},
   "outputs": [],
   "source": [
    "d4 = {\"name\":\"sourab\",\"mail\":\"sourab525@gmail.com\",\"no\":\"869988\",\"name\":\"sudh\"}"
   ]
  },
  {
   "cell_type": "code",
   "execution_count": 28,
   "id": "3f5eb0c4-6e31-4f12-b1aa-12758501d498",
   "metadata": {},
   "outputs": [
    {
     "data": {
      "text/plain": [
       "{'name': 'sudh', 'mail': 'sourab525@gmail.com', 'no': '869988'}"
      ]
     },
     "execution_count": 28,
     "metadata": {},
     "output_type": "execute_result"
    }
   ],
   "source": [
    "d4"
   ]
  },
  {
   "cell_type": "markdown",
   "id": "4f0d7557-b22e-4da3-ba17-688e3dd742f6",
   "metadata": {},
   "source": [
    "# key should always be unique\n",
    "# it sholud override last value"
   ]
  },
  {
   "cell_type": "code",
   "execution_count": 32,
   "id": "9c69c5c5-2d85-4cbe-be79-a2f0691a9a48",
   "metadata": {},
   "outputs": [],
   "source": [
    "d5 = {\"company\":\"pwskills\",\"courses\":[\"web dev\", \"data science\", \"java with dsa\"]}"
   ]
  },
  {
   "cell_type": "code",
   "execution_count": 33,
   "id": "279757ca-4871-4f43-828e-d1aa08164219",
   "metadata": {},
   "outputs": [
    {
     "data": {
      "text/plain": [
       "{'company': 'pwskills',\n",
       " 'courses': ['web dev', 'data science', 'java with dsa']}"
      ]
     },
     "execution_count": 33,
     "metadata": {},
     "output_type": "execute_result"
    }
   ],
   "source": [
    "d5"
   ]
  },
  {
   "cell_type": "code",
   "execution_count": 35,
   "id": "5e052b15-2cba-448b-8675-86a208b370ed",
   "metadata": {},
   "outputs": [
    {
     "data": {
      "text/plain": [
       "'java with dsa'"
      ]
     },
     "execution_count": 35,
     "metadata": {},
     "output_type": "execute_result"
    }
   ],
   "source": [
    "d5[\"courses\"][2]"
   ]
  },
  {
   "cell_type": "code",
   "execution_count": 40,
   "id": "559b9283-157f-4a51-8434-6be71d1390e0",
   "metadata": {},
   "outputs": [],
   "source": [
    "d6 = {\"number\":[4,5,5,8], \"assignment\":(8,7,6,7), \"launchdate\":{28,12,14}, \"classtime\": {\"webdev\" : 8, \"data science\" : 8, \"java with design\": 7}}\n"
   ]
  },
  {
   "cell_type": "code",
   "execution_count": 41,
   "id": "7a0839fb-5c48-430e-a5d8-a59042bebe33",
   "metadata": {},
   "outputs": [
    {
     "data": {
      "text/plain": [
       "{'number': [4, 5, 5, 8],\n",
       " 'assignment': (8, 7, 6, 7),\n",
       " 'launchdate': {12, 14, 28},\n",
       " 'classtime': {'webdev': 8, 'data science': 8, 'java with design': 7}}"
      ]
     },
     "execution_count": 41,
     "metadata": {},
     "output_type": "execute_result"
    }
   ],
   "source": [
    "d6"
   ]
  },
  {
   "cell_type": "code",
   "execution_count": 42,
   "id": "1faefad1-a68e-46ad-9496-464f72f8cc68",
   "metadata": {},
   "outputs": [
    {
     "data": {
      "text/plain": [
       "dict_values([[4, 5, 5, 8], (8, 7, 6, 7), {28, 12, 14}, {'webdev': 8, 'data science': 8, 'java with design': 7}])"
      ]
     },
     "execution_count": 42,
     "metadata": {},
     "output_type": "execute_result"
    }
   ],
   "source": [
    "d6.values()"
   ]
  },
  {
   "cell_type": "code",
   "execution_count": 43,
   "id": "c7f44f21-ae5e-40b3-906d-def6d6d14a8c",
   "metadata": {},
   "outputs": [
    {
     "data": {
      "text/plain": [
       "{'webdev': 8, 'data science': 8, 'java with design': 7}"
      ]
     },
     "execution_count": 43,
     "metadata": {},
     "output_type": "execute_result"
    }
   ],
   "source": [
    "d6[\"classtime\"]"
   ]
  },
  {
   "cell_type": "code",
   "execution_count": 46,
   "id": "ad1422f1-4c76-4afc-ba99-d9c538915257",
   "metadata": {},
   "outputs": [
    {
     "data": {
      "text/plain": [
       "7"
      ]
     },
     "execution_count": 46,
     "metadata": {},
     "output_type": "execute_result"
    }
   ],
   "source": [
    "d6[\"classtime\"]['java with design']"
   ]
  },
  {
   "cell_type": "code",
   "execution_count": 47,
   "id": "4d63d1e2-a95e-4fa7-b6e1-7aaac495c8f2",
   "metadata": {},
   "outputs": [],
   "source": [
    "# for addding new data\n",
    "d6[\"mentor\"] = [\"Himanshu\", \"anurag\",\"krish\"]"
   ]
  },
  {
   "cell_type": "code",
   "execution_count": 48,
   "id": "25472a24-0536-4bed-96a0-6955a8119a6e",
   "metadata": {},
   "outputs": [
    {
     "data": {
      "text/plain": [
       "{'number': [4, 5, 5, 8],\n",
       " 'assignment': (8, 7, 6, 7),\n",
       " 'launchdate': {12, 14, 28},\n",
       " 'classtime': {'webdev': 8, 'data science': 8, 'java with design': 7},\n",
       " 'mentor': ['Himanshu', 'anurag', 'krish']}"
      ]
     },
     "execution_count": 48,
     "metadata": {},
     "output_type": "execute_result"
    }
   ],
   "source": [
    "d6"
   ]
  },
  {
   "cell_type": "code",
   "execution_count": 49,
   "id": "123d255b-7d76-42e9-bbc1-8b45133c1601",
   "metadata": {},
   "outputs": [],
   "source": [
    "# for deleting the existing data\n",
    "del d6[\"number\"]"
   ]
  },
  {
   "cell_type": "code",
   "execution_count": 50,
   "id": "6b08eb19-25e2-4c9b-9e3f-fb3f8ac93cf2",
   "metadata": {},
   "outputs": [
    {
     "data": {
      "text/plain": [
       "{'assignment': (8, 7, 6, 7),\n",
       " 'launchdate': {12, 14, 28},\n",
       " 'classtime': {'webdev': 8, 'data science': 8, 'java with design': 7},\n",
       " 'mentor': ['Himanshu', 'anurag', 'krish']}"
      ]
     },
     "execution_count": 50,
     "metadata": {},
     "output_type": "execute_result"
    }
   ],
   "source": [
    "d6"
   ]
  },
  {
   "cell_type": "code",
   "execution_count": 51,
   "id": "ed4fa736-0187-4563-bf63-bc8bea64cb08",
   "metadata": {},
   "outputs": [
    {
     "data": {
      "text/plain": [
       "dict_keys(['assignment', 'launchdate', 'classtime', 'mentor'])"
      ]
     },
     "execution_count": 51,
     "metadata": {},
     "output_type": "execute_result"
    }
   ],
   "source": [
    "d6.keys()"
   ]
  },
  {
   "cell_type": "code",
   "execution_count": 52,
   "id": "37677e92-dc96-4f1c-825b-3ee79044f328",
   "metadata": {},
   "outputs": [],
   "source": [
    "del d6[\"mentor\"]"
   ]
  },
  {
   "cell_type": "code",
   "execution_count": 53,
   "id": "58aeb1e7-8b79-4a97-86e4-096e675570c6",
   "metadata": {},
   "outputs": [
    {
     "data": {
      "text/plain": [
       "{'assignment': (8, 7, 6, 7),\n",
       " 'launchdate': {12, 14, 28},\n",
       " 'classtime': {'webdev': 8, 'data science': 8, 'java with design': 7}}"
      ]
     },
     "execution_count": 53,
     "metadata": {},
     "output_type": "execute_result"
    }
   ],
   "source": [
    "d6"
   ]
  },
  {
   "cell_type": "code",
   "execution_count": 54,
   "id": "0953c97f-8c2a-4265-a0f8-c93b08d07458",
   "metadata": {},
   "outputs": [
    {
     "data": {
      "text/plain": [
       "['assignment', 'launchdate', 'classtime']"
      ]
     },
     "execution_count": 54,
     "metadata": {},
     "output_type": "execute_result"
    }
   ],
   "source": [
    "list(d6.keys())"
   ]
  },
  {
   "cell_type": "code",
   "execution_count": 55,
   "id": "f778e248-e2a9-4022-8b0f-5ee8d5015c9b",
   "metadata": {},
   "outputs": [
    {
     "data": {
      "text/plain": [
       "dict_values([(8, 7, 6, 7), {28, 12, 14}, {'webdev': 8, 'data science': 8, 'java with design': 7}])"
      ]
     },
     "execution_count": 55,
     "metadata": {},
     "output_type": "execute_result"
    }
   ],
   "source": [
    "d6.values()"
   ]
  },
  {
   "cell_type": "code",
   "execution_count": 57,
   "id": "37868cae-8ed3-4a14-b336-5c12c61f250d",
   "metadata": {},
   "outputs": [
    {
     "data": {
      "text/plain": [
       "[(8, 7, 6, 7),\n",
       " {12, 14, 28},\n",
       " {'webdev': 8, 'data science': 8, 'java with design': 7}]"
      ]
     },
     "execution_count": 57,
     "metadata": {},
     "output_type": "execute_result"
    }
   ],
   "source": [
    "list(d6.values())"
   ]
  },
  {
   "cell_type": "code",
   "execution_count": 58,
   "id": "0b455ee2-c587-45a8-8856-3dab8cd5db2c",
   "metadata": {},
   "outputs": [
    {
     "data": {
      "text/plain": [
       "dict_items([('assignment', (8, 7, 6, 7)), ('launchdate', {28, 12, 14}), ('classtime', {'webdev': 8, 'data science': 8, 'java with design': 7})])"
      ]
     },
     "execution_count": 58,
     "metadata": {},
     "output_type": "execute_result"
    }
   ],
   "source": [
    "d6.items()"
   ]
  },
  {
   "cell_type": "code",
   "execution_count": 59,
   "id": "e029bd04-9bf6-45f5-948d-441b381568bf",
   "metadata": {},
   "outputs": [
    {
     "data": {
      "text/plain": [
       "[('assignment', (8, 7, 6, 7)),\n",
       " ('launchdate', {12, 14, 28}),\n",
       " ('classtime', {'webdev': 8, 'data science': 8, 'java with design': 7})]"
      ]
     },
     "execution_count": 59,
     "metadata": {},
     "output_type": "execute_result"
    }
   ],
   "source": [
    "list(d6.items())\n"
   ]
  },
  {
   "cell_type": "code",
   "execution_count": 61,
   "id": "360fabb4-3975-48a1-b649-9a81d2402a0e",
   "metadata": {},
   "outputs": [
    {
     "data": {
      "text/plain": [
       "(8, 7, 6, 7)"
      ]
     },
     "execution_count": 61,
     "metadata": {},
     "output_type": "execute_result"
    }
   ],
   "source": [
    "d6.pop(\"assignment\")"
   ]
  },
  {
   "cell_type": "code",
   "execution_count": 62,
   "id": "152135ed-a177-45b0-b7b9-701658a9f0d6",
   "metadata": {},
   "outputs": [
    {
     "data": {
      "text/plain": [
       "{'launchdate': {12, 14, 28},\n",
       " 'classtime': {'webdev': 8, 'data science': 8, 'java with design': 7}}"
      ]
     },
     "execution_count": 62,
     "metadata": {},
     "output_type": "execute_result"
    }
   ],
   "source": [
    "# DICTIONARY IS MUTABLE\n",
    "d6"
   ]
  },
  {
   "cell_type": "markdown",
   "id": "9f44f4c0-1742-4eae-846a-e0802935080c",
   "metadata": {},
   "source": [
    "# CONTROL FLOW\n",
    "# if else statement\n",
    "# INDENTATION \n",
    "# elif else if"
   ]
  },
  {
   "cell_type": "code",
   "execution_count": 66,
   "id": "d7f618c5-ab9f-4240-83e4-396557386e3d",
   "metadata": {},
   "outputs": [
    {
     "name": "stdin",
     "output_type": "stream",
     "text": [
      "Enter your marks 54\n"
     ]
    },
    {
     "name": "stdout",
     "output_type": "stream",
     "text": [
      "You will be a part of A2 BATCH\n"
     ]
    }
   ],
   "source": [
    "marks = int(input(\"Enter your marks\"))\n",
    "if marks >=80:\n",
    "    print(\"You will be a part of AA BATCH\")\n",
    "elif marks >= 60 and marks < 80:\n",
    "    print(\"You will be a part of A1 BATCH\")\n",
    "elif marks >= 40 and marks < 60:\n",
    "    print(\"You will be a part of A2 BATCH\")\n",
    "else:\n",
    "    print(\"You will be a part of A3 BATCH\")"
   ]
  },
  {
   "cell_type": "code",
   "execution_count": 67,
   "id": "102fdbef-469e-4db7-b6e1-153a1fe05d0e",
   "metadata": {},
   "outputs": [
    {
     "data": {
      "text/plain": [
       "int"
      ]
     },
     "execution_count": 67,
     "metadata": {},
     "output_type": "execute_result"
    }
   ],
   "source": [
    "type(marks)"
   ]
  },
  {
   "cell_type": "code",
   "execution_count": 77,
   "id": "ec30df14-0879-4024-bef2-55584f514948",
   "metadata": {},
   "outputs": [
    {
     "name": "stdin",
     "output_type": "stream",
     "text": [
      "Enter the amount 7000\n"
     ]
    },
    {
     "name": "stdout",
     "output_type": "stream",
     "text": [
      "I will not buy\n",
      "ITS TOO HIGH\n"
     ]
    }
   ],
   "source": [
    "price = int(input(\"Enter the amount\"))\n",
    "if price > 1000:\n",
    "    print(\"I will not buy\")\n",
    "    # IT WILL CREATE A NEW CONDITION\n",
    "    if price > 5000:\n",
    "        print(\"ITS TOO HIGH\")\n",
    "else:\n",
    "    print(\"I wil buy\")\n"
   ]
  },
  {
   "cell_type": "code",
   "execution_count": 82,
   "id": "db96dcfa-fcac-4412-b5c0-b3437d80fbaf",
   "metadata": {},
   "outputs": [],
   "source": [
    "l = [1,2,3,4,5,6,7,8,9,10]"
   ]
  },
  {
   "cell_type": "code",
   "execution_count": 83,
   "id": "b94a7dfd-6a2b-4550-8035-82b197716682",
   "metadata": {},
   "outputs": [
    {
     "data": {
      "text/plain": [
       "[1, 2, 3, 4, 5, 6, 7, 8, 9, 10]"
      ]
     },
     "execution_count": 83,
     "metadata": {},
     "output_type": "execute_result"
    }
   ],
   "source": [
    "l"
   ]
  },
  {
   "cell_type": "code",
   "execution_count": 84,
   "id": "36283a5b-21e7-4c12-b94a-4eb3b7309950",
   "metadata": {},
   "outputs": [],
   "source": [
    "# add +1 wtih every element\n",
    "# using loop\n",
    "# i is a temporary variable"
   ]
  },
  {
   "cell_type": "code",
   "execution_count": 100,
   "id": "1087a0a3-c9f0-4a32-ab1b-ff241b08929c",
   "metadata": {},
   "outputs": [],
   "source": [
    "l = [1,2,3,4,5,6,7,8,9,10]\n",
    "    "
   ]
  },
  {
   "cell_type": "code",
   "execution_count": 101,
   "id": "1f720b6a-09f5-458c-9eda-4a3ba94427c8",
   "metadata": {},
   "outputs": [
    {
     "data": {
      "text/plain": [
       "[1, 2, 3, 4, 5, 6, 7, 8, 9, 10]"
      ]
     },
     "execution_count": 101,
     "metadata": {},
     "output_type": "execute_result"
    }
   ],
   "source": [
    "l"
   ]
  },
  {
   "cell_type": "code",
   "execution_count": 104,
   "id": "8cfb9b7c-379f-4e72-a737-c2bf1c65bca8",
   "metadata": {},
   "outputs": [
    {
     "name": "stdout",
     "output_type": "stream",
     "text": [
      "2\n",
      "3\n",
      "4\n",
      "5\n",
      "6\n",
      "7\n",
      "8\n",
      "9\n",
      "10\n",
      "11\n"
     ]
    }
   ],
   "source": [
    "l1 = []\n",
    "for i in l:\n",
    "    print(i+1)\n",
    "    l1.append(i+1)"
   ]
  },
  {
   "cell_type": "code",
   "execution_count": 105,
   "id": "efc02adb-4dce-4266-912a-d03f788f3c41",
   "metadata": {},
   "outputs": [
    {
     "data": {
      "text/plain": [
       "[2, 3, 4, 5, 6, 7, 8, 9, 10, 11]"
      ]
     },
     "execution_count": 105,
     "metadata": {},
     "output_type": "execute_result"
    }
   ],
   "source": [
    "l1"
   ]
  },
  {
   "cell_type": "code",
   "execution_count": 106,
   "id": "c68566f8-96e8-4dc6-989b-ab39a9d89b7a",
   "metadata": {},
   "outputs": [],
   "source": [
    "l = [\"sourav\", \"rwat\" \"course\" ,\"pwskills\"]\n",
    "# convert all these into uppwecase"
   ]
  },
  {
   "cell_type": "code",
   "execution_count": 107,
   "id": "7f8674da-465e-4f2c-b2a3-4d6fa1adc87a",
   "metadata": {},
   "outputs": [
    {
     "data": {
      "text/plain": [
       "['sourav', 'rwatcourse', 'pwskills']"
      ]
     },
     "execution_count": 107,
     "metadata": {},
     "output_type": "execute_result"
    }
   ],
   "source": [
    "l"
   ]
  },
  {
   "cell_type": "code",
   "execution_count": 112,
   "id": "ea8e6031-2ffa-4758-ba51-98036fd346e7",
   "metadata": {},
   "outputs": [
    {
     "name": "stdout",
     "output_type": "stream",
     "text": [
      "sourav\n",
      "rwatcourse\n",
      "pwskills\n"
     ]
    }
   ],
   "source": [
    "l1 = []\n",
    "for i in l:\n",
    "    print(i)\n",
    "    l1.append(i.upper())"
   ]
  },
  {
   "cell_type": "code",
   "execution_count": 113,
   "id": "47ccf7fe-76b8-45f1-9b51-8b2d71f1bd8f",
   "metadata": {},
   "outputs": [
    {
     "data": {
      "text/plain": [
       "['SOURAV', 'RWATCOURSE', 'PWSKILLS']"
      ]
     },
     "execution_count": 113,
     "metadata": {},
     "output_type": "execute_result"
    }
   ],
   "source": [
    "l1"
   ]
  },
  {
   "cell_type": "code",
   "execution_count": 114,
   "id": "9cd92db1-ec42-496a-8b94-3c0ff4971352",
   "metadata": {},
   "outputs": [],
   "source": [
    "l = [\"sourav\", \"rwat\" \"course\" ,\"pwskills\"]\n"
   ]
  },
  {
   "cell_type": "code",
   "execution_count": 115,
   "id": "98c89c49-fb70-4bca-80d6-0bdc688027ea",
   "metadata": {},
   "outputs": [
    {
     "data": {
      "text/plain": [
       "['sourav', 'rwatcourse', 'pwskills']"
      ]
     },
     "execution_count": 115,
     "metadata": {},
     "output_type": "execute_result"
    }
   ],
   "source": [
    "l"
   ]
  },
  {
   "cell_type": "code",
   "execution_count": 124,
   "id": "d2327e77-50c9-4bea-a940-38c9e36d734f",
   "metadata": {},
   "outputs": [
    {
     "data": {
      "text/plain": [
       "'SOURAV'"
      ]
     },
     "execution_count": 124,
     "metadata": {},
     "output_type": "execute_result"
    }
   ],
   "source": [
    "l[0].upper()"
   ]
  },
  {
   "cell_type": "code",
   "execution_count": 125,
   "id": "f7893bd5-7bd3-4515-88fb-72351a4ad589",
   "metadata": {},
   "outputs": [],
   "source": [
    "l = [2,4,8,\"sourav\", \"abc\", 45.8, 45,7, \"kumar\"]"
   ]
  },
  {
   "cell_type": "code",
   "execution_count": 126,
   "id": "a1fb9509-06a9-47c5-a1f1-fd9794df9825",
   "metadata": {},
   "outputs": [
    {
     "data": {
      "text/plain": [
       "[2, 4, 8, 'sourav', 'abc', 45.8, 45, 7, 'kumar']"
      ]
     },
     "execution_count": 126,
     "metadata": {},
     "output_type": "execute_result"
    }
   ],
   "source": [
    "l"
   ]
  },
  {
   "cell_type": "markdown",
   "id": "9576bbd4-da76-4688-848f-b3b00355fb9b",
   "metadata": {},
   "source": [
    "# create two separate list  with specific integers and string"
   ]
  },
  {
   "cell_type": "code",
   "execution_count": 134,
   "id": "dd3fac99-f419-4520-95ef-590f42c6dc4d",
   "metadata": {},
   "outputs": [],
   "source": [
    "# string\n",
    "# numeric\n",
    "l1 = [] \n",
    "l2 = [] \n",
    "for i in l:\n",
    "    if type(i)  == int or type(i) == float:\n",
    "        l1.append(i)\n",
    "    else:\n",
    "        l2.append(i)\n",
    "        \n"
   ]
  },
  {
   "cell_type": "code",
   "execution_count": null,
   "id": "71afb49b-34be-4d07-941e-a914375b906e",
   "metadata": {},
   "outputs": [],
   "source": []
  }
 ],
 "metadata": {
  "kernelspec": {
   "display_name": "Python 3 (ipykernel)",
   "language": "python",
   "name": "python3"
  },
  "language_info": {
   "codemirror_mode": {
    "name": "ipython",
    "version": 3
   },
   "file_extension": ".py",
   "mimetype": "text/x-python",
   "name": "python",
   "nbconvert_exporter": "python",
   "pygments_lexer": "ipython3",
   "version": "3.10.8"
  }
 },
 "nbformat": 4,
 "nbformat_minor": 5
}
