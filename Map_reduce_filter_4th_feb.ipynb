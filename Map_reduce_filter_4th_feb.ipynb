{
 "cells": [
  {
   "cell_type": "code",
   "execution_count": 1,
   "id": "41ed535f-5504-4789-92c7-ecb6930866b6",
   "metadata": {},
   "outputs": [],
   "source": [
    "l = [2,3,4,5,6]"
   ]
  },
  {
   "cell_type": "code",
   "execution_count": 2,
   "id": "4bf05a54-720b-4201-9d64-ab45232f014c",
   "metadata": {},
   "outputs": [
    {
     "data": {
      "text/plain": [
       "[2, 3, 4, 5, 6]"
      ]
     },
     "execution_count": 2,
     "metadata": {},
     "output_type": "execute_result"
    }
   ],
   "source": [
    "l"
   ]
  },
  {
   "cell_type": "markdown",
   "id": "fefbd620-ff82-4a6e-80ec-530d4beb4e6d",
   "metadata": {},
   "source": [
    "# PERFORMING OPEARTION FOR DATASET IN LIST"
   ]
  },
  {
   "cell_type": "code",
   "execution_count": 3,
   "id": "3ea1f20c-fc92-482f-a0db-d333f5e144d4",
   "metadata": {},
   "outputs": [],
   "source": [
    "def text(l):\n",
    "    l1 = []\n",
    "    for i in l:\n",
    "        l1.append(i**2)\n",
    "    return l1"
   ]
  },
  {
   "cell_type": "code",
   "execution_count": 5,
   "id": "d9d0d0d0-0476-4a06-ba3d-0ab3db4cb879",
   "metadata": {},
   "outputs": [
    {
     "data": {
      "text/plain": [
       "[4, 9, 16, 25, 36]"
      ]
     },
     "execution_count": 5,
     "metadata": {},
     "output_type": "execute_result"
    }
   ],
   "source": [
    "text(l)"
   ]
  },
  {
   "cell_type": "code",
   "execution_count": null,
   "id": "89672d65-8a50-42b7-8657-8f1559fa6913",
   "metadata": {},
   "outputs": [],
   "source": []
  },
  {
   "cell_type": "markdown",
   "id": "73bbd368-9cf8-478b-b68a-738217f5e9a8",
   "metadata": {},
   "source": [
    "# MAP FUNCTION\n",
    "# FUNCTION AND TAKE ITERABLE"
   ]
  },
  {
   "cell_type": "code",
   "execution_count": 7,
   "id": "d27843f4-67b5-47e7-b6ce-978f5a11f364",
   "metadata": {},
   "outputs": [],
   "source": [
    "# external functioon\n",
    "def sq(x):\n",
    "    return x**2"
   ]
  },
  {
   "cell_type": "code",
   "execution_count": 9,
   "id": "838c3d60-d37d-48aa-9808-937acc79f297",
   "metadata": {},
   "outputs": [
    {
     "data": {
      "text/plain": [
       "<map at 0x7f78d428d960>"
      ]
     },
     "execution_count": 9,
     "metadata": {},
     "output_type": "execute_result"
    }
   ],
   "source": [
    "map(sq, l)"
   ]
  },
  {
   "cell_type": "code",
   "execution_count": 10,
   "id": "8d2fdd40-76b0-4a36-bbe7-f3f7817bd3b0",
   "metadata": {},
   "outputs": [
    {
     "data": {
      "text/plain": [
       "[4, 9, 16, 25, 36]"
      ]
     },
     "execution_count": 10,
     "metadata": {},
     "output_type": "execute_result"
    }
   ],
   "source": [
    "list(map(sq, l))"
   ]
  },
  {
   "cell_type": "code",
   "execution_count": 11,
   "id": "a914de8e-5bf3-4801-b7cb-204e98ca8662",
   "metadata": {},
   "outputs": [
    {
     "data": {
      "text/plain": [
       "[4, 9, 16, 25, 36]"
      ]
     },
     "execution_count": 11,
     "metadata": {},
     "output_type": "execute_result"
    }
   ],
   "source": [
    "# internal functionn\n",
    "list(map(lambda x : x**2, l))"
   ]
  },
  {
   "cell_type": "code",
   "execution_count": 12,
   "id": "efcdcf43-f070-495b-a86b-deef2e3d0d6c",
   "metadata": {},
   "outputs": [],
   "source": [
    "l1 = [1,2,3,4,5]\n",
    "l2 = [2,4,5,6,7]"
   ]
  },
  {
   "cell_type": "markdown",
   "id": "567a57ca-b986-4763-8fe9-33524a4efac7",
   "metadata": {},
   "source": [
    "\n",
    "# Add twoo llist index wise"
   ]
  },
  {
   "cell_type": "code",
   "execution_count": 14,
   "id": "c580fb63-1832-4238-b7b6-dcfb08456a83",
   "metadata": {},
   "outputs": [
    {
     "data": {
      "text/plain": [
       "[3, 6, 8, 10, 12]"
      ]
     },
     "execution_count": 14,
     "metadata": {},
     "output_type": "execute_result"
    }
   ],
   "source": [
    "list(map(lambda x,y : x+y, l1,l2))"
   ]
  },
  {
   "cell_type": "code",
   "execution_count": 15,
   "id": "4304fcc7-f3cd-427e-a7d9-c19cd2a3604f",
   "metadata": {},
   "outputs": [],
   "source": [
    "def add(x,y):\n",
    "    return x + y"
   ]
  },
  {
   "cell_type": "code",
   "execution_count": 16,
   "id": "db99424a-e5e1-4ae4-8500-252af8c0948d",
   "metadata": {},
   "outputs": [
    {
     "data": {
      "text/plain": [
       "[3, 6, 8, 10, 12]"
      ]
     },
     "execution_count": 16,
     "metadata": {},
     "output_type": "execute_result"
    }
   ],
   "source": [
    "list(map(add, l1, l2))"
   ]
  },
  {
   "cell_type": "code",
   "execution_count": 17,
   "id": "ae6432d7-5e79-47fc-9db6-bd40c4b558a5",
   "metadata": {},
   "outputs": [
    {
     "data": {
      "text/plain": [
       "['P', 'W', 'S', 'K', 'I', 'L', 'L', 'S']"
      ]
     },
     "execution_count": 17,
     "metadata": {},
     "output_type": "execute_result"
    }
   ],
   "source": [
    "s = \"pwskills\"\n",
    "list(map(lambda s : s.upper(), s))"
   ]
  },
  {
   "cell_type": "markdown",
   "id": "9d94aa26-ca60-48d4-bcb6-63e04584876f",
   "metadata": {},
   "source": [
    "# REDUCE FUNCTION"
   ]
  },
  {
   "cell_type": "code",
   "execution_count": 20,
   "id": "adbe0378-4417-4fb9-905f-d08248cc0d32",
   "metadata": {},
   "outputs": [],
   "source": [
    "from functools import reduce"
   ]
  },
  {
   "cell_type": "code",
   "execution_count": 21,
   "id": "dec1ed31-72b8-4d9a-9895-27f2ad75759e",
   "metadata": {},
   "outputs": [],
   "source": [
    "# collapse all and give a sigle number \n",
    "l = [1,22,3,4,5,6]"
   ]
  },
  {
   "cell_type": "code",
   "execution_count": 22,
   "id": "5594c321-3943-43d9-a0d7-6ed802ee9562",
   "metadata": {},
   "outputs": [
    {
     "data": {
      "text/plain": [
       "41"
      ]
     },
     "execution_count": 22,
     "metadata": {},
     "output_type": "execute_result"
    }
   ],
   "source": [
    "reduce(lambda x,y : x+y,l )"
   ]
  },
  {
   "cell_type": "code",
   "execution_count": 23,
   "id": "b51b34f2-67cc-4308-87d8-d2bd2ac14491",
   "metadata": {},
   "outputs": [
    {
     "ename": "TypeError",
     "evalue": "<lambda>() missing 1 required positional argument: 'z'",
     "output_type": "error",
     "traceback": [
      "\u001b[0;31m---------------------------------------------------------------------------\u001b[0m",
      "\u001b[0;31mTypeError\u001b[0m                                 Traceback (most recent call last)",
      "Cell \u001b[0;32mIn[23], line 1\u001b[0m\n\u001b[0;32m----> 1\u001b[0m \u001b[43mreduce\u001b[49m\u001b[43m(\u001b[49m\u001b[38;5;28;43;01mlambda\u001b[39;49;00m\u001b[43m \u001b[49m\u001b[43mx\u001b[49m\u001b[43m,\u001b[49m\u001b[43my\u001b[49m\u001b[43m,\u001b[49m\u001b[43mz\u001b[49m\u001b[43m:\u001b[49m\u001b[43m \u001b[49m\u001b[43mx\u001b[49m\u001b[38;5;241;43m+\u001b[39;49m\u001b[43my\u001b[49m\u001b[38;5;241;43m+\u001b[39;49m\u001b[43mz\u001b[49m\u001b[43m,\u001b[49m\u001b[43ml\u001b[49m\u001b[43m \u001b[49m\u001b[43m)\u001b[49m\n",
      "\u001b[0;31mTypeError\u001b[0m: <lambda>() missing 1 required positional argument: 'z'"
     ]
    }
   ],
   "source": [
    "reduce(lambda x,y,z: x+y+z,l )"
   ]
  },
  {
   "cell_type": "code",
   "execution_count": 24,
   "id": "8eb9d183-cb7d-44a1-aaa0-80e2bd75dc47",
   "metadata": {},
   "outputs": [
    {
     "data": {
      "text/plain": [
       "7920"
      ]
     },
     "execution_count": 24,
     "metadata": {},
     "output_type": "execute_result"
    }
   ],
   "source": [
    "reduce(lambda x,y : x*y, l)"
   ]
  },
  {
   "cell_type": "code",
   "execution_count": 25,
   "id": "87c94100-5018-4483-8d1c-3fc606bc57a8",
   "metadata": {},
   "outputs": [],
   "source": [
    "# HIGHEST LIST OF THE LIST"
   ]
  },
  {
   "cell_type": "code",
   "execution_count": 27,
   "id": "7fe7e833-e655-44e3-b626-76fcd0767b25",
   "metadata": {},
   "outputs": [
    {
     "data": {
      "text/plain": [
       "22"
      ]
     },
     "execution_count": 27,
     "metadata": {},
     "output_type": "execute_result"
    }
   ],
   "source": [
    "reduce(lambda x, y: x if x>y else y, l)"
   ]
  },
  {
   "cell_type": "markdown",
   "id": "015af031-8411-440d-81bf-9e6ae95af3ab",
   "metadata": {},
   "source": [
    "# FILTER FUNCTION"
   ]
  },
  {
   "cell_type": "code",
   "execution_count": 28,
   "id": "283f4540-b6e5-4488-9cfa-7c2a1e2bf60b",
   "metadata": {},
   "outputs": [],
   "source": [
    "l = [12,3,4,5,7,8,9,10]"
   ]
  },
  {
   "cell_type": "code",
   "execution_count": 29,
   "id": "05e0b58a-8a63-44dc-bffa-9f4786c6d736",
   "metadata": {},
   "outputs": [
    {
     "data": {
      "text/plain": [
       "[12, 3, 4, 5, 7, 8, 9, 10]"
      ]
     },
     "execution_count": 29,
     "metadata": {},
     "output_type": "execute_result"
    }
   ],
   "source": [
    "l"
   ]
  },
  {
   "cell_type": "code",
   "execution_count": 30,
   "id": "032a75bc-f0b3-4612-a62a-5d635082d9e7",
   "metadata": {},
   "outputs": [
    {
     "data": {
      "text/plain": [
       "[12, 4, 8, 10]"
      ]
     },
     "execution_count": 30,
     "metadata": {},
     "output_type": "execute_result"
    }
   ],
   "source": [
    "list(filter(lambda X: X%2 == 0, l))"
   ]
  },
  {
   "cell_type": "code",
   "execution_count": null,
   "id": "20b6c6cf-504f-4133-917d-a9aad48db927",
   "metadata": {},
   "outputs": [],
   "source": [
    "# odd numbers"
   ]
  },
  {
   "cell_type": "code",
   "execution_count": 31,
   "id": "7c51de31-6252-4f9f-a568-adddea9f8714",
   "metadata": {},
   "outputs": [
    {
     "data": {
      "text/plain": [
       "[3, 5, 7, 9]"
      ]
     },
     "execution_count": 31,
     "metadata": {},
     "output_type": "execute_result"
    }
   ],
   "source": [
    "list(filter(lambda X: X%2 != 0, l))"
   ]
  },
  {
   "cell_type": "code",
   "execution_count": 33,
   "id": "71b99824-04b3-4f76-a39b-e252270320e7",
   "metadata": {},
   "outputs": [],
   "source": [
    "l2 = [\"soourabh\", \"rawat\", \"sweeta\", \"hello\", \"dfd\"]"
   ]
  },
  {
   "cell_type": "code",
   "execution_count": null,
   "id": "166c0f4d-0c13-4d72-b74d-6a844d41d6fe",
   "metadata": {},
   "outputs": [],
   "source": []
  }
 ],
 "metadata": {
  "kernelspec": {
   "display_name": "Python 3 (ipykernel)",
   "language": "python",
   "name": "python3"
  },
  "language_info": {
   "codemirror_mode": {
    "name": "ipython",
    "version": 3
   },
   "file_extension": ".py",
   "mimetype": "text/x-python",
   "name": "python",
   "nbconvert_exporter": "python",
   "pygments_lexer": "ipython3",
   "version": "3.10.8"
  }
 },
 "nbformat": 4,
 "nbformat_minor": 5
}
