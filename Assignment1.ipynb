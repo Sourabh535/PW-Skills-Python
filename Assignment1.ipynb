{
 "cells": [
  {
   "cell_type": "markdown",
   "id": "c060ff29-7203-4e2a-9636-e7ed658569cd",
   "metadata": {},
   "source": [
    "Q1. Explain with an example each when to use a for loop and a while loop."
   ]
  },
  {
   "cell_type": "markdown",
   "id": "f923b9be-53d6-4d42-8bf7-956e42bd5657",
   "metadata": {},
   "source": [
    "For loop: A for loop is a control flow statement that executes code repeatedly for a particular number of iterations. In this control flow statement, the keyword used is for. The for loop is used when the number of iterations is already known.\n",
    "\n",
    "When to use: The for loop is used when we already know the number of iterations, which means when we know how many times a statement has to be executed. That is why we have to specify the ending point in the for loop initialization.\n",
    "\n",
    "Once done cannot be repeated.\n",
    "\n",
    "To be done at starting of the loop."
   ]
  },
  {
   "cell_type": "code",
   "execution_count": 1,
   "id": "714a9f81-c884-401f-9153-a7103138ed80",
   "metadata": {},
   "outputs": [
    {
     "name": "stdout",
     "output_type": "stream",
     "text": [
      "1\n",
      "2\n",
      "3\n",
      "4\n",
      "5\n"
     ]
    }
   ],
   "source": [
    "# For example\n",
    "# for loop iterate through all the list and print all valuues in list\n",
    "l = [1,2,3,4,5]\n",
    "for i in l:\n",
    "    print(i)"
   ]
  },
  {
   "cell_type": "code",
   "execution_count": 2,
   "id": "646d5106-73b7-497c-8d11-d9c418ac3e95",
   "metadata": {},
   "outputs": [
    {
     "name": "stdout",
     "output_type": "stream",
     "text": [
      "S\n",
      "O\n",
      "U\n",
      "R\n",
      "A\n",
      "B\n",
      "H\n",
      " \n",
      "S\n",
      "I\n",
      "N\n",
      "G\n",
      "H\n",
      " \n",
      "R\n",
      "A\n",
      "W\n",
      "A\n",
      "T\n"
     ]
    }
   ],
   "source": [
    "# We can also iterate through the string using for loop\n",
    "s = \"SOURABH SINGH RAWAT\"\n",
    "for i in s:\n",
    "    print(i)"
   ]
  },
  {
   "cell_type": "markdown",
   "id": "08f11932-95ae-4c53-84fb-3a871ab5d0f9",
   "metadata": {},
   "source": [
    "While loop : While loop: A loop that executes a single statement or a group of statements for the given true condition. The keyword used to represent this loop is \"while\". A \"while\" loop is used when the number of iterations is unknown.\n",
    "\n",
    "Repeat at every iteration.\n",
    "\n",
    "Can be done anywhere in the loop body."
   ]
  },
  {
   "cell_type": "code",
   "execution_count": 3,
   "id": "ee95f4c4-4ddb-4c19-9083-092dd19e6010",
   "metadata": {},
   "outputs": [
    {
     "name": "stdout",
     "output_type": "stream",
     "text": [
      "1\n",
      "2\n",
      "3\n",
      "4\n",
      "5\n"
     ]
    }
   ],
   "source": [
    "i = 1 # for initialization\n",
    "while i < 6: # condition\n",
    "    print(i)\n",
    "    i = i+1 # updation"
   ]
  },
  {
   "cell_type": "markdown",
   "id": "982b8538-5907-4c80-8333-073a0af4648a",
   "metadata": {},
   "source": [
    "# Q2. Write a python program to print the sum and product of the first 10 natural numbers using for\n",
    "and while loop."
   ]
  },
  {
   "cell_type": "code",
   "execution_count": 4,
   "id": "ab8beef3-c6b5-45a4-ba06-0b7e6ba783bc",
   "metadata": {},
   "outputs": [],
   "source": [
    "# sum of first 10 natural number\n",
    "# using while loop\n",
    "\n",
    "          "
   ]
  },
  {
   "cell_type": "code",
   "execution_count": 5,
   "id": "0c98594b-8e42-47da-bd7c-1160ca1fe130",
   "metadata": {},
   "outputs": [
    {
     "name": "stdin",
     "output_type": "stream",
     "text": [
      "Enter the number 10\n"
     ]
    },
    {
     "name": "stdout",
     "output_type": "stream",
     "text": [
      "55\n"
     ]
    }
   ],
   "source": [
    "# sum of first 10 number using while looop\n",
    "num = int(input(\"Enter the number\"))\n",
    "if num < 0:\n",
    "    print(\"Please enter the number greater thann 0\")\n",
    "else: \n",
    "    sum = 0\n",
    "    while (num > 0):\n",
    "        sum += num\n",
    "        num -= 1\n",
    "    print(sum)"
   ]
  },
  {
   "cell_type": "code",
   "execution_count": 6,
   "id": "8697b5f4-6f08-4bee-be70-e6152c0f55ac",
   "metadata": {},
   "outputs": [],
   "source": [
    "# Product using while loop"
   ]
  },
  {
   "cell_type": "code",
   "execution_count": 7,
   "id": "c6d83958-c4d0-4572-8aca-d3d572ba0f01",
   "metadata": {},
   "outputs": [
    {
     "name": "stdin",
     "output_type": "stream",
     "text": [
      "Enter the number 10\n"
     ]
    },
    {
     "name": "stdout",
     "output_type": "stream",
     "text": [
      "The product of first 10 number is 3628800\n"
     ]
    }
   ],
   "source": [
    "num = int(input(\"Enter the number\"))\n",
    "if num < 0:\n",
    "    print(\" Please enter the number greater than 0\")\n",
    "else:\n",
    "    product = 1\n",
    "    while (num > 0):\n",
    "        product *= num \n",
    "        num -= 1\n",
    "    print(\"The product of first 10 number is\", product)"
   ]
  },
  {
   "cell_type": "code",
   "execution_count": 8,
   "id": "c475fdbe-1f57-4b6d-8e77-ccea2ba5f937",
   "metadata": {},
   "outputs": [
    {
     "data": {
      "text/plain": [
       "3628800"
      ]
     },
     "execution_count": 8,
     "metadata": {},
     "output_type": "execute_result"
    }
   ],
   "source": [
    "10*9*8*7*6*5*4*3*2"
   ]
  },
  {
   "cell_type": "code",
   "execution_count": 9,
   "id": "167ed0df-0b5b-4ff1-af73-88d5800d7d70",
   "metadata": {},
   "outputs": [
    {
     "name": "stdin",
     "output_type": "stream",
     "text": [
      "Enter the number 10\n"
     ]
    },
    {
     "name": "stdout",
     "output_type": "stream",
     "text": [
      "The product is 3628800\n"
     ]
    }
   ],
   "source": [
    "# Another  methood\n",
    "num = int(input(\"Enter the number\"))\n",
    "i = 0\n",
    "product = 1\n",
    "while i < num:\n",
    "    i = i + 1\n",
    "    product = product* i\n",
    "print(\"The product is\", product)\n",
    "    "
   ]
  },
  {
   "cell_type": "code",
   "execution_count": 10,
   "id": "8e2fe491-beb2-401f-98eb-c962eebbb08e",
   "metadata": {},
   "outputs": [],
   "source": [
    "# SUM OF FIRST 10 NUMBER USING FOR LOOP"
   ]
  },
  {
   "cell_type": "code",
   "execution_count": 11,
   "id": "591d03a5-625b-4dd2-9b87-baa47b0ad57b",
   "metadata": {},
   "outputs": [
    {
     "name": "stdout",
     "output_type": "stream",
     "text": [
      "The sum of first 10 number is 55\n"
     ]
    }
   ],
   "source": [
    "sum = 0\n",
    "for i in range(1,11):\n",
    "    sum = sum + i\n",
    "print(\"The sum of first 10 number is\", sum)"
   ]
  },
  {
   "cell_type": "code",
   "execution_count": 12,
   "id": "b1dcc1c6-8b7d-41f2-8f2c-b7510c281119",
   "metadata": {},
   "outputs": [
    {
     "name": "stdout",
     "output_type": "stream",
     "text": [
      "1\n",
      "3\n",
      "6\n",
      "10\n",
      "15\n",
      "21\n",
      "28\n",
      "36\n",
      "45\n",
      "55\n"
     ]
    }
   ],
   "source": [
    "l = [1,2,3,4,5,6,7,8,9,10]\n",
    "total = 0\n",
    "for i in l:\n",
    "    total += i\n",
    "    print(total)"
   ]
  },
  {
   "cell_type": "code",
   "execution_count": 13,
   "id": "c923194a-4ed8-44b6-bd4e-a5e20ff47aaa",
   "metadata": {},
   "outputs": [],
   "source": [
    "# Prooduct of 10 natural nnumber using for loop"
   ]
  },
  {
   "cell_type": "code",
   "execution_count": 14,
   "id": "b7dea51d-72eb-4681-be55-e34cef8d5de7",
   "metadata": {},
   "outputs": [
    {
     "name": "stdout",
     "output_type": "stream",
     "text": [
      "The product of first 10 number is 3628800\n"
     ]
    }
   ],
   "source": [
    "product = 1\n",
    "for i in range(1,11):\n",
    "    product = product * i\n",
    "print(\"The product of first 10 number is\", product)"
   ]
  },
  {
   "cell_type": "markdown",
   "id": "8e5adabf-692c-4d7b-8cc2-0a5e68878e3e",
   "metadata": {},
   "source": [
    "# Q3. Create a python program to compute the electricity bill for a household."
   ]
  },
  {
   "cell_type": "markdown",
   "id": "4255b5cd-22bc-470e-8a16-ea070b5f1e26",
   "metadata": {},
   "source": [
    "The per-unit charges in rupees are as follows: For the first 100 units, the user will be charged Rs. 4.5 per\n",
    "unit, for the next 100 units, the user will be charged Rs. 6 per unit, and for the next 100 units, the user will\n",
    "be charged Rs. 10 per unit, After 300 units and above the user will be charged Rs. 20 per unit.\n",
    "\n",
    "You are required to take the units of electricity consumed in a month from the user as input."
   ]
  },
  {
   "cell_type": "code",
   "execution_count": 15,
   "id": "473203a3-6cbd-4f79-8847-5ee06f8e65bf",
   "metadata": {},
   "outputs": [
    {
     "name": "stdin",
     "output_type": "stream",
     "text": [
      "Enter your units of electricity cnsumed 450\n"
     ]
    },
    {
     "name": "stdout",
     "output_type": "stream",
     "text": [
      "The electricity bill amount is 5050\n"
     ]
    }
   ],
   "source": [
    "# METHOD 1\n",
    "# taking inputs from the user\n",
    "units = int(input(\"Enter your units of electricity cnsumed\"))\n",
    "# initializing the variables\n",
    "bill = 0\n",
    "\n",
    "# for the first 100 units\n",
    "if units <= 100:\n",
    "    bill = units*4.5\n",
    "# for the next 100 units 100 - 200\n",
    "elif units >= 101 and units <= 200:\n",
    "    bill = 450 + ((units - 100 ) *6)\n",
    "# for the units between 200 - 300\n",
    "elif units >= 201 and units <= 300:\n",
    "    bill = 450 + 600 + ((units - 200) * 10)\n",
    "# for the unite more than 300\n",
    "else:\n",
    "    bill = 450 + 600 + 1000 + ((units - 300) *20)\n",
    "print(\"The electricity bill amount is\", bill)\n",
    "    \n",
    "\n",
    "\n",
    "\n",
    "\n",
    "    "
   ]
  },
  {
   "cell_type": "code",
   "execution_count": 16,
   "id": "dcd39f9d-428a-415f-b444-30779dc9d123",
   "metadata": {},
   "outputs": [
    {
     "name": "stdin",
     "output_type": "stream",
     "text": [
      "Enter the number of units consumed:  450\n"
     ]
    },
    {
     "name": "stdout",
     "output_type": "stream",
     "text": [
      "Total Electricity Bill: Rs. 5050.00\n"
     ]
    }
   ],
   "source": [
    "# METHOD 2\n",
    "# Taking input from user\n",
    "units = int(input(\"Enter the number of units consumed: \"))\n",
    "\n",
    "# Initializing variables\n",
    "total_bill = 0\n",
    "remaining_units = units\n",
    "\n",
    "# For the first 100 units\n",
    "if remaining_units <= 100:\n",
    "    total_bill += remaining_units * 4.5\n",
    "    remaining_units = 0\n",
    "else:\n",
    "    total_bill += 100 * 4.5\n",
    "    remaining_units -= 100\n",
    "\n",
    "# For the next 100 units\n",
    "if remaining_units <= 100:\n",
    "    total_bill += remaining_units * 6\n",
    "    remaining_units = 0\n",
    "else:\n",
    "    total_bill += 100 * 6\n",
    "    remaining_units -= 100\n",
    "\n",
    "# For the next 100 units\n",
    "if remaining_units <= 100:\n",
    "    total_bill += remaining_units * 10\n",
    "    remaining_units = 0\n",
    "else:\n",
    "    total_bill += 100 * 10\n",
    "    remaining_units -= 100\n",
    "\n",
    "# For units above 300\n",
    "if remaining_units > 0:\n",
    "    total_bill += remaining_units * 20\n",
    "\n",
    "# Displaying the total bill\n",
    "print(f\"Total Electricity Bill: Rs. {total_bill:.2f}\")\n"
   ]
  },
  {
   "cell_type": "markdown",
   "id": "69cf8a1c-dd07-4b02-b5b5-7d2ba067d77d",
   "metadata": {},
   "source": [
    "# Q4. Create a list of numbers from 1 to 100. Use for loop and while loop to calculate the cube of each number and if the cube of that number is divisible by 4 or 5 then append that number in a list and print that list."
   ]
  },
  {
   "cell_type": "code",
   "execution_count": 17,
   "id": "dfef8a16-a8ab-4ac5-bfa5-94e8b05b5587",
   "metadata": {},
   "outputs": [
    {
     "name": "stdout",
     "output_type": "stream",
     "text": [
      "[1, 2, 3, 4, 5, 6, 7, 8, 9, 10, 11, 12, 13, 14, 15, 16, 17, 18, 19, 20, 21, 22, 23, 24, 25, 26, 27, 28, 29, 30, 31, 32, 33, 34, 35, 36, 37, 38, 39, 40, 41, 42, 43, 44, 45, 46, 47, 48, 49, 50, 51, 52, 53, 54, 55, 56, 57, 58, 59, 60, 61, 62, 63, 64, 65, 66, 67, 68, 69, 70, 71, 72, 73, 74, 75, 76, 77, 78, 79, 80, 81, 82, 83, 84, 85, 86, 87, 88, 89, 90, 91, 92, 93, 94, 95, 96, 97, 98, 99, 100]\n"
     ]
    }
   ],
   "source": [
    "# CREATING A LIST OF NUMBER USING FOR LOOP\n",
    "list = []\n",
    "for i in range(1,101):\n",
    "   list.append(i)\n",
    "print(list)"
   ]
  },
  {
   "cell_type": "code",
   "execution_count": 18,
   "id": "6833b8d0-75c5-4553-b6a6-bdb0384f50fe",
   "metadata": {},
   "outputs": [
    {
     "name": "stdout",
     "output_type": "stream",
     "text": [
      "[1, 2, 3, 4, 5, 6, 7, 8, 9, 10, 11, 12, 13, 14, 15, 16, 17, 18, 19, 20, 21, 22, 23, 24, 25, 26, 27, 28, 29, 30, 31, 32, 33, 34, 35, 36, 37, 38, 39, 40, 41, 42, 43, 44, 45, 46, 47, 48, 49, 50, 51, 52, 53, 54, 55, 56, 57, 58, 59, 60, 61, 62, 63, 64, 65, 66, 67, 68, 69, 70, 71, 72, 73, 74, 75, 76, 77, 78, 79, 80, 81, 82, 83, 84, 85, 86, 87, 88, 89, 90, 91, 92, 93, 94, 95, 96, 97, 98, 99, 100]\n"
     ]
    }
   ],
   "source": [
    "list = []\n",
    "i = 1\n",
    "while i <= 100:\n",
    "    list.append(i)\n",
    "    i = i + 1\n",
    "print(list)"
   ]
  },
  {
   "cell_type": "code",
   "execution_count": 19,
   "id": "b9544ad3-9b49-448d-9407-2fa1cb040a5b",
   "metadata": {},
   "outputs": [
    {
     "name": "stdout",
     "output_type": "stream",
     "text": [
      "1 2 3 4 5 6 7 8 9 10 11 12 13 14 15 16 17 18 19 20 21 22 23 24 25 26 27 28 29 30 31 32 33 34 35 36 37 38 39 40 41 42 43 44 45 46 47 48 49 50 51 52 53 54 55 56 57 58 59 60 61 62 63 64 65 66 67 68 69 70 71 72 73 74 75 76 77 78 79 80 81 82 83 84 85 86 87 88 89 90 91 92 93 94 95 96 97 98 99 100 "
     ]
    }
   ],
   "source": [
    "# ANOTHER METHOD\n",
    "i = 1\n",
    "while i <= 100:\n",
    "    print(i, end =\" \")\n",
    "    i = i +1 "
   ]
  },
  {
   "cell_type": "code",
   "execution_count": 20,
   "id": "ce86e8a6-e0b1-4432-8122-edd0aadf2b41",
   "metadata": {},
   "outputs": [],
   "source": [
    "# CALCULLATING A CUBE OF EACH NUMBER IN FOR LOOP"
   ]
  },
  {
   "cell_type": "code",
   "execution_count": 21,
   "id": "352e0297-b19d-4fd2-b022-c2976caf0a12",
   "metadata": {},
   "outputs": [
    {
     "name": "stdout",
     "output_type": "stream",
     "text": [
      "[1, 8, 27, 64, 125, 216, 343, 512, 729, 1000, 1331, 1728, 2197, 2744, 3375, 4096, 4913, 5832, 6859, 8000, 9261, 10648, 12167, 13824, 15625, 17576, 19683, 21952, 24389, 27000, 29791, 32768, 35937, 39304, 42875, 46656, 50653, 54872, 59319, 64000, 68921, 74088, 79507, 85184, 91125, 97336, 103823, 110592, 117649, 125000, 132651, 140608, 148877, 157464, 166375, 175616, 185193, 195112, 205379, 216000, 226981, 238328, 250047, 262144, 274625, 287496, 300763, 314432, 328509, 343000, 357911, 373248, 389017, 405224, 421875, 438976, 456533, 474552, 493039, 512000, 531441, 551368, 571787, 592704, 614125, 636056, 658503, 681472, 704969, 729000, 753571, 778688, 804357, 830584, 857375, 884736, 912673, 941192, 970299, 1000000]\n"
     ]
    }
   ],
   "source": [
    "list = []\n",
    "for i in range(1,101):\n",
    "   list.append(i*i*i)\n",
    "print(list)"
   ]
  },
  {
   "cell_type": "markdown",
   "id": "77faff26-0463-46fb-868c-bc3c861d6423",
   "metadata": {},
   "source": [
    "# if the cube of that number is divisible by 4 or 5 then append that number in a list and print that list.\n",
    "\n",
    "# USING FOR LOOP"
   ]
  },
  {
   "cell_type": "code",
   "execution_count": 23,
   "id": "68a8ba2c-7be4-42e0-ab85-ad367dd0afd8",
   "metadata": {},
   "outputs": [
    {
     "name": "stdout",
     "output_type": "stream",
     "text": [
      "[2, 4, 5, 6, 8, 10, 12, 14, 15, 16, 18, 20, 22, 24, 25, 26, 28, 30, 32, 34, 35, 36, 38, 40, 42, 44, 45, 46, 48, 50, 52, 54, 55, 56, 58, 60, 62, 64, 65, 66, 68, 70, 72, 74, 75, 76, 78, 80, 82, 84, 85, 86, 88, 90, 92, 94, 95, 96, 98, 100]\n"
     ]
    }
   ],
   "source": [
    "# USING FOR LOOP\n",
    "cubes = []\n",
    "for i in range(1,101):\n",
    "    cube = i **3\n",
    "    if cube % 4 == 0 or cube % 5 == 0:\n",
    "        cubes.append(i)\n",
    "print(cubes)"
   ]
  },
  {
   "cell_type": "markdown",
   "id": "bb1526e5-487b-4419-bedc-23fe7bc7b25f",
   "metadata": {},
   "source": [
    "# USING WHILE LOOP "
   ]
  },
  {
   "cell_type": "code",
   "execution_count": 28,
   "id": "46e9138a-7622-4540-9d62-9ac520460763",
   "metadata": {},
   "outputs": [
    {
     "name": "stdout",
     "output_type": "stream",
     "text": [
      "[2, 4, 5, 6, 8, 10, 12, 14, 15, 16, 18, 20, 22, 24, 25, 26, 28, 30, 32, 34, 35, 36, 38, 40, 42, 44, 45, 46, 48, 50, 52, 54, 55, 56, 58, 60, 62, 64, 65, 66, 68, 70, 72, 74, 75, 76, 78, 80, 82, 84, 85, 86, 88, 90, 92, 94, 95, 96, 98, 100]\n"
     ]
    }
   ],
   "source": [
    "cubes = []\n",
    "i = 1 \n",
    "while i <= 100:\n",
    "    cube = i **3\n",
    "    if cube %4 == 0 or cube% 5 == 0:\n",
    "        cubes.append(i)\n",
    "    i = i + 1\n",
    "print(cubes)"
   ]
  },
  {
   "cell_type": "markdown",
   "id": "4e386028-1f7c-461b-932c-a42c615c6bee",
   "metadata": {},
   "source": [
    "# Q5. Write a program to filter count vowels in the below-given string.\n",
    "string = \"I want to become a data scientist\""
   ]
  },
  {
   "cell_type": "code",
   "execution_count": 32,
   "id": "70e269ba-1595-4d6f-b162-0fb17b786dbe",
   "metadata": {},
   "outputs": [
    {
     "name": "stdout",
     "output_type": "stream",
     "text": [
      "Number of vowels in given string is 12\n"
     ]
    }
   ],
   "source": [
    "string = \"I want to become a data scientist\"\n",
    "#initializing a count variable\n",
    "count = 0 \n",
    "# initializing a index variable\n",
    "i = 0\n",
    "# iteraate through the string\n",
    "for i in range(len(string)):\n",
    "    if (\n",
    "        (string[i] == \"a\") or (string[i] == \"e\") or (string[i] == \"i\") or (string[i] == \"o\") or (string[i] == \"u\") \n",
    "        or (string[i] == \"A\") or (string[i] == \"E\") or (string[i] == \"I\") or (string[i] == \"O\") or (string[i] == \"U\")):\n",
    "        count = count + 1\n",
    "print(\"Number of vowels in given string is\", count)\n",
    "\n"
   ]
  },
  {
   "cell_type": "code",
   "execution_count": 38,
   "id": "23ca7490-d579-4b4d-82c5-7fb80e62010e",
   "metadata": {},
   "outputs": [
    {
     "name": "stdout",
     "output_type": "stream",
     "text": [
      "The string contains 12 vowels.\n"
     ]
    }
   ],
   "source": [
    "# METHOD 2\n",
    "string = \"I want to become a data scientist\"\n",
    "\n",
    "# Define a function to filter vowels\n",
    "def count_vowels(string):\n",
    "    vowels = \"aeiouAEIOU\"\n",
    "    count = 0\n",
    "    for char in string:\n",
    "        if char in vowels:\n",
    "            count += 1\n",
    "    return count\n",
    "\n",
    "# Call the function and print the result\n",
    "num_vowels = count_vowels(string)\n",
    "print(\"The string contains\", num_vowels, \"vowels.\")\n",
    "\n"
   ]
  },
  {
   "cell_type": "code",
   "execution_count": null,
   "id": "3433fa5f-bc36-4a3a-8814-2050adf56171",
   "metadata": {},
   "outputs": [],
   "source": []
  },
  {
   "cell_type": "code",
   "execution_count": 39,
   "id": "b8c1b6ad-b6c7-409f-9318-f7d6ce770d02",
   "metadata": {},
   "outputs": [
    {
     "name": "stdout",
     "output_type": "stream",
     "text": [
      "Number of vowels in given string is 12\n"
     ]
    }
   ],
   "source": [
    "# METHOD 3\n",
    "string = \"I want to become a data scientist\"\n",
    "count = 0\n",
    "vowels = [\"a\",\"e\",\"i\",\"o\",\"u\",\"A\", \"I\",\"U\",\"O\",\"E\"]\n",
    "for i in range(len(string)):\n",
    "    if string[i] in vowels:\n",
    "        count = count +1\n",
    "print(\"Number of vowels in given string is\", count)"
   ]
  },
  {
   "cell_type": "code",
   "execution_count": null,
   "id": "fd532c7d-6f18-4d3a-883e-421858076fe0",
   "metadata": {},
   "outputs": [],
   "source": []
  }
 ],
 "metadata": {
  "kernelspec": {
   "display_name": "Python 3 (ipykernel)",
   "language": "python",
   "name": "python3"
  },
  "language_info": {
   "codemirror_mode": {
    "name": "ipython",
    "version": 3
   },
   "file_extension": ".py",
   "mimetype": "text/x-python",
   "name": "python",
   "nbconvert_exporter": "python",
   "pygments_lexer": "ipython3",
   "version": "3.10.8"
  }
 },
 "nbformat": 4,
 "nbformat_minor": 5
}
