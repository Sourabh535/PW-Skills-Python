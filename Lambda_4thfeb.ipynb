{
 "cells": [
  {
   "cell_type": "code",
   "execution_count": 1,
   "id": "eaf1ee50-fcbb-4e4a-b015-9494376db8b5",
   "metadata": {},
   "outputs": [],
   "source": [
    "# lambda function"
   ]
  },
  {
   "cell_type": "code",
   "execution_count": 2,
   "id": "0fd7a607-ad16-4d13-b552-f8faf1eb58fb",
   "metadata": {},
   "outputs": [],
   "source": [
    "n = 3\n",
    "p = 2"
   ]
  },
  {
   "cell_type": "code",
   "execution_count": 3,
   "id": "d6c9ae88-84d7-4537-afa9-df775e7c9d25",
   "metadata": {},
   "outputs": [],
   "source": [
    "def tes(n,p):\n",
    "    return n**p"
   ]
  },
  {
   "cell_type": "code",
   "execution_count": 5,
   "id": "2c7a1eaf-5fe4-4a55-9a15-2d5658e69fe1",
   "metadata": {},
   "outputs": [
    {
     "data": {
      "text/plain": [
       "9"
      ]
     },
     "execution_count": 5,
     "metadata": {},
     "output_type": "execute_result"
    }
   ],
   "source": [
    "tes(3,2)"
   ]
  },
  {
   "cell_type": "code",
   "execution_count": 9,
   "id": "0149639c-7f58-4287-beb2-d5a017a20c8c",
   "metadata": {},
   "outputs": [
    {
     "data": {
      "text/plain": [
       "<function __main__.<lambda>(n, p)>"
      ]
     },
     "execution_count": 9,
     "metadata": {},
     "output_type": "execute_result"
    }
   ],
   "source": [
    "# anonymou function\n",
    "lambda n,p :n**p"
   ]
  },
  {
   "cell_type": "code",
   "execution_count": 7,
   "id": "ec2e1313-68d8-411a-8c4b-ebf4e4bb30f6",
   "metadata": {},
   "outputs": [],
   "source": [
    "a = lambda n,p :n**p"
   ]
  },
  {
   "cell_type": "code",
   "execution_count": 8,
   "id": "de81409f-7a5e-45f8-8872-ec9d4e571a4b",
   "metadata": {},
   "outputs": [
    {
     "data": {
      "text/plain": [
       "9"
      ]
     },
     "execution_count": 8,
     "metadata": {},
     "output_type": "execute_result"
    }
   ],
   "source": [
    "a(3,2)"
   ]
  },
  {
   "cell_type": "code",
   "execution_count": 10,
   "id": "dc86cc8b-9d3b-4688-97cb-50c6930ec851",
   "metadata": {},
   "outputs": [],
   "source": [
    "add = lambda x,y : x+y\n"
   ]
  },
  {
   "cell_type": "code",
   "execution_count": 12,
   "id": "fd1c5f22-ab50-407a-89fd-285e31876452",
   "metadata": {},
   "outputs": [
    {
     "data": {
      "text/plain": [
       "335"
      ]
     },
     "execution_count": 12,
     "metadata": {},
     "output_type": "execute_result"
    }
   ],
   "source": [
    "add(5,330)"
   ]
  },
  {
   "cell_type": "code",
   "execution_count": 13,
   "id": "e8cc5df7-a4f9-4d29-afd6-d9fec44d5b50",
   "metadata": {},
   "outputs": [],
   "source": [
    "# celcius to farheneit"
   ]
  },
  {
   "cell_type": "code",
   "execution_count": 19,
   "id": "4ec9ef09-fcd8-49e1-b115-ba4cf4687e8e",
   "metadata": {},
   "outputs": [],
   "source": [
    "c_to_f = lambda c :(9/5)*c +32"
   ]
  },
  {
   "cell_type": "code",
   "execution_count": 20,
   "id": "f2792037-bbb7-4a92-bb12-dbc344b4b86a",
   "metadata": {},
   "outputs": [
    {
     "data": {
      "text/plain": [
       "32.0"
      ]
     },
     "execution_count": 20,
     "metadata": {},
     "output_type": "execute_result"
    }
   ],
   "source": [
    "c_to_f(0)"
   ]
  },
  {
   "cell_type": "code",
   "execution_count": 21,
   "id": "1da42327-ec89-4d95-8b31-c22a9e9d7c1c",
   "metadata": {},
   "outputs": [],
   "source": [
    "finding_max = lambda x,y : x if x>y else y"
   ]
  },
  {
   "cell_type": "code",
   "execution_count": 22,
   "id": "ec6aa705-9cc7-475f-8238-f67f24a5ced5",
   "metadata": {},
   "outputs": [
    {
     "data": {
      "text/plain": [
       "34"
      ]
     },
     "execution_count": 22,
     "metadata": {},
     "output_type": "execute_result"
    }
   ],
   "source": [
    "finding_max(34,23)"
   ]
  },
  {
   "cell_type": "code",
   "execution_count": 23,
   "id": "704b1395-1a06-4282-b5c0-fd47ba21b568",
   "metadata": {},
   "outputs": [],
   "source": [
    "s = \"pwsills\""
   ]
  },
  {
   "cell_type": "code",
   "execution_count": 24,
   "id": "b5553458-8271-48bf-a0ef-47321079e390",
   "metadata": {},
   "outputs": [],
   "source": [
    "find_len = lambda s :len(s)"
   ]
  },
  {
   "cell_type": "code",
   "execution_count": 25,
   "id": "7d08c874-97e6-4359-b022-6796e9048239",
   "metadata": {},
   "outputs": [
    {
     "data": {
      "text/plain": [
       "7"
      ]
     },
     "execution_count": 25,
     "metadata": {},
     "output_type": "execute_result"
    }
   ],
   "source": [
    "find_len(s)"
   ]
  },
  {
   "cell_type": "code",
   "execution_count": null,
   "id": "eff577e1-736c-4bb0-9799-9ff9547b3650",
   "metadata": {},
   "outputs": [],
   "source": []
  }
 ],
 "metadata": {
  "kernelspec": {
   "display_name": "Python 3 (ipykernel)",
   "language": "python",
   "name": "python3"
  },
  "language_info": {
   "codemirror_mode": {
    "name": "ipython",
    "version": 3
   },
   "file_extension": ".py",
   "mimetype": "text/x-python",
   "name": "python",
   "nbconvert_exporter": "python",
   "pygments_lexer": "ipython3",
   "version": "3.10.8"
  }
 },
 "nbformat": 4,
 "nbformat_minor": 5
}
