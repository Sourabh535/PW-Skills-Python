{
 "cells": [
  {
   "cell_type": "code",
   "execution_count": 1,
   "id": "86875852-6475-4be2-a302-13cea4009c51",
   "metadata": {},
   "outputs": [],
   "source": [
    "list = [1,3,\"sourabh\",5+7j, True,84.66]"
   ]
  },
  {
   "cell_type": "code",
   "execution_count": 2,
   "id": "8c9389d0-322d-4fdd-832e-b34de8c5866e",
   "metadata": {},
   "outputs": [
    {
     "data": {
      "text/plain": [
       "[1, 3, 'sourabh', (5+7j), True, 84.66]"
      ]
     },
     "execution_count": 2,
     "metadata": {},
     "output_type": "execute_result"
    }
   ],
   "source": [
    "list"
   ]
  },
  {
   "cell_type": "code",
   "execution_count": 3,
   "id": "371987a3-aa35-4993-853d-ee6f629fab2c",
   "metadata": {},
   "outputs": [
    {
     "data": {
      "text/plain": [
       "list"
      ]
     },
     "execution_count": 3,
     "metadata": {},
     "output_type": "execute_result"
    }
   ],
   "source": [
    "type(list)"
   ]
  },
  {
   "cell_type": "code",
   "execution_count": 4,
   "id": "1db1a0f8-cff9-479e-8cbb-04a04eb5d018",
   "metadata": {},
   "outputs": [
    {
     "data": {
      "text/plain": [
       "1"
      ]
     },
     "execution_count": 4,
     "metadata": {},
     "output_type": "execute_result"
    }
   ],
   "source": [
    "list[0]"
   ]
  },
  {
   "cell_type": "code",
   "execution_count": 5,
   "id": "71d6009a-6117-44b2-bfbf-5dd714afaa4d",
   "metadata": {},
   "outputs": [
    {
     "data": {
      "text/plain": [
       "'sourabh'"
      ]
     },
     "execution_count": 5,
     "metadata": {},
     "output_type": "execute_result"
    }
   ],
   "source": [
    "list[2]"
   ]
  },
  {
   "cell_type": "code",
   "execution_count": 6,
   "id": "1a4a553b-3d86-4f71-8cdb-d86eded43ebc",
   "metadata": {},
   "outputs": [
    {
     "data": {
      "text/plain": [
       "3"
      ]
     },
     "execution_count": 6,
     "metadata": {},
     "output_type": "execute_result"
    }
   ],
   "source": [
    "list[1]"
   ]
  },
  {
   "cell_type": "markdown",
   "id": "803644f9-f132-4d59-9541-a9a41a272329",
   "metadata": {},
   "source": [
    "INDEXING IN THE LIST"
   ]
  },
  {
   "cell_type": "code",
   "execution_count": 8,
   "id": "63955ed8-b7cf-459c-a46e-cc5e5bda7766",
   "metadata": {},
   "outputs": [
    {
     "data": {
      "text/plain": [
       "[1, 3, 'sourabh', (5+7j), True, 84.66]"
      ]
     },
     "execution_count": 8,
     "metadata": {},
     "output_type": "execute_result"
    }
   ],
   "source": [
    "list"
   ]
  },
  {
   "cell_type": "code",
   "execution_count": 9,
   "id": "4118ca66-f3c3-4c39-b2cc-dd74b5fa41a7",
   "metadata": {},
   "outputs": [
    {
     "data": {
      "text/plain": [
       "[1, 3]"
      ]
     },
     "execution_count": 9,
     "metadata": {},
     "output_type": "execute_result"
    }
   ],
   "source": [
    "list[0:2]"
   ]
  },
  {
   "cell_type": "code",
   "execution_count": 11,
   "id": "5cfd74d4-b018-4752-ac93-c989c0cdecc8",
   "metadata": {},
   "outputs": [
    {
     "data": {
      "text/plain": [
       "84.66"
      ]
     },
     "execution_count": 11,
     "metadata": {},
     "output_type": "execute_result"
    }
   ],
   "source": [
    "list[-1] # reverse indexing"
   ]
  },
  {
   "cell_type": "code",
   "execution_count": 12,
   "id": "fd024fda-803b-4bf4-a403-c8c6f7dc83c2",
   "metadata": {},
   "outputs": [
    {
     "data": {
      "text/plain": [
       "[84.66, True, (5+7j), 'sourabh', 3, 1]"
      ]
     },
     "execution_count": 12,
     "metadata": {},
     "output_type": "execute_result"
    }
   ],
   "source": [
    "# Reverse the list\n",
    "list[::-1]"
   ]
  },
  {
   "cell_type": "code",
   "execution_count": 13,
   "id": "82c10ac2-e260-4d4c-b6b5-c5d168271f91",
   "metadata": {},
   "outputs": [
    {
     "data": {
      "text/plain": [
       "[1, 'sourabh', True]"
      ]
     },
     "execution_count": 13,
     "metadata": {},
     "output_type": "execute_result"
    }
   ],
   "source": [
    "# extract only data at even place\n",
    "list[::2]"
   ]
  },
  {
   "cell_type": "code",
   "execution_count": 14,
   "id": "5d130b8c-2d8b-40e2-9b98-71a531a48cb5",
   "metadata": {},
   "outputs": [
    {
     "data": {
      "text/plain": [
       "[1, 3, 'sourabh', (5+7j), True, 84.66]"
      ]
     },
     "execution_count": 14,
     "metadata": {},
     "output_type": "execute_result"
    }
   ],
   "source": [
    "list"
   ]
  },
  {
   "cell_type": "code",
   "execution_count": 15,
   "id": "c44079d3-8b89-460f-8f7c-258d90270a2c",
   "metadata": {},
   "outputs": [
    {
     "data": {
      "text/plain": [
       "[3, (5+7j), 84.66]"
      ]
     },
     "execution_count": 15,
     "metadata": {},
     "output_type": "execute_result"
    }
   ],
   "source": [
    "list[1::2]"
   ]
  },
  {
   "cell_type": "code",
   "execution_count": 16,
   "id": "a129408f-01d3-4d8e-8d60-f6eea4158718",
   "metadata": {},
   "outputs": [],
   "source": [
    "s = 'pwskills'"
   ]
  },
  {
   "cell_type": "code",
   "execution_count": 18,
   "id": "1c35e083-96ae-469b-9d07-e52ec6ac3b68",
   "metadata": {},
   "outputs": [
    {
     "ename": "TypeError",
     "evalue": "can only concatenate list (not \"str\") to list",
     "output_type": "error",
     "traceback": [
      "\u001b[0;31m---------------------------------------------------------------------------\u001b[0m",
      "\u001b[0;31mTypeError\u001b[0m                                 Traceback (most recent call last)",
      "Cell \u001b[0;32mIn[18], line 1\u001b[0m\n\u001b[0;32m----> 1\u001b[0m \u001b[38;5;28;43mlist\u001b[39;49m\u001b[43m \u001b[49m\u001b[38;5;241;43m+\u001b[39;49m\u001b[43m \u001b[49m\u001b[43ms\u001b[49m\n",
      "\u001b[0;31mTypeError\u001b[0m: can only concatenate list (not \"str\") to list"
     ]
    }
   ],
   "source": [
    "# BOTH ARE DIFFEREMT DATA TYPE\n",
    "list + s"
   ]
  },
  {
   "cell_type": "code",
   "execution_count": 19,
   "id": "cf32df4c-0716-4f83-84fc-adfbe709d68e",
   "metadata": {},
   "outputs": [
    {
     "ename": "TypeError",
     "evalue": "'list' object is not callable",
     "output_type": "error",
     "traceback": [
      "\u001b[0;31m---------------------------------------------------------------------------\u001b[0m",
      "\u001b[0;31mTypeError\u001b[0m                                 Traceback (most recent call last)",
      "Cell \u001b[0;32mIn[19], line 1\u001b[0m\n\u001b[0;32m----> 1\u001b[0m \u001b[38;5;28;43mlist\u001b[39;49m\u001b[43m(\u001b[49m\u001b[43ms\u001b[49m\u001b[43m)\u001b[49m\n",
      "\u001b[0;31mTypeError\u001b[0m: 'list' object is not callable"
     ]
    }
   ],
   "source": [
    "list(s)"
   ]
  },
  {
   "cell_type": "code",
   "execution_count": 21,
   "id": "5926449b-9a75-45cf-a048-f964f367c075",
   "metadata": {},
   "outputs": [],
   "source": [
    "list.append(s)"
   ]
  },
  {
   "cell_type": "code",
   "execution_count": 22,
   "id": "81c45805-03b6-4d82-8086-857f1e03c5df",
   "metadata": {},
   "outputs": [
    {
     "data": {
      "text/plain": [
       "[1, 3, 'sourabh', (5+7j), True, 84.66, 'pwskills']"
      ]
     },
     "execution_count": 22,
     "metadata": {},
     "output_type": "execute_result"
    }
   ],
   "source": [
    "list"
   ]
  },
  {
   "cell_type": "code",
   "execution_count": 26,
   "id": "3d4f3cb6-be6a-4ddd-b0ea-96ccc1d267c1",
   "metadata": {},
   "outputs": [
    {
     "data": {
      "text/plain": [
       "'sourabh'"
      ]
     },
     "execution_count": 26,
     "metadata": {},
     "output_type": "execute_result"
    }
   ],
   "source": [
    "list[2]"
   ]
  },
  {
   "cell_type": "code",
   "execution_count": 25,
   "id": "6df2974a-90d2-47b5-ae46-d1e4685b3c38",
   "metadata": {},
   "outputs": [
    {
     "data": {
      "text/plain": [
       "'so'"
      ]
     },
     "execution_count": 25,
     "metadata": {},
     "output_type": "execute_result"
    }
   ],
   "source": [
    "list[2][0:2]"
   ]
  },
  {
   "cell_type": "code",
   "execution_count": 28,
   "id": "0db880b6-8b55-49dc-834c-75e741cc3706",
   "metadata": {},
   "outputs": [
    {
     "data": {
      "text/plain": [
       "True"
      ]
     },
     "execution_count": 28,
     "metadata": {},
     "output_type": "execute_result"
    }
   ],
   "source": [
    "list[4]"
   ]
  },
  {
   "cell_type": "code",
   "execution_count": 29,
   "id": "c86b1cd4-2f98-439c-943f-5cfaac4af20e",
   "metadata": {},
   "outputs": [
    {
     "ename": "TypeError",
     "evalue": "'bool' object is not subscriptable",
     "output_type": "error",
     "traceback": [
      "\u001b[0;31m---------------------------------------------------------------------------\u001b[0m",
      "\u001b[0;31mTypeError\u001b[0m                                 Traceback (most recent call last)",
      "Cell \u001b[0;32mIn[29], line 1\u001b[0m\n\u001b[0;32m----> 1\u001b[0m \u001b[38;5;28;43mlist\u001b[39;49m\u001b[43m[\u001b[49m\u001b[38;5;241;43m4\u001b[39;49m\u001b[43m]\u001b[49m\u001b[43m[\u001b[49m\u001b[38;5;241;43m0\u001b[39;49m\u001b[43m:\u001b[49m\u001b[38;5;241;43m2\u001b[39;49m\u001b[43m]\u001b[49m\n",
      "\u001b[0;31mTypeError\u001b[0m: 'bool' object is not subscriptable"
     ]
    }
   ],
   "source": [
    "list[4][0:2]"
   ]
  },
  {
   "cell_type": "code",
   "execution_count": 30,
   "id": "33b4d8e2-58e7-44b5-8e61-f493d8e4a3cf",
   "metadata": {},
   "outputs": [
    {
     "data": {
      "text/plain": [
       "'Tr'"
      ]
     },
     "execution_count": 30,
     "metadata": {},
     "output_type": "execute_result"
    }
   ],
   "source": [
    "# IT IS CALLED A TYPE CASTING\n",
    "str(list[4])[0:2]"
   ]
  },
  {
   "cell_type": "code",
   "execution_count": 33,
   "id": "49b7395f-0771-49ca-bd08-3c3312c59b57",
   "metadata": {},
   "outputs": [
    {
     "ename": "TypeError",
     "evalue": "can only concatenate list (not \"int\") to list",
     "output_type": "error",
     "traceback": [
      "\u001b[0;31m---------------------------------------------------------------------------\u001b[0m",
      "\u001b[0;31mTypeError\u001b[0m                                 Traceback (most recent call last)",
      "Cell \u001b[0;32mIn[33], line 1\u001b[0m\n\u001b[0;32m----> 1\u001b[0m \u001b[38;5;28;43mlist\u001b[39;49m\u001b[43m \u001b[49m\u001b[38;5;241;43m+\u001b[39;49m\u001b[43m \u001b[49m\u001b[38;5;241;43m5\u001b[39;49m\n",
      "\u001b[0;31mTypeError\u001b[0m: can only concatenate list (not \"int\") to list"
     ]
    }
   ],
   "source": [
    "list + 5"
   ]
  },
  {
   "cell_type": "code",
   "execution_count": 34,
   "id": "3c331ac6-d46f-40e4-a286-eaabe354403b",
   "metadata": {},
   "outputs": [],
   "source": [
    "list.append(5)"
   ]
  },
  {
   "cell_type": "code",
   "execution_count": 35,
   "id": "000d5c0a-6b38-427d-be49-ab9ee0e8dd7d",
   "metadata": {},
   "outputs": [
    {
     "data": {
      "text/plain": [
       "[1, 3, 'sourabh', (5+7j), True, 84.66, 'pwskills', 5]"
      ]
     },
     "execution_count": 35,
     "metadata": {},
     "output_type": "execute_result"
    }
   ],
   "source": [
    "list"
   ]
  },
  {
   "cell_type": "code",
   "execution_count": 36,
   "id": "7ebf39c9-cbe5-44a1-9228-0ce3b37bbeae",
   "metadata": {},
   "outputs": [],
   "source": [
    "l1 = [3,4,5]\n",
    "l2 = [56, \"sfsf\",53535.2]"
   ]
  },
  {
   "cell_type": "code",
   "execution_count": 37,
   "id": "29cef34c-aba8-4228-a60a-5746bbddba5a",
   "metadata": {},
   "outputs": [
    {
     "data": {
      "text/plain": [
       "[3, 4, 5, 56, 'sfsf', 53535.2]"
      ]
     },
     "execution_count": 37,
     "metadata": {},
     "output_type": "execute_result"
    }
   ],
   "source": [
    "l1+l2"
   ]
  },
  {
   "cell_type": "code",
   "execution_count": 38,
   "id": "16277055-1add-4c19-b324-f82c211e2fcb",
   "metadata": {},
   "outputs": [
    {
     "data": {
      "text/plain": [
       "[3, 4, 5, 3, 4, 5]"
      ]
     },
     "execution_count": 38,
     "metadata": {},
     "output_type": "execute_result"
    }
   ],
   "source": [
    "l1*2"
   ]
  },
  {
   "cell_type": "code",
   "execution_count": 39,
   "id": "b013bfe4-fd04-42dc-a9e8-2f8a64ccbe33",
   "metadata": {},
   "outputs": [
    {
     "data": {
      "text/plain": [
       "[56, 'sfsf', 53535.2, 56, 'sfsf', 53535.2]"
      ]
     },
     "execution_count": 39,
     "metadata": {},
     "output_type": "execute_result"
    }
   ],
   "source": [
    "l2*2"
   ]
  },
  {
   "cell_type": "code",
   "execution_count": 40,
   "id": "fc54b935-06f5-41be-9157-8beb68670079",
   "metadata": {},
   "outputs": [
    {
     "data": {
      "text/plain": [
       "3"
      ]
     },
     "execution_count": 40,
     "metadata": {},
     "output_type": "execute_result"
    }
   ],
   "source": [
    "len(l1)"
   ]
  },
  {
   "cell_type": "code",
   "execution_count": 41,
   "id": "a6cb8788-3b77-4a6d-bbe6-2f618a670702",
   "metadata": {},
   "outputs": [
    {
     "data": {
      "text/plain": [
       "8"
      ]
     },
     "execution_count": 41,
     "metadata": {},
     "output_type": "execute_result"
    }
   ],
   "source": [
    "len(list)"
   ]
  },
  {
   "cell_type": "code",
   "execution_count": 42,
   "id": "b965d130-a14f-4594-b4f3-4445ae8e0150",
   "metadata": {},
   "outputs": [],
   "source": [
    "list.append(74) # add object at the end of the list"
   ]
  },
  {
   "cell_type": "code",
   "execution_count": 43,
   "id": "0de65fdf-3fe1-4c4b-82f6-d50e2397afd1",
   "metadata": {},
   "outputs": [
    {
     "data": {
      "text/plain": [
       "[1, 3, 'sourabh', (5+7j), True, 84.66, 'pwskills', 5, 74]"
      ]
     },
     "execution_count": 43,
     "metadata": {},
     "output_type": "execute_result"
    }
   ],
   "source": [
    "list"
   ]
  },
  {
   "cell_type": "code",
   "execution_count": 45,
   "id": "55f383f5-c1b6-448b-9efd-eb2c1f6602f4",
   "metadata": {},
   "outputs": [],
   "source": [
    "list.append(s)"
   ]
  },
  {
   "cell_type": "code",
   "execution_count": 46,
   "id": "ce659714-3fc7-49cb-9043-2641aeeb7199",
   "metadata": {},
   "outputs": [
    {
     "data": {
      "text/plain": [
       "[1, 3, 'sourabh', (5+7j), True, 84.66, 'pwskills', 5, 74, 'pwskills']"
      ]
     },
     "execution_count": 46,
     "metadata": {},
     "output_type": "execute_result"
    }
   ],
   "source": [
    "list"
   ]
  },
  {
   "cell_type": "code",
   "execution_count": 47,
   "id": "463c2888-a8ac-4584-b41b-77b6ac38ef87",
   "metadata": {},
   "outputs": [],
   "source": [
    "list.append(l1)"
   ]
  },
  {
   "cell_type": "code",
   "execution_count": 50,
   "id": "1015f482-03f9-4aef-a216-831ca1057d60",
   "metadata": {},
   "outputs": [
    {
     "data": {
      "text/plain": [
       "[1,\n",
       " 3,\n",
       " 'sourabh',\n",
       " (5+7j),\n",
       " True,\n",
       " 84.66,\n",
       " 'pwskills',\n",
       " 5,\n",
       " 74,\n",
       " 'pwskills',\n",
       " [3, 4, 5]]"
      ]
     },
     "execution_count": 50,
     "metadata": {},
     "output_type": "execute_result"
    }
   ],
   "source": [
    "list"
   ]
  },
  {
   "cell_type": "code",
   "execution_count": 52,
   "id": "064efbc1-3503-4570-b9a8-c0ad688cbedc",
   "metadata": {},
   "outputs": [
    {
     "data": {
      "text/plain": [
       "[3, 4, 5]"
      ]
     },
     "execution_count": 52,
     "metadata": {},
     "output_type": "execute_result"
    }
   ],
   "source": [
    "list[10]"
   ]
  },
  {
   "cell_type": "code",
   "execution_count": 53,
   "id": "d1898c64-fbe0-4421-8042-62c3e2f1e42f",
   "metadata": {},
   "outputs": [
    {
     "data": {
      "text/plain": [
       "4"
      ]
     },
     "execution_count": 53,
     "metadata": {},
     "output_type": "execute_result"
    }
   ],
   "source": [
    "list[10][1]"
   ]
  },
  {
   "cell_type": "code",
   "execution_count": 54,
   "id": "efcc0080-7a33-48d7-91c0-38b9dd6afa27",
   "metadata": {},
   "outputs": [
    {
     "data": {
      "text/plain": [
       "4"
      ]
     },
     "execution_count": 54,
     "metadata": {},
     "output_type": "execute_result"
    }
   ],
   "source": [
    "list[-1][1]"
   ]
  },
  {
   "cell_type": "code",
   "execution_count": 55,
   "id": "2e960fe2-aad9-4674-83ad-6f8b396f4379",
   "metadata": {},
   "outputs": [],
   "source": [
    "# extend function "
   ]
  },
  {
   "cell_type": "code",
   "execution_count": 58,
   "id": "40a59c7d-05e1-4c54-ba05-76cba5ebaac3",
   "metadata": {},
   "outputs": [
    {
     "data": {
      "text/plain": [
       "[1,\n",
       " 3,\n",
       " 'sourabh',\n",
       " (5+7j),\n",
       " True,\n",
       " 84.66,\n",
       " 'pwskills',\n",
       " 5,\n",
       " 74,\n",
       " 'pwskills',\n",
       " [3, 4, 5]]"
      ]
     },
     "execution_count": 58,
     "metadata": {},
     "output_type": "execute_result"
    }
   ],
   "source": [
    "list"
   ]
  },
  {
   "cell_type": "code",
   "execution_count": 60,
   "id": "47bfe184-0e8b-4756-863b-d90c2431989a",
   "metadata": {},
   "outputs": [
    {
     "ename": "TypeError",
     "evalue": "'int' object is not iterable",
     "output_type": "error",
     "traceback": [
      "\u001b[0;31m---------------------------------------------------------------------------\u001b[0m",
      "\u001b[0;31mTypeError\u001b[0m                                 Traceback (most recent call last)",
      "Cell \u001b[0;32mIn[60], line 1\u001b[0m\n\u001b[0;32m----> 1\u001b[0m \u001b[38;5;28;43mlist\u001b[39;49m\u001b[38;5;241;43m.\u001b[39;49m\u001b[43mextend\u001b[49m\u001b[43m(\u001b[49m\u001b[38;5;241;43m4\u001b[39;49m\u001b[43m)\u001b[49m\n",
      "\u001b[0;31mTypeError\u001b[0m: 'int' object is not iterable"
     ]
    }
   ],
   "source": [
    "list.extend(4)"
   ]
  },
  {
   "cell_type": "code",
   "execution_count": 64,
   "id": "2139a43e-28fb-40ac-bfcb-be932ab0032a",
   "metadata": {},
   "outputs": [],
   "source": [
    "list.extend(\"subh\")"
   ]
  },
  {
   "cell_type": "code",
   "execution_count": 65,
   "id": "c1027108-5491-4265-87e4-7fb9306a696c",
   "metadata": {},
   "outputs": [
    {
     "data": {
      "text/plain": [
       "[1,\n",
       " 3,\n",
       " 'sourabh',\n",
       " (5+7j),\n",
       " True,\n",
       " 84.66,\n",
       " 'pwskills',\n",
       " 5,\n",
       " 74,\n",
       " 'pwskills',\n",
       " [3, 4, 5],\n",
       " 's',\n",
       " 'u',\n",
       " 'b',\n",
       " 'h']"
      ]
     },
     "execution_count": 65,
     "metadata": {},
     "output_type": "execute_result"
    }
   ],
   "source": [
    "list"
   ]
  },
  {
   "cell_type": "code",
   "execution_count": 66,
   "id": "6c9f3382-1ae8-4cfd-9f34-a569117e0627",
   "metadata": {},
   "outputs": [],
   "source": [
    "# extend \n",
    "list.extend(l1)"
   ]
  },
  {
   "cell_type": "code",
   "execution_count": 67,
   "id": "51d75d6e-cafa-4452-9ab3-a4ce68089086",
   "metadata": {},
   "outputs": [
    {
     "data": {
      "text/plain": [
       "[1,\n",
       " 3,\n",
       " 'sourabh',\n",
       " (5+7j),\n",
       " True,\n",
       " 84.66,\n",
       " 'pwskills',\n",
       " 5,\n",
       " 74,\n",
       " 'pwskills',\n",
       " [3, 4, 5],\n",
       " 's',\n",
       " 'u',\n",
       " 'b',\n",
       " 'h',\n",
       " 3,\n",
       " 4,\n",
       " 5]"
      ]
     },
     "execution_count": 67,
     "metadata": {},
     "output_type": "execute_result"
    }
   ],
   "source": [
    "list"
   ]
  },
  {
   "cell_type": "code",
   "execution_count": 68,
   "id": "40ac2435-a4ba-496a-86d5-78a1c6f18687",
   "metadata": {},
   "outputs": [],
   "source": [
    "# data should be added in the specific position\n"
   ]
  },
  {
   "cell_type": "code",
   "execution_count": 70,
   "id": "8a7a0564-3107-41e0-b833-3ccabfd963d2",
   "metadata": {},
   "outputs": [],
   "source": [
    "list.insert(0,l1)"
   ]
  },
  {
   "cell_type": "code",
   "execution_count": 71,
   "id": "0a4a1eec-d110-4b4c-a1a5-280a5ca13c77",
   "metadata": {},
   "outputs": [
    {
     "data": {
      "text/plain": [
       "[[3, 4, 5],\n",
       " 1,\n",
       " 3,\n",
       " 'sourabh',\n",
       " (5+7j),\n",
       " True,\n",
       " 84.66,\n",
       " 'pwskills',\n",
       " 5,\n",
       " 74,\n",
       " 'pwskills',\n",
       " [3, 4, 5],\n",
       " 's',\n",
       " 'u',\n",
       " 'b',\n",
       " 'h',\n",
       " 3,\n",
       " 4,\n",
       " 5]"
      ]
     },
     "execution_count": 71,
     "metadata": {},
     "output_type": "execute_result"
    }
   ],
   "source": [
    "list"
   ]
  },
  {
   "cell_type": "code",
   "execution_count": 72,
   "id": "d4b7e71a-65fa-46b9-bb87-37c3b8462382",
   "metadata": {},
   "outputs": [
    {
     "data": {
      "text/plain": [
       "[[3, 4, 5],\n",
       " 1,\n",
       " 3,\n",
       " 'sourabh',\n",
       " (5+7j),\n",
       " True,\n",
       " 84.66,\n",
       " 'pwskills',\n",
       " 5,\n",
       " 74,\n",
       " 'pwskills',\n",
       " [3, 4, 5],\n",
       " 's',\n",
       " 'u',\n",
       " 'b',\n",
       " 'h',\n",
       " 3,\n",
       " 4,\n",
       " 5]"
      ]
     },
     "execution_count": 72,
     "metadata": {},
     "output_type": "execute_result"
    }
   ],
   "source": [
    "list"
   ]
  },
  {
   "cell_type": "code",
   "execution_count": 73,
   "id": "be81c10f-d343-426d-b30d-7048195900dc",
   "metadata": {},
   "outputs": [],
   "source": [
    "list.insert(4,\"rawat\")"
   ]
  },
  {
   "cell_type": "code",
   "execution_count": 74,
   "id": "9d825a13-1c7b-4c95-b992-57f53eab003d",
   "metadata": {},
   "outputs": [
    {
     "data": {
      "text/plain": [
       "[[3, 4, 5],\n",
       " 1,\n",
       " 3,\n",
       " 'sourabh',\n",
       " 'rawat',\n",
       " (5+7j),\n",
       " True,\n",
       " 84.66,\n",
       " 'pwskills',\n",
       " 5,\n",
       " 74,\n",
       " 'pwskills',\n",
       " [3, 4, 5],\n",
       " 's',\n",
       " 'u',\n",
       " 'b',\n",
       " 'h',\n",
       " 3,\n",
       " 4,\n",
       " 5]"
      ]
     },
     "execution_count": 74,
     "metadata": {},
     "output_type": "execute_result"
    }
   ],
   "source": [
    "list"
   ]
  },
  {
   "cell_type": "code",
   "execution_count": 75,
   "id": "2eb6f7d0-3565-41e6-a442-d61aeb784618",
   "metadata": {},
   "outputs": [],
   "source": [
    "list.insert(-1,45)"
   ]
  },
  {
   "cell_type": "code",
   "execution_count": 76,
   "id": "142f8857-f55d-4ede-b001-61b4f96be3b4",
   "metadata": {},
   "outputs": [
    {
     "data": {
      "text/plain": [
       "[[3, 4, 5],\n",
       " 1,\n",
       " 3,\n",
       " 'sourabh',\n",
       " 'rawat',\n",
       " (5+7j),\n",
       " True,\n",
       " 84.66,\n",
       " 'pwskills',\n",
       " 5,\n",
       " 74,\n",
       " 'pwskills',\n",
       " [3, 4, 5],\n",
       " 's',\n",
       " 'u',\n",
       " 'b',\n",
       " 'h',\n",
       " 3,\n",
       " 4,\n",
       " 45,\n",
       " 5]"
      ]
     },
     "execution_count": 76,
     "metadata": {},
     "output_type": "execute_result"
    }
   ],
   "source": [
    "list"
   ]
  },
  {
   "cell_type": "code",
   "execution_count": 77,
   "id": "59317218-daf5-45a3-a991-5f494a0679ec",
   "metadata": {},
   "outputs": [],
   "source": [
    "# data should be added in the second last postion, "
   ]
  },
  {
   "cell_type": "code",
   "execution_count": 78,
   "id": "5eb2c02d-fe2b-4eaa-803f-b4dac2592313",
   "metadata": {},
   "outputs": [],
   "source": [
    "list.insert(0,45)"
   ]
  },
  {
   "cell_type": "code",
   "execution_count": 79,
   "id": "e0da305a-9749-4314-9844-b588a70578f2",
   "metadata": {},
   "outputs": [
    {
     "data": {
      "text/plain": [
       "[45,\n",
       " [3, 4, 5],\n",
       " 1,\n",
       " 3,\n",
       " 'sourabh',\n",
       " 'rawat',\n",
       " (5+7j),\n",
       " True,\n",
       " 84.66,\n",
       " 'pwskills',\n",
       " 5,\n",
       " 74,\n",
       " 'pwskills',\n",
       " [3, 4, 5],\n",
       " 's',\n",
       " 'u',\n",
       " 'b',\n",
       " 'h',\n",
       " 3,\n",
       " 4,\n",
       " 45,\n",
       " 5]"
      ]
     },
     "execution_count": 79,
     "metadata": {},
     "output_type": "execute_result"
    }
   ],
   "source": [
    "list"
   ]
  },
  {
   "cell_type": "code",
   "execution_count": 80,
   "id": "7e85a6e4-6317-49dc-b8ba-10d2a30479a9",
   "metadata": {},
   "outputs": [
    {
     "data": {
      "text/plain": [
       "5"
      ]
     },
     "execution_count": 80,
     "metadata": {},
     "output_type": "execute_result"
    }
   ],
   "source": [
    "# remove from the last one digit\n",
    "list.pop()"
   ]
  },
  {
   "cell_type": "code",
   "execution_count": 81,
   "id": "5a87d158-2bd0-4578-bfcf-0aa1bb624fa7",
   "metadata": {},
   "outputs": [
    {
     "data": {
      "text/plain": [
       "[45,\n",
       " [3, 4, 5],\n",
       " 1,\n",
       " 3,\n",
       " 'sourabh',\n",
       " 'rawat',\n",
       " (5+7j),\n",
       " True,\n",
       " 84.66,\n",
       " 'pwskills',\n",
       " 5,\n",
       " 74,\n",
       " 'pwskills',\n",
       " [3, 4, 5],\n",
       " 's',\n",
       " 'u',\n",
       " 'b',\n",
       " 'h',\n",
       " 3,\n",
       " 4,\n",
       " 45]"
      ]
     },
     "execution_count": 81,
     "metadata": {},
     "output_type": "execute_result"
    }
   ],
   "source": [
    "list"
   ]
  },
  {
   "cell_type": "code",
   "execution_count": 82,
   "id": "075f3632-bf14-4765-acba-5164321fc979",
   "metadata": {},
   "outputs": [
    {
     "data": {
      "text/plain": [
       "45"
      ]
     },
     "execution_count": 82,
     "metadata": {},
     "output_type": "execute_result"
    }
   ],
   "source": [
    "list.pop()"
   ]
  },
  {
   "cell_type": "code",
   "execution_count": 83,
   "id": "c06565df-2c2a-4bbb-a561-06fd1ff94096",
   "metadata": {},
   "outputs": [
    {
     "data": {
      "text/plain": [
       "[45,\n",
       " [3, 4, 5],\n",
       " 1,\n",
       " 3,\n",
       " 'sourabh',\n",
       " 'rawat',\n",
       " (5+7j),\n",
       " True,\n",
       " 84.66,\n",
       " 'pwskills',\n",
       " 5,\n",
       " 74,\n",
       " 'pwskills',\n",
       " [3, 4, 5],\n",
       " 's',\n",
       " 'u',\n",
       " 'b',\n",
       " 'h',\n",
       " 3,\n",
       " 4]"
      ]
     },
     "execution_count": 83,
     "metadata": {},
     "output_type": "execute_result"
    }
   ],
   "source": [
    "# removes the data from last\n",
    "list"
   ]
  },
  {
   "cell_type": "code",
   "execution_count": 84,
   "id": "3e72e31a-339e-4d59-b6b9-4a9a41e2cbdc",
   "metadata": {},
   "outputs": [
    {
     "data": {
      "text/plain": [
       "1"
      ]
     },
     "execution_count": 84,
     "metadata": {},
     "output_type": "execute_result"
    }
   ],
   "source": [
    "# delete the value at index 3 (2)\n",
    "list.pop(2)"
   ]
  },
  {
   "cell_type": "code",
   "execution_count": 85,
   "id": "480bcb20-f6db-46c1-9b21-65a1f8b57265",
   "metadata": {},
   "outputs": [
    {
     "data": {
      "text/plain": [
       "[45,\n",
       " [3, 4, 5],\n",
       " 3,\n",
       " 'sourabh',\n",
       " 'rawat',\n",
       " (5+7j),\n",
       " True,\n",
       " 84.66,\n",
       " 'pwskills',\n",
       " 5,\n",
       " 74,\n",
       " 'pwskills',\n",
       " [3, 4, 5],\n",
       " 's',\n",
       " 'u',\n",
       " 'b',\n",
       " 'h',\n",
       " 3,\n",
       " 4]"
      ]
     },
     "execution_count": 85,
     "metadata": {},
     "output_type": "execute_result"
    }
   ],
   "source": [
    "list"
   ]
  },
  {
   "cell_type": "code",
   "execution_count": 88,
   "id": "ad28f88d-5ee0-48d8-8cb6-515bc66202c1",
   "metadata": {},
   "outputs": [],
   "source": [
    "list.remove(\"sourabh\")"
   ]
  },
  {
   "cell_type": "code",
   "execution_count": 89,
   "id": "389119dd-e280-4cd8-92f4-eef17da331f3",
   "metadata": {},
   "outputs": [
    {
     "data": {
      "text/plain": [
       "[45,\n",
       " [3, 4, 5],\n",
       " 3,\n",
       " 'rawat',\n",
       " (5+7j),\n",
       " True,\n",
       " 84.66,\n",
       " 'pwskills',\n",
       " 5,\n",
       " 74,\n",
       " 'pwskills',\n",
       " [3, 4, 5],\n",
       " 's',\n",
       " 'u',\n",
       " 'b',\n",
       " 'h',\n",
       " 3,\n",
       " 4]"
      ]
     },
     "execution_count": 89,
     "metadata": {},
     "output_type": "execute_result"
    }
   ],
   "source": [
    "list"
   ]
  },
  {
   "cell_type": "code",
   "execution_count": 90,
   "id": "471aebca-dccb-4c54-8a67-fcfb7bc69880",
   "metadata": {},
   "outputs": [],
   "source": [
    "list.remove(\"rawat\")"
   ]
  },
  {
   "cell_type": "code",
   "execution_count": 91,
   "id": "8c39a69c-7891-4023-928a-e17d1569a0fa",
   "metadata": {},
   "outputs": [
    {
     "data": {
      "text/plain": [
       "[45,\n",
       " [3, 4, 5],\n",
       " 3,\n",
       " (5+7j),\n",
       " True,\n",
       " 84.66,\n",
       " 'pwskills',\n",
       " 5,\n",
       " 74,\n",
       " 'pwskills',\n",
       " [3, 4, 5],\n",
       " 's',\n",
       " 'u',\n",
       " 'b',\n",
       " 'h',\n",
       " 3,\n",
       " 4]"
      ]
     },
     "execution_count": 91,
     "metadata": {},
     "output_type": "execute_result"
    }
   ],
   "source": [
    "list"
   ]
  },
  {
   "cell_type": "code",
   "execution_count": 1,
   "id": "aeed097c-ad38-4756-ae80-4ef11d493eaf",
   "metadata": {},
   "outputs": [],
   "source": [
    "l1 = [2,4,5,[1,2,3]]"
   ]
  },
  {
   "cell_type": "code",
   "execution_count": 2,
   "id": "af6641e3-b867-45d7-ab01-d80409a5e5f7",
   "metadata": {},
   "outputs": [
    {
     "data": {
      "text/plain": [
       "[2, 4, 5, [1, 2, 3]]"
      ]
     },
     "execution_count": 2,
     "metadata": {},
     "output_type": "execute_result"
    }
   ],
   "source": [
    "l1"
   ]
  },
  {
   "cell_type": "code",
   "execution_count": 3,
   "id": "dddfafa7-0687-482d-a797-9b5b6a2160c6",
   "metadata": {},
   "outputs": [],
   "source": [
    "l1[3].remove(2)"
   ]
  },
  {
   "cell_type": "code",
   "execution_count": 4,
   "id": "ead561a3-4efb-4cfe-ad22-06b984b94d82",
   "metadata": {},
   "outputs": [
    {
     "data": {
      "text/plain": [
       "[2, 4, 5, [1, 3]]"
      ]
     },
     "execution_count": 4,
     "metadata": {},
     "output_type": "execute_result"
    }
   ],
   "source": [
    "l1"
   ]
  },
  {
   "cell_type": "code",
   "execution_count": 5,
   "id": "ff99e845-be38-43b6-bcd6-49f2e4d21cb3",
   "metadata": {},
   "outputs": [],
   "source": [
    "l1.append(\"SOURABH\")"
   ]
  },
  {
   "cell_type": "code",
   "execution_count": 7,
   "id": "89b0fbbd-c81d-49e6-b12c-e8f609afe6f5",
   "metadata": {},
   "outputs": [
    {
     "data": {
      "text/plain": [
       "[2, 4, 5, [1, 3], 'SOURABH']"
      ]
     },
     "execution_count": 7,
     "metadata": {},
     "output_type": "execute_result"
    }
   ],
   "source": [
    "l1"
   ]
  },
  {
   "cell_type": "code",
   "execution_count": 8,
   "id": "099c17c1-ecfc-4e5c-9d41-a8a3a2044a64",
   "metadata": {},
   "outputs": [
    {
     "ename": "AttributeError",
     "evalue": "'str' object has no attribute 'remove'",
     "output_type": "error",
     "traceback": [
      "\u001b[0;31m---------------------------------------------------------------------------\u001b[0m",
      "\u001b[0;31mAttributeError\u001b[0m                            Traceback (most recent call last)",
      "Cell \u001b[0;32mIn[8], line 1\u001b[0m\n\u001b[0;32m----> 1\u001b[0m \u001b[43ml1\u001b[49m\u001b[43m[\u001b[49m\u001b[38;5;241;43m4\u001b[39;49m\u001b[43m]\u001b[49m\u001b[38;5;241;43m.\u001b[39;49m\u001b[43mremove\u001b[49m(\u001b[38;5;124m\"\u001b[39m\u001b[38;5;124mSO\u001b[39m\u001b[38;5;124m\"\u001b[39m)\n",
      "\u001b[0;31mAttributeError\u001b[0m: 'str' object has no attribute 'remove'"
     ]
    }
   ],
   "source": [
    "# IT CAN NOT BE REMOVED\n",
    "# STRING IS IMMUTABLE\n",
    "# LIST IS IMMUTABLE\n",
    "l1[4].remove(\"SO\")"
   ]
  },
  {
   "cell_type": "code",
   "execution_count": 9,
   "id": "935999e0-b50c-4b95-844e-eac3749c7e94",
   "metadata": {},
   "outputs": [],
   "source": [
    "l1.append(4)"
   ]
  },
  {
   "cell_type": "code",
   "execution_count": 10,
   "id": "805fa9f7-ca28-4154-94e0-bbcee8c2615b",
   "metadata": {},
   "outputs": [
    {
     "data": {
      "text/plain": [
       "[2, 4, 5, [1, 3], 'SOURABH', 4]"
      ]
     },
     "execution_count": 10,
     "metadata": {},
     "output_type": "execute_result"
    }
   ],
   "source": [
    "l1"
   ]
  },
  {
   "cell_type": "code",
   "execution_count": 11,
   "id": "b04cb519-388b-48cd-8e47-391a35ce7658",
   "metadata": {},
   "outputs": [
    {
     "data": {
      "text/plain": [
       "[4, 'SOURABH', [1, 3], 5, 4, 2]"
      ]
     },
     "execution_count": 11,
     "metadata": {},
     "output_type": "execute_result"
    }
   ],
   "source": [
    "# for reverse\n",
    "# it is a temporary reverse\n",
    "l1[::-1]"
   ]
  },
  {
   "cell_type": "code",
   "execution_count": 12,
   "id": "2a68a7ca-3399-4326-8ff7-3f5156764372",
   "metadata": {},
   "outputs": [],
   "source": [
    "# it is a permanent reverse\n",
    "l1.reverse()"
   ]
  },
  {
   "cell_type": "code",
   "execution_count": 13,
   "id": "554f98b2-1077-436a-94dc-fa6221350510",
   "metadata": {},
   "outputs": [
    {
     "data": {
      "text/plain": [
       "[4, 'SOURABH', [1, 3], 5, 4, 2]"
      ]
     },
     "execution_count": 13,
     "metadata": {},
     "output_type": "execute_result"
    }
   ],
   "source": [
    "l1"
   ]
  },
  {
   "cell_type": "code",
   "execution_count": 14,
   "id": "e5b211c4-ac07-48f7-87eb-53341600bcad",
   "metadata": {},
   "outputs": [
    {
     "ename": "TypeError",
     "evalue": "'<' not supported between instances of 'str' and 'int'",
     "output_type": "error",
     "traceback": [
      "\u001b[0;31m---------------------------------------------------------------------------\u001b[0m",
      "\u001b[0;31mTypeError\u001b[0m                                 Traceback (most recent call last)",
      "Cell \u001b[0;32mIn[14], line 1\u001b[0m\n\u001b[0;32m----> 1\u001b[0m \u001b[43ml1\u001b[49m\u001b[38;5;241;43m.\u001b[39;49m\u001b[43msort\u001b[49m\u001b[43m(\u001b[49m\u001b[43m)\u001b[49m\n",
      "\u001b[0;31mTypeError\u001b[0m: '<' not supported between instances of 'str' and 'int'"
     ]
    }
   ],
   "source": [
    "l1.sort()"
   ]
  },
  {
   "cell_type": "code",
   "execution_count": 15,
   "id": "e2d852a8-139b-47ec-a9bd-ab16ae5c56b5",
   "metadata": {},
   "outputs": [],
   "source": [
    "# sort in a  ascending order\n",
    "l2 = [1,5,8,9,15]"
   ]
  },
  {
   "cell_type": "code",
   "execution_count": 16,
   "id": "4b1d0cd8-10d7-4872-8307-70f7c1848cf5",
   "metadata": {},
   "outputs": [],
   "source": [
    "l2.sort()"
   ]
  },
  {
   "cell_type": "code",
   "execution_count": 17,
   "id": "332c79c7-574d-4e7a-9a89-289569e918af",
   "metadata": {},
   "outputs": [
    {
     "data": {
      "text/plain": [
       "[1, 5, 8, 9, 15]"
      ]
     },
     "execution_count": 17,
     "metadata": {},
     "output_type": "execute_result"
    }
   ],
   "source": [
    "l2"
   ]
  },
  {
   "cell_type": "code",
   "execution_count": 25,
   "id": "0a129721-3237-44e6-89cf-4e9f2af55244",
   "metadata": {},
   "outputs": [],
   "source": [
    "l3 = [34,\"sourav\",45,12,\"rawat\"]"
   ]
  },
  {
   "cell_type": "code",
   "execution_count": 26,
   "id": "d82cd448-af74-4d12-a907-28e57eea2ece",
   "metadata": {},
   "outputs": [
    {
     "data": {
      "text/plain": [
       "[34, 'sourav', 45, 12, 'rawat']"
      ]
     },
     "execution_count": 26,
     "metadata": {},
     "output_type": "execute_result"
    }
   ],
   "source": [
    "l3"
   ]
  },
  {
   "cell_type": "code",
   "execution_count": 27,
   "id": "6469c8b4-9640-4ce6-89b4-86c2af55c07e",
   "metadata": {},
   "outputs": [],
   "source": [
    "l4 = [\"sourav\", \"sweta\",\"aswin\", \"saumya\"]"
   ]
  },
  {
   "cell_type": "code",
   "execution_count": 28,
   "id": "1bc0948e-85ac-4c03-9a7b-59a388ef3421",
   "metadata": {},
   "outputs": [
    {
     "data": {
      "text/plain": [
       "['sourav', 'sweta', 'aswin', 'saumya']"
      ]
     },
     "execution_count": 28,
     "metadata": {},
     "output_type": "execute_result"
    }
   ],
   "source": [
    "l4"
   ]
  },
  {
   "cell_type": "code",
   "execution_count": 29,
   "id": "e89737ff-8092-4ad6-a062-25a0580fc3a6",
   "metadata": {},
   "outputs": [],
   "source": [
    "l4.sort()"
   ]
  },
  {
   "cell_type": "code",
   "execution_count": 30,
   "id": "488c762a-a9eb-43a5-a06b-6ac464a4065e",
   "metadata": {},
   "outputs": [
    {
     "data": {
      "text/plain": [
       "['aswin', 'saumya', 'sourav', 'sweta']"
      ]
     },
     "execution_count": 30,
     "metadata": {},
     "output_type": "execute_result"
    }
   ],
   "source": [
    "l4"
   ]
  },
  {
   "cell_type": "code",
   "execution_count": 31,
   "id": "f5035e44-df25-4953-9669-1efa84f13cb2",
   "metadata": {},
   "outputs": [],
   "source": [
    "l4.sort(reverse = True)"
   ]
  },
  {
   "cell_type": "code",
   "execution_count": 32,
   "id": "3357c203-d21b-44d5-9441-1f87e9c402f5",
   "metadata": {},
   "outputs": [
    {
     "data": {
      "text/plain": [
       "['sweta', 'sourav', 'saumya', 'aswin']"
      ]
     },
     "execution_count": 32,
     "metadata": {},
     "output_type": "execute_result"
    }
   ],
   "source": [
    "l4"
   ]
  },
  {
   "cell_type": "code",
   "execution_count": 33,
   "id": "cc34e17b-617f-4099-8261-313b8e874d01",
   "metadata": {},
   "outputs": [
    {
     "data": {
      "text/plain": [
       "1"
      ]
     },
     "execution_count": 33,
     "metadata": {},
     "output_type": "execute_result"
    }
   ],
   "source": [
    "# to get the index number of the data\n",
    "l4.index(\"sourav\")"
   ]
  },
  {
   "cell_type": "code",
   "execution_count": 36,
   "id": "2d8ca6a1-d1b0-43d6-87cf-ed4afc31fd3b",
   "metadata": {},
   "outputs": [
    {
     "data": {
      "text/plain": [
       "1"
      ]
     },
     "execution_count": 36,
     "metadata": {},
     "output_type": "execute_result"
    }
   ],
   "source": [
    "l4.count(\"sweta\")"
   ]
  },
  {
   "cell_type": "code",
   "execution_count": 37,
   "id": "21d9d585-593d-49e7-8b3a-c941b332024a",
   "metadata": {},
   "outputs": [],
   "source": [
    "l5 = [3.4,5,6]"
   ]
  },
  {
   "cell_type": "code",
   "execution_count": 38,
   "id": "9233e9d4-c2b7-4194-991f-c5ab38e3c595",
   "metadata": {},
   "outputs": [],
   "source": [
    "s = \"sourav\""
   ]
  },
  {
   "cell_type": "code",
   "execution_count": 39,
   "id": "3e87c462-0b30-43ee-b5b2-4080867bee8a",
   "metadata": {},
   "outputs": [
    {
     "data": {
      "text/plain": [
       "'s'"
      ]
     },
     "execution_count": 39,
     "metadata": {},
     "output_type": "execute_result"
    }
   ],
   "source": [
    "s[0]"
   ]
  },
  {
   "cell_type": "code",
   "execution_count": 40,
   "id": "b5a65809-c0a3-4129-9b34-e340c70b92ec",
   "metadata": {},
   "outputs": [],
   "source": [
    "# replace s with a"
   ]
  },
  {
   "cell_type": "code",
   "execution_count": 41,
   "id": "5f221c5c-33da-4b2d-a656-755c094fc0d2",
   "metadata": {},
   "outputs": [
    {
     "ename": "TypeError",
     "evalue": "'str' object does not support item assignment",
     "output_type": "error",
     "traceback": [
      "\u001b[0;31m---------------------------------------------------------------------------\u001b[0m",
      "\u001b[0;31mTypeError\u001b[0m                                 Traceback (most recent call last)",
      "Cell \u001b[0;32mIn[41], line 1\u001b[0m\n\u001b[0;32m----> 1\u001b[0m \u001b[43ms\u001b[49m\u001b[43m[\u001b[49m\u001b[38;5;241;43m0\u001b[39;49m\u001b[43m]\u001b[49m \u001b[38;5;241m=\u001b[39m \u001b[38;5;124m\"\u001b[39m\u001b[38;5;124ma\u001b[39m\u001b[38;5;124m\"\u001b[39m\n",
      "\u001b[0;31mTypeError\u001b[0m: 'str' object does not support item assignment"
     ]
    }
   ],
   "source": [
    "s[0] = \"a\""
   ]
  },
  {
   "cell_type": "markdown",
   "id": "aa5012e4-c139-40c6-8c91-a56be7e03d3d",
   "metadata": {},
   "source": [
    "l5"
   ]
  },
  {
   "cell_type": "code",
   "execution_count": 42,
   "id": "c22a3e96-9c48-4271-895a-f316723dd88d",
   "metadata": {},
   "outputs": [
    {
     "data": {
      "text/plain": [
       "[3.4, 5, 6]"
      ]
     },
     "execution_count": 42,
     "metadata": {},
     "output_type": "execute_result"
    }
   ],
   "source": [
    "l5"
   ]
  },
  {
   "cell_type": "code",
   "execution_count": 43,
   "id": "e8c5a231-0f75-4434-86a6-a0fb0f8d1307",
   "metadata": {},
   "outputs": [],
   "source": [
    "l5[0] = 30"
   ]
  },
  {
   "cell_type": "code",
   "execution_count": 44,
   "id": "62e774c3-a1cc-4844-91bd-9e7a46ab4c71",
   "metadata": {},
   "outputs": [
    {
     "data": {
      "text/plain": [
       "[30, 5, 6]"
      ]
     },
     "execution_count": 44,
     "metadata": {},
     "output_type": "execute_result"
    }
   ],
   "source": [
    "l5"
   ]
  },
  {
   "cell_type": "markdown",
   "id": "99df99a0-e1e1-45bc-8adf-71a9ac93314e",
   "metadata": {},
   "source": [
    "# strings are immuatble  # index element cananot change\n",
    "# list is mutable the index element can be changed"
   ]
  },
  {
   "cell_type": "code",
   "execution_count": 47,
   "id": "c38fea42-2419-4062-8960-ecb79cac1dd9",
   "metadata": {},
   "outputs": [
    {
     "data": {
      "text/plain": [
       "'aourav'"
      ]
     },
     "execution_count": 47,
     "metadata": {},
     "output_type": "execute_result"
    }
   ],
   "source": [
    "# indexing value in string\n",
    "s.replace(\"s\",\"a\")"
   ]
  },
  {
   "cell_type": "code",
   "execution_count": 49,
   "id": "c936c2bf-9e19-4606-8591-4074a9315d6d",
   "metadata": {},
   "outputs": [
    {
     "data": {
      "text/plain": [
       "'sourav'"
      ]
     },
     "execution_count": 49,
     "metadata": {},
     "output_type": "execute_result"
    }
   ],
   "source": [
    "# original s remians same\n",
    "s"
   ]
  },
  {
   "cell_type": "markdown",
   "id": "431b163b-f42f-4b57-9c13-7ec35581e13b",
   "metadata": {},
   "source": [
    "NEW DATA TYPE CALLED TUPLE\n",
    "TUPLE IS ALSO CALLED LIST\n",
    "USING ()"
   ]
  },
  {
   "cell_type": "code",
   "execution_count": 50,
   "id": "81f60423-f2a9-4a0d-90a1-faaa96036078",
   "metadata": {},
   "outputs": [],
   "source": [
    "t = (1,5,6,\"sourav\", 85.78)"
   ]
  },
  {
   "cell_type": "code",
   "execution_count": 51,
   "id": "223c37f7-92eb-4927-a225-2c7ee753a727",
   "metadata": {},
   "outputs": [
    {
     "data": {
      "text/plain": [
       "(1, 5, 6, 'sourav', 85.78)"
      ]
     },
     "execution_count": 51,
     "metadata": {},
     "output_type": "execute_result"
    }
   ],
   "source": [
    "t"
   ]
  },
  {
   "cell_type": "code",
   "execution_count": 52,
   "id": "9f97950f-752e-4c23-abe1-a8e930a833ec",
   "metadata": {},
   "outputs": [
    {
     "data": {
      "text/plain": [
       "tuple"
      ]
     },
     "execution_count": 52,
     "metadata": {},
     "output_type": "execute_result"
    }
   ],
   "source": [
    "type(t)"
   ]
  },
  {
   "cell_type": "code",
   "execution_count": 53,
   "id": "7cedb8a7-2097-4afc-b8fa-c7bf9b4d374a",
   "metadata": {},
   "outputs": [
    {
     "data": {
      "text/plain": [
       "5"
      ]
     },
     "execution_count": 53,
     "metadata": {},
     "output_type": "execute_result"
    }
   ],
   "source": [
    "len(t)"
   ]
  },
  {
   "cell_type": "code",
   "execution_count": 54,
   "id": "2dd751ae-b195-42c8-93f3-539d2eae03f3",
   "metadata": {},
   "outputs": [
    {
     "data": {
      "text/plain": [
       "1"
      ]
     },
     "execution_count": 54,
     "metadata": {},
     "output_type": "execute_result"
    }
   ],
   "source": [
    "t[0]"
   ]
  },
  {
   "cell_type": "code",
   "execution_count": 55,
   "id": "4022bcbf-89a7-43f9-a6ff-d62281efaa57",
   "metadata": {},
   "outputs": [
    {
     "data": {
      "text/plain": [
       "5"
      ]
     },
     "execution_count": 55,
     "metadata": {},
     "output_type": "execute_result"
    }
   ],
   "source": [
    "t[1]"
   ]
  },
  {
   "cell_type": "code",
   "execution_count": 56,
   "id": "5fb55284-f6c3-4fb5-85a0-b3fb74a5d48b",
   "metadata": {},
   "outputs": [
    {
     "data": {
      "text/plain": [
       "(85.78, 'sourav', 6, 5, 1)"
      ]
     },
     "execution_count": 56,
     "metadata": {},
     "output_type": "execute_result"
    }
   ],
   "source": [
    "t[::-1]\n",
    "\n",
    "\n"
   ]
  },
  {
   "cell_type": "code",
   "execution_count": 57,
   "id": "158853db-e750-41dd-85d0-1a9c38763b33",
   "metadata": {},
   "outputs": [
    {
     "data": {
      "text/plain": [
       "['sweta', 'sourav', 'saumya', 'aswin']"
      ]
     },
     "execution_count": 57,
     "metadata": {},
     "output_type": "execute_result"
    }
   ],
   "source": [
    "l4"
   ]
  },
  {
   "cell_type": "code",
   "execution_count": 58,
   "id": "cd4d7428-c96a-430e-8f75-eba904cd97ae",
   "metadata": {},
   "outputs": [],
   "source": [
    "l4[0] = 85855\n",
    "# list is mutable at any index"
   ]
  },
  {
   "cell_type": "code",
   "execution_count": 59,
   "id": "b8a639b8-4610-4876-8b16-e22eb5ee059c",
   "metadata": {},
   "outputs": [
    {
     "data": {
      "text/plain": [
       "[85855, 'sourav', 'saumya', 'aswin']"
      ]
     },
     "execution_count": 59,
     "metadata": {},
     "output_type": "execute_result"
    }
   ],
   "source": [
    "l4"
   ]
  },
  {
   "cell_type": "code",
   "execution_count": 60,
   "id": "d27f707f-f73f-4420-b0c4-70a85376caf9",
   "metadata": {},
   "outputs": [
    {
     "ename": "TypeError",
     "evalue": "'tuple' object does not support item assignment",
     "output_type": "error",
     "traceback": [
      "\u001b[0;31m---------------------------------------------------------------------------\u001b[0m",
      "\u001b[0;31mTypeError\u001b[0m                                 Traceback (most recent call last)",
      "Cell \u001b[0;32mIn[60], line 1\u001b[0m\n\u001b[0;32m----> 1\u001b[0m \u001b[43mt\u001b[49m\u001b[43m[\u001b[49m\u001b[38;5;241;43m0\u001b[39;49m\u001b[43m]\u001b[49m \u001b[38;5;241m=\u001b[39m \u001b[38;5;124m\"\u001b[39m\u001b[38;5;124msourav\u001b[39m\u001b[38;5;124m\"\u001b[39m\n",
      "\u001b[0;31mTypeError\u001b[0m: 'tuple' object does not support item assignment"
     ]
    }
   ],
   "source": [
    "t[0] = \"sourav\""
   ]
  },
  {
   "cell_type": "markdown",
   "id": "59958490-ca05-4c10-9529-6519617ead54",
   "metadata": {},
   "source": [
    "TUPLES ARE IMMUTABLE LIST IS IMMUTABLE"
   ]
  },
  {
   "cell_type": "code",
   "execution_count": 61,
   "id": "2dc27f20-d328-45ed-ab27-4c75906a7e6f",
   "metadata": {},
   "outputs": [
    {
     "data": {
      "text/plain": [
       "(85.78, 'sourav', 6, 5, 1)"
      ]
     },
     "execution_count": 61,
     "metadata": {},
     "output_type": "execute_result"
    }
   ],
   "source": [
    "t[::-1]"
   ]
  },
  {
   "cell_type": "code",
   "execution_count": 62,
   "id": "6241dcad-7a49-4b4f-9e86-8404e56005d4",
   "metadata": {},
   "outputs": [
    {
     "ename": "AttributeError",
     "evalue": "'tuple' object has no attribute 'reverse'",
     "output_type": "error",
     "traceback": [
      "\u001b[0;31m---------------------------------------------------------------------------\u001b[0m",
      "\u001b[0;31mAttributeError\u001b[0m                            Traceback (most recent call last)",
      "Cell \u001b[0;32mIn[62], line 1\u001b[0m\n\u001b[0;32m----> 1\u001b[0m \u001b[43mt\u001b[49m\u001b[38;5;241;43m.\u001b[39;49m\u001b[43mreverse\u001b[49m()\n",
      "\u001b[0;31mAttributeError\u001b[0m: 'tuple' object has no attribute 'reverse'"
     ]
    }
   ],
   "source": [
    "t.reverse()"
   ]
  },
  {
   "cell_type": "code",
   "execution_count": 65,
   "id": "c9fe7f38-aa92-4fd3-b9c0-b90ed4d5a80c",
   "metadata": {},
   "outputs": [
    {
     "data": {
      "text/plain": [
       "1"
      ]
     },
     "execution_count": 65,
     "metadata": {},
     "output_type": "execute_result"
    }
   ],
   "source": [
    "t.count(6)"
   ]
  },
  {
   "cell_type": "code",
   "execution_count": 66,
   "id": "38540eaa-0cc8-443d-99e6-4132096295bd",
   "metadata": {},
   "outputs": [
    {
     "data": {
      "text/plain": [
       "4"
      ]
     },
     "execution_count": 66,
     "metadata": {},
     "output_type": "execute_result"
    }
   ],
   "source": [
    "t.index(85.78)"
   ]
  },
  {
   "cell_type": "markdown",
   "id": "98e1b514-fee0-4c92-80a2-812d9e2c1e61",
   "metadata": {},
   "source": [
    "NEXT DATA TYPE  IS CALLED SET"
   ]
  },
  {
   "cell_type": "markdown",
   "id": "764e4a36-8ef7-4339-be58-333e17133d5d",
   "metadata": {},
   "source": []
  },
  {
   "cell_type": "code",
   "execution_count": 70,
   "id": "3a4b5339-5033-4383-97a1-f47ad57c177a",
   "metadata": {},
   "outputs": [],
   "source": [
    "s1 = {}"
   ]
  },
  {
   "cell_type": "code",
   "execution_count": 71,
   "id": "b78aa35a-c8ab-4a0f-9e92-3cb12dce419f",
   "metadata": {},
   "outputs": [
    {
     "data": {
      "text/plain": [
       "dict"
      ]
     },
     "execution_count": 71,
     "metadata": {},
     "output_type": "execute_result"
    }
   ],
   "source": [
    "type(s1)"
   ]
  },
  {
   "cell_type": "code",
   "execution_count": 72,
   "id": "0778620d-a6ea-47f0-9440-dc7980f31469",
   "metadata": {},
   "outputs": [],
   "source": [
    "s2 = {4,5,7,8,9}"
   ]
  },
  {
   "cell_type": "code",
   "execution_count": 73,
   "id": "7e5e4ab7-8b8e-4f22-84e9-1451e5040e67",
   "metadata": {},
   "outputs": [
    {
     "data": {
      "text/plain": [
       "set"
      ]
     },
     "execution_count": 73,
     "metadata": {},
     "output_type": "execute_result"
    }
   ],
   "source": [
    "type(s2)"
   ]
  },
  {
   "cell_type": "code",
   "execution_count": 77,
   "id": "a191f81a-766b-488e-a745-fecbf32ae381",
   "metadata": {},
   "outputs": [],
   "source": [
    "s1 = {1, 74.85, True, \"sourab\",(4,5,6)}"
   ]
  },
  {
   "cell_type": "code",
   "execution_count": 78,
   "id": "ae2b5ad1-0246-4f72-a356-219ea1690b80",
   "metadata": {},
   "outputs": [],
   "source": [
    "# TUPLES IS ACCEPTED INSIDE SET NOT LIST"
   ]
  },
  {
   "cell_type": "code",
   "execution_count": 79,
   "id": "d79495fc-bb20-40a6-b136-2326f64f919a",
   "metadata": {},
   "outputs": [
    {
     "data": {
      "text/plain": [
       "{(4, 5, 6), 1, 74.85, 'sourab'}"
      ]
     },
     "execution_count": 79,
     "metadata": {},
     "output_type": "execute_result"
    }
   ],
   "source": [
    "s1"
   ]
  },
  {
   "cell_type": "code",
   "execution_count": 80,
   "id": "25a8cabc-6dd6-4a95-80c7-2fbd2ee830f9",
   "metadata": {},
   "outputs": [],
   "source": [
    "s2={5,5,8,5,5,5,1,1,7}"
   ]
  },
  {
   "cell_type": "code",
   "execution_count": 81,
   "id": "87a71360-62a6-4001-9000-9be8237bc3da",
   "metadata": {},
   "outputs": [
    {
     "data": {
      "text/plain": [
       "{1, 5, 7, 8}"
      ]
     },
     "execution_count": 81,
     "metadata": {},
     "output_type": "execute_result"
    }
   ],
   "source": [
    "# only gives unique values removes duplicates\n",
    "s2"
   ]
  },
  {
   "cell_type": "code",
   "execution_count": 83,
   "id": "111ba1d6-3180-4284-bc5f-0650440d29ee",
   "metadata": {},
   "outputs": [],
   "source": [
    "s3 = {\"sour\",\"Sour\"}"
   ]
  },
  {
   "cell_type": "code",
   "execution_count": 84,
   "id": "2f59b90e-c651-4487-ad49-77d64762bb41",
   "metadata": {},
   "outputs": [
    {
     "data": {
      "text/plain": [
       "{'Sour', 'sour'}"
      ]
     },
     "execution_count": 84,
     "metadata": {},
     "output_type": "execute_result"
    }
   ],
   "source": [
    "# case senstivive\n",
    "s3"
   ]
  },
  {
   "cell_type": "code",
   "execution_count": 87,
   "id": "9167f9cf-5995-46ce-811d-e6c1873a627b",
   "metadata": {},
   "outputs": [],
   "source": [
    "s3 = list(set(s2))"
   ]
  },
  {
   "cell_type": "code",
   "execution_count": 88,
   "id": "073e407d-5ef0-42e4-a192-a9ad46509a57",
   "metadata": {},
   "outputs": [
    {
     "data": {
      "text/plain": [
       "[8, 1, 5, 7]"
      ]
     },
     "execution_count": 88,
     "metadata": {},
     "output_type": "execute_result"
    }
   ],
   "source": [
    "s3"
   ]
  },
  {
   "cell_type": "code",
   "execution_count": 89,
   "id": "6a778442-fa9c-4a34-9ef1-cf8b3a900b24",
   "metadata": {},
   "outputs": [],
   "source": [
    "s4 = set(list(s3))"
   ]
  },
  {
   "cell_type": "code",
   "execution_count": 90,
   "id": "b227ac1a-28ba-45a8-a2d4-a01c2ef51cfe",
   "metadata": {},
   "outputs": [
    {
     "data": {
      "text/plain": [
       "{1, 5, 7, 8}"
      ]
     },
     "execution_count": 90,
     "metadata": {},
     "output_type": "execute_result"
    }
   ],
   "source": [
    "# set does not arranged in the order of ascending\n",
    "s4"
   ]
  },
  {
   "cell_type": "code",
   "execution_count": 91,
   "id": "e7c89d19-25af-4558-9ea5-c11095ba5ac3",
   "metadata": {},
   "outputs": [],
   "source": [
    "# set always try to create unordered arrnagemnt of data"
   ]
  },
  {
   "cell_type": "code",
   "execution_count": 92,
   "id": "26f23906-d787-4146-a905-3bc764a5acc6",
   "metadata": {},
   "outputs": [],
   "source": [
    "# set is immuatable\n",
    "# no indexing and slicing operation "
   ]
  },
  {
   "cell_type": "code",
   "execution_count": 94,
   "id": "c6455e22-c564-42c7-bd19-cb2306f6c5e0",
   "metadata": {},
   "outputs": [],
   "source": [
    "s5 ={5,8,89,78,89,5566,89,\"sfd\",89}"
   ]
  },
  {
   "cell_type": "code",
   "execution_count": 95,
   "id": "f3e5e783-af42-47ec-a9a4-1b91a5be8854",
   "metadata": {},
   "outputs": [
    {
     "data": {
      "text/plain": [
       "{5, 5566, 78, 8, 89, 'sfd'}"
      ]
     },
     "execution_count": 95,
     "metadata": {},
     "output_type": "execute_result"
    }
   ],
   "source": [
    "s5"
   ]
  },
  {
   "cell_type": "code",
   "execution_count": 96,
   "id": "9b2e442f-6f74-421b-8617-84f11dc76640",
   "metadata": {},
   "outputs": [],
   "source": [
    "s5.add(4)"
   ]
  },
  {
   "cell_type": "code",
   "execution_count": 97,
   "id": "96dd4136-ec56-4321-b4d5-86098935ad1d",
   "metadata": {},
   "outputs": [
    {
     "data": {
      "text/plain": [
       "{4, 5, 5566, 78, 8, 89, 'sfd'}"
      ]
     },
     "execution_count": 97,
     "metadata": {},
     "output_type": "execute_result"
    }
   ],
   "source": [
    "s5"
   ]
  },
  {
   "cell_type": "code",
   "execution_count": 99,
   "id": "a272c2cc-834e-41ef-8d0f-80d7288ae401",
   "metadata": {},
   "outputs": [
    {
     "data": {
      "text/plain": [
       "5566"
      ]
     },
     "execution_count": 99,
     "metadata": {},
     "output_type": "execute_result"
    }
   ],
   "source": [
    "s5.pop()"
   ]
  },
  {
   "cell_type": "code",
   "execution_count": 100,
   "id": "0f1900db-08cf-4c5e-8aaf-75d3fbe2518c",
   "metadata": {},
   "outputs": [
    {
     "data": {
      "text/plain": [
       "{4, 5, 78, 8, 89, 'sfd'}"
      ]
     },
     "execution_count": 100,
     "metadata": {},
     "output_type": "execute_result"
    }
   ],
   "source": [
    "s5"
   ]
  },
  {
   "cell_type": "code",
   "execution_count": 101,
   "id": "48269ac6-5fe6-45e0-bfaa-b1c49437fa69",
   "metadata": {},
   "outputs": [],
   "source": [
    "l4 = [54,78,56,\"sourav\" , 8856, 55.6]"
   ]
  },
  {
   "cell_type": "code",
   "execution_count": 102,
   "id": "a49cb2d9-c901-4798-90f5-ca3a355da3c9",
   "metadata": {},
   "outputs": [
    {
     "data": {
      "text/plain": [
       "[54, 78, 56, 'sourav', 8856, 55.6]"
      ]
     },
     "execution_count": 102,
     "metadata": {},
     "output_type": "execute_result"
    }
   ],
   "source": [
    "l4"
   ]
  },
  {
   "cell_type": "code",
   "execution_count": 103,
   "id": "01a77fb0-15dc-417f-ac7b-be23245f8195",
   "metadata": {},
   "outputs": [],
   "source": [
    "l = [8,4,5,[4,6,7]]"
   ]
  },
  {
   "cell_type": "code",
   "execution_count": 104,
   "id": "fbc4a900-0f60-42be-8333-01a10ef2f52d",
   "metadata": {},
   "outputs": [],
   "source": [
    "l4.extend(l)"
   ]
  },
  {
   "cell_type": "code",
   "execution_count": 105,
   "id": "78fa6461-5593-409e-a8ed-04d7f29a0a41",
   "metadata": {},
   "outputs": [
    {
     "data": {
      "text/plain": [
       "[54, 78, 56, 'sourav', 8856, 55.6, 8, 4, 5, [4, 6, 7]]"
      ]
     },
     "execution_count": 105,
     "metadata": {},
     "output_type": "execute_result"
    }
   ],
   "source": [
    "l4"
   ]
  },
  {
   "cell_type": "code",
   "execution_count": null,
   "id": "72ff454e-a17c-4a13-8b80-554d31d6a42c",
   "metadata": {},
   "outputs": [],
   "source": []
  },
  {
   "cell_type": "code",
   "execution_count": null,
   "id": "a0f28c80-0ce2-444c-84e0-c91271b274b2",
   "metadata": {},
   "outputs": [],
   "source": []
  }
 ],
 "metadata": {
  "kernelspec": {
   "display_name": "Python 3 (ipykernel)",
   "language": "python",
   "name": "python3"
  },
  "language_info": {
   "codemirror_mode": {
    "name": "ipython",
    "version": 3
   },
   "file_extension": ".py",
   "mimetype": "text/x-python",
   "name": "python",
   "nbconvert_exporter": "python",
   "pygments_lexer": "ipython3",
   "version": "3.10.8"
  }
 },
 "nbformat": 4,
 "nbformat_minor": 5
}
